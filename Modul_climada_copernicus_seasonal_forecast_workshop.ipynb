{
  "cells": [
    {
      "attachments": {},
      "cell_type": "markdown",
      "metadata": {
        "id": "EYRKcO8J7zbp"
      },
      "source": [
        "<img src=\"https://github.com/DahyannAraya/climada_copernicus_seasonal_forecast_workshop/blob/main/images/Logos.png?raw=1\" title=\"Institutional Logos\" width=\"70%\">"
      ]
    },
    {
      "attachments": {},
      "cell_type": "markdown",
      "metadata": {
        "id": "LJTZSKea7zbr"
      },
      "source": [
        "## Copernicus Seasonal Forecast Module\n",
        "\n",
        "This module is developed to manage seasonal forecast data from the [Copernicus Climate Data Store](https://cds.climate.copernicus.eu) (CDS) for the [U-CLIMADAPT project](https://www.copernicus-user-uptake.eu/user-uptake/details/responding-to-the-impact-of-climate-change-u-climadapt-488).\n",
        "It offers comprehensive tools for downloading, processing, computing climate indices, and generating hazard objects based on seasonal forecast datasets, particularly [Seasonal forecast daily and subdaily data on single levels](https://cds.climate.copernicus.eu/datasets/seasonal-original-single-levels?tab=overview).\n",
        "The module is tailored to integrate seamlessly with the [CLIMADA](https://climada.ethz.ch/)(CLIMate ADAptation) platform, supporting climate risk assessment and the development of effective adaptation strategies.\n",
        "\n",
        "Features:\n",
        "- Download seasonal forecast data from CDS\n",
        "- Process raw data into climate indices\n",
        "- Calculate various heat-related indices (e.g., Maximum Temperature, Tropical Nights)\n",
        "- Create CLIMADA Hazard objects for further risk analysis\n",
        "- Visualize hazard data\n",
        "\n",
        "Prerequisites:\n",
        "\n",
        "1. CDS account and API key:\n",
        "   Register at https://cds.climate.copernicus.eu\n",
        "\n",
        "2. CDS API client installation:\n",
        "   pip install cdsapi\n",
        "\n",
        "3. CDS API configuration:\n",
        "   Create a .cdsapirc file in your home directory with your API key and URL.\n",
        "   For instructions, visit: https://cds.climate.copernicus.eu/how-to-api#install-the-cds-api-client\n",
        "\n",
        "4. Dataset Terms and Conditions: After selecting the dataset to download, make\n",
        "   sure to accept the terms and conditions on the corresponding dataset webpage in the CDS portal before running this notebook. Here, https://cds.climate.copernicus.eu/datasets/seasonal-original-single-levels?tab=download.\n",
        "\n",
        "Usage:\n",
        "This module is typically imported and used within larger scripts or applications for climate data processing\n",
        "and risk assessment. See individual function docstrings for specific usage instructions.\n",
        "\n",
        "**Note**:\n",
        "Ensure you have the **necessary permissions** and comply with the CDS data usage policies when using this module. You can view the terms and conditions at https://cds.climate.copernicus.eu/datasets/seasonal-original-single-levels?tab=download. You can find them at the bottom of the download page."
      ]
    },
    {
      "attachments": {},
      "cell_type": "markdown",
      "metadata": {
        "id": "l6K_Fduv7zbs"
      },
      "source": [
        "### Setup and Installation (Google Colab Only)\n",
        "\n",
        "This section installs and configures all necessary dependencies for running the seasonal forecast module in Google Colab. If you are running this notebook locally, you should install these dependencies manually in your environment instead.\n",
        "Installed Dependencies:\n",
        "\n",
        "    - cdsapi: For accessing the Copernicus Climate Data Store (CDS)\n",
        "    - climada and climada-petals: For climate impact analysis\n",
        "    - The seasonal forecast module: For processing and analyzing seasonal forecasts\n",
        "\n"
      ]
    },
    {
      "attachments": {},
      "cell_type": "markdown",
      "metadata": {
        "id": "fFjhh-bU7zbs"
      },
      "source": [
        "#### Install Copernicus Climate Data Store (CDS) API"
      ]
    },
    {
      "cell_type": "code",
      "execution_count": null,
      "metadata": {
        "colab": {
          "base_uri": "https://localhost:8080/"
        },
        "id": "3lEm2YIz-Gzf",
        "outputId": "dd53d475-49ff-485c-aa04-5f1df0a0b225"
      },
      "outputs": [
        {
          "name": "stdout",
          "output_type": "stream",
          "text": [
            "url: https://cds.climate.copernicus.eu/api\n",
            "key: 5df55c41-98f3-4e60-b751-9c8cd43e90c7\n"
          ]
        }
      ],
      "source": [
        "# Configure Copernicus API credentials (FOR DEMONSTRATION ONLY)\n",
        "# ⚠️ This API key is temporary and will not be available after this session.\n",
        "# If you already have your own CDS key, replace it and use it here.\n",
        "# To access data from the Copernicus Climate Data Store (CDS), you must use your personal API key.\n",
        "# Register at https://cds.climate.copernicus.eu and follow the setup instructions to obtain your key.\n",
        "\n",
        "url = 'url: https://cds.climate.copernicus.eu/api'\n",
        "key = 'key: 5df55c41-98f3-4e60-b751-9c8cd43e90c7'\n",
        "\n",
        "with open('/root/.cdsapirc', 'w') as f:\n",
        "    f.write('\\n'.join([url, key]))\n",
        "\n",
        "with open('/root/.cdsapirc') as f:\n",
        "    print(f.read())"
      ]
    },
    {
      "cell_type": "code",
      "execution_count": null,
      "metadata": {
        "colab": {
          "base_uri": "https://localhost:8080/"
        },
        "id": "G_FQhQ_F-GnJ",
        "outputId": "86318cce-78a7-4c23-ad47-de023627db92"
      },
      "outputs": [
        {
          "name": "stdout",
          "output_type": "stream",
          "text": [
            "Collecting cdsapi>=0.7.4\n",
            "  Downloading cdsapi-0.7.5-py2.py3-none-any.whl.metadata (2.9 kB)\n",
            "Collecting datapi (from cdsapi>=0.7.4)\n",
            "  Downloading datapi-0.3.0-py3-none-any.whl.metadata (20 kB)\n",
            "Requirement already satisfied: requests>=2.5.0 in /usr/local/lib/python3.11/dist-packages (from cdsapi>=0.7.4) (2.32.3)\n",
            "Requirement already satisfied: tqdm in /usr/local/lib/python3.11/dist-packages (from cdsapi>=0.7.4) (4.67.1)\n",
            "Requirement already satisfied: charset-normalizer<4,>=2 in /usr/local/lib/python3.11/dist-packages (from requests>=2.5.0->cdsapi>=0.7.4) (3.4.1)\n",
            "Requirement already satisfied: idna<4,>=2.5 in /usr/local/lib/python3.11/dist-packages (from requests>=2.5.0->cdsapi>=0.7.4) (3.10)\n",
            "Requirement already satisfied: urllib3<3,>=1.21.1 in /usr/local/lib/python3.11/dist-packages (from requests>=2.5.0->cdsapi>=0.7.4) (2.3.0)\n",
            "Requirement already satisfied: certifi>=2017.4.17 in /usr/local/lib/python3.11/dist-packages (from requests>=2.5.0->cdsapi>=0.7.4) (2025.1.31)\n",
            "Requirement already satisfied: attrs in /usr/local/lib/python3.11/dist-packages (from datapi->cdsapi>=0.7.4) (25.3.0)\n",
            "Collecting multiurl>=0.3.2 (from datapi->cdsapi>=0.7.4)\n",
            "  Downloading multiurl-0.3.5-py3-none-any.whl.metadata (2.8 kB)\n",
            "Requirement already satisfied: typing-extensions in /usr/local/lib/python3.11/dist-packages (from datapi->cdsapi>=0.7.4) (4.12.2)\n",
            "Requirement already satisfied: pytz in /usr/local/lib/python3.11/dist-packages (from multiurl>=0.3.2->datapi->cdsapi>=0.7.4) (2025.1)\n",
            "Requirement already satisfied: python-dateutil in /usr/local/lib/python3.11/dist-packages (from multiurl>=0.3.2->datapi->cdsapi>=0.7.4) (2.8.2)\n",
            "Requirement already satisfied: six>=1.5 in /usr/local/lib/python3.11/dist-packages (from python-dateutil->multiurl>=0.3.2->datapi->cdsapi>=0.7.4) (1.17.0)\n",
            "Downloading cdsapi-0.7.5-py2.py3-none-any.whl (12 kB)\n",
            "Downloading datapi-0.3.0-py3-none-any.whl (28 kB)\n",
            "Downloading multiurl-0.3.5-py3-none-any.whl (21 kB)\n",
            "Installing collected packages: multiurl, datapi, cdsapi\n",
            "Successfully installed cdsapi-0.7.5 datapi-0.3.0 multiurl-0.3.5\n"
          ]
        }
      ],
      "source": [
        "!pip install \"cdsapi>=0.7.4\""
      ]
    },
    {
      "cell_type": "code",
      "execution_count": null,
      "metadata": {
        "colab": {
          "base_uri": "https://localhost:8080/"
        },
        "id": "zY2AnA_f-G87",
        "outputId": "18da07f6-f803-44e7-b22b-1a672205b198"
      },
      "outputs": [
        {
          "name": "stderr",
          "output_type": "stream",
          "text": [
            "2025-03-21 14:18:23,709 DEBUG GET https://cds.climate.copernicus.eu/api/catalogue/v1/messages\n",
            "DEBUG:datapi.legacy_api_client:GET https://cds.climate.copernicus.eu/api/catalogue/v1/messages\n",
            "2025-03-21 14:18:24,412 DEBUG REPLY {\"messages\":[{\"id\":\"sites/cds/2024/2024-03-01-production-keycloak.md\",\"date\":\"2024-09-26T00:00:00\",\"summary\":null,\"url\":null,\"severity\":\"info\",\"content\":\"Watch our [Forum](https://forum.ecmwf.int/) for Announcements, news and other discussed topics.\",\"live\":true},{\"id\":\"sites/cds/2024/2024-06-17-beta-warning1.md\",\"date\":\"2024-06-16T00:00:00\",\"summary\":null,\"url\":null,\"severity\":\"warning\",\"content\":\"CDS API syntax is changed and some keys or parameter names may have also changed. To avoid requests failing, please use the \\\"Show API request code\\\" tool on the dataset Download Form to check you are using the correct syntax for your API request.\",\"live\":true}]}\n",
            "DEBUG:datapi.legacy_api_client:REPLY {\"messages\":[{\"id\":\"sites/cds/2024/2024-03-01-production-keycloak.md\",\"date\":\"2024-09-26T00:00:00\",\"summary\":null,\"url\":null,\"severity\":\"info\",\"content\":\"Watch our [Forum](https://forum.ecmwf.int/) for Announcements, news and other discussed topics.\",\"live\":true},{\"id\":\"sites/cds/2024/2024-06-17-beta-warning1.md\",\"date\":\"2024-06-16T00:00:00\",\"summary\":null,\"url\":null,\"severity\":\"warning\",\"content\":\"CDS API syntax is changed and some keys or parameter names may have also changed. To avoid requests failing, please use the \\\"Show API request code\\\" tool on the dataset Download Form to check you are using the correct syntax for your API request.\",\"live\":true}]}\n",
            "2025-03-21 14:18:24,415 INFO [2024-09-26T00:00:00] Watch our [Forum](https://forum.ecmwf.int/) for Announcements, news and other discussed topics.\n",
            "INFO:datapi.legacy_api_client:[2024-09-26T00:00:00] Watch our [Forum](https://forum.ecmwf.int/) for Announcements, news and other discussed topics.\n",
            "2025-03-21 14:18:24,416 WARNING [2024-06-16T00:00:00] CDS API syntax is changed and some keys or parameter names may have also changed. To avoid requests failing, please use the \"Show API request code\" tool on the dataset Download Form to check you are using the correct syntax for your API request.\n",
            "WARNING:datapi.legacy_api_client:[2024-06-16T00:00:00] CDS API syntax is changed and some keys or parameter names may have also changed. To avoid requests failing, please use the \"Show API request code\" tool on the dataset Download Form to check you are using the correct syntax for your API request.\n",
            "2025-03-21 14:18:24,418 DEBUG CDSAPI {'url': 'https://cds.climate.copernicus.eu/api', 'key': '5df55c41-98f3-4e60-b751-9c8cd43e90c7', 'quiet': False, 'verify': True, 'timeout': 60, 'progress': True, 'sleep_max': 120, 'retry_max': 500, 'delete': False, 'datapi_version': '0.3.0'}\n",
            "DEBUG:datapi.legacy_api_client:CDSAPI {'url': 'https://cds.climate.copernicus.eu/api', 'key': '5df55c41-98f3-4e60-b751-9c8cd43e90c7', 'quiet': False, 'verify': True, 'timeout': 60, 'progress': True, 'sleep_max': 120, 'retry_max': 500, 'delete': False, 'datapi_version': '0.3.0'}\n"
          ]
        }
      ],
      "source": [
        "import cdsapi\n",
        "c = cdsapi.Client(debug=True)"
      ]
    },
    {
      "cell_type": "code",
      "execution_count": null,
      "metadata": {
        "colab": {
          "base_uri": "https://localhost:8080/",
          "height": 259,
          "referenced_widgets": [
            "8875f28dfc1f45a48c6fb3de4ce4a0fa",
            "bf28bf22ae52434886fd881d156aa507",
            "a7456bd476834286b07131ec38e4d566",
            "4ab8e4c44cdf4254863339fac871151d",
            "0d37710513bf4837ad428d46b733b176",
            "8b2f6a25932a43eb83d187ed602b0b8b",
            "3bad2f512c324ae6b7181868556ccf8e",
            "78e02fb76fe948f6a746522d6f4ec128",
            "a12f0863f8494e3cb12f5e362db03ff7",
            "fa5cca7fd34d4a3c96dc1d9fe4d04644",
            "6d80bd085e4d4d2cbb9a64cc9196b972"
          ]
        },
        "id": "nckDwYDc-3B8",
        "outputId": "35b4f08a-ea0c-476e-be59-cfc7f5d7f295"
      },
      "outputs": [
        {
          "name": "stderr",
          "output_type": "stream",
          "text": [
            "2025-03-21 14:18:25,119 INFO [2024-09-26T00:00:00] Watch our [Forum](https://forum.ecmwf.int/) for Announcements, news and other discussed topics.\n",
            "INFO:datapi.legacy_api_client:[2024-09-26T00:00:00] Watch our [Forum](https://forum.ecmwf.int/) for Announcements, news and other discussed topics.\n",
            "2025-03-21 14:18:25,121 WARNING [2024-06-16T00:00:00] CDS API syntax is changed and some keys or parameter names may have also changed. To avoid requests failing, please use the \"Show API request code\" tool on the dataset Download Form to check you are using the correct syntax for your API request.\n",
            "WARNING:datapi.legacy_api_client:[2024-06-16T00:00:00] CDS API syntax is changed and some keys or parameter names may have also changed. To avoid requests failing, please use the \"Show API request code\" tool on the dataset Download Form to check you are using the correct syntax for your API request.\n",
            "2025-03-21 14:18:25,910 INFO Request ID is 38c83c02-4290-423b-b883-0cf89ec60de9\n",
            "INFO:datapi.legacy_api_client:Request ID is 38c83c02-4290-423b-b883-0cf89ec60de9\n",
            "2025-03-21 14:18:27,127 INFO status has been updated to accepted\n",
            "INFO:datapi.legacy_api_client:status has been updated to accepted\n",
            "2025-03-21 14:18:30,192 INFO status has been updated to running\n",
            "INFO:datapi.legacy_api_client:status has been updated to running\n",
            "2025-03-21 14:18:32,949 INFO status has been updated to successful\n",
            "INFO:datapi.legacy_api_client:status has been updated to successful\n"
          ]
        },
        {
          "data": {
            "application/vnd.jupyter.widget-view+json": {
              "model_id": "8875f28dfc1f45a48c6fb3de4ce4a0fa",
              "version_major": 2,
              "version_minor": 0
            },
            "text/plain": [
              "78cf4326bae1c78bb7394803a5713ae3.grib:   0%|          | 0.00/1.98M [00:00<?, ?B/s]"
            ]
          },
          "metadata": {},
          "output_type": "display_data"
        },
        {
          "data": {
            "application/vnd.google.colaboratory.intrinsic+json": {
              "type": "string"
            },
            "text/plain": [
              "'download.grib'"
            ]
          },
          "execution_count": 4,
          "metadata": {},
          "output_type": "execute_result"
        }
      ],
      "source": [
        "import cdsapi\n",
        "\n",
        "client = cdsapi.Client()\n",
        "\n",
        "dataset = 'reanalysis-era5-pressure-levels'\n",
        "request = {\n",
        "  'product_type': ['reanalysis'],\n",
        "  'variable': ['geopotential'],\n",
        "  'year': ['2024'],\n",
        "  'month': ['03'],\n",
        "  'day': ['01'],\n",
        "  'time': ['13:00'],\n",
        "  'pressure_level': ['1000'],\n",
        "  'data_format': 'grib',\n",
        "}\n",
        "target = 'download.grib'\n",
        "\n",
        "client.retrieve(dataset, request, target)"
      ]
    },
    {
      "attachments": {},
      "cell_type": "markdown",
      "metadata": {
        "id": "CEzFYvsO7zbv"
      },
      "source": [
        "#### Install CLIMADA"
      ]
    },
    {
      "cell_type": "code",
      "execution_count": null,
      "metadata": {
        "colab": {
          "base_uri": "https://localhost:8080/"
        },
        "id": "v3OXMPIh_Fj5",
        "outputId": "1d160470-09c0-4eac-d184-350696804f3b"
      },
      "outputs": [
        {
          "name": "stdout",
          "output_type": "stream",
          "text": [
            "Cloning into 'climada_python'...\n",
            "remote: Enumerating objects: 35923, done.\u001b[K\n",
            "remote: Counting objects: 100% (1690/1690), done.\u001b[K\n",
            "remote: Compressing objects: 100% (639/639), done.\u001b[K\n",
            "remote: Total 35923 (delta 1328), reused 1130 (delta 1049), pack-reused 34233 (from 4)\u001b[K\n",
            "Receiving objects: 100% (35923/35923), 199.30 MiB | 22.33 MiB/s, done.\n",
            "Resolving deltas: 100% (26797/26797), done.\n"
          ]
        }
      ],
      "source": [
        "!git clone https://github.com/CLIMADA-project/climada_python.git"
      ]
    },
    {
      "cell_type": "code",
      "execution_count": null,
      "metadata": {
        "colab": {
          "base_uri": "https://localhost:8080/"
        },
        "id": "YJDxSLkZ_Wke",
        "outputId": "0890845c-93ed-4ab8-80e4-25310d72d5a7"
      },
      "outputs": [
        {
          "name": "stdout",
          "output_type": "stream",
          "text": [
            "/content/climada_python\n"
          ]
        }
      ],
      "source": [
        "%cd climada_python"
      ]
    },
    {
      "cell_type": "code",
      "execution_count": null,
      "metadata": {
        "colab": {
          "base_uri": "https://localhost:8080/"
        },
        "id": "SwNHreEcAGyZ",
        "outputId": "da31f9e1-acce-4ddb-9a67-8675149c3afd"
      },
      "outputs": [
        {
          "name": "stdout",
          "output_type": "stream",
          "text": [
            "Obtaining file:///content/climada_python\n",
            "  Installing build dependencies ... \u001b[?25l\u001b[?25hdone\n",
            "  Checking if build backend supports build_editable ... \u001b[?25l\u001b[?25hdone\n",
            "  Getting requirements to build editable ... \u001b[?25l\u001b[?25hdone\n",
            "  Installing backend dependencies ... \u001b[?25l\u001b[?25hdone\n",
            "  Preparing editable metadata (pyproject.toml) ... \u001b[?25l\u001b[?25hdone\n",
            "Collecting bayesian-optimization<2.0 (from climada==6.0.1)\n",
            "  Downloading bayesian_optimization-1.5.1-py3-none-any.whl.metadata (16 kB)\n",
            "Requirement already satisfied: bottleneck in /usr/local/lib/python3.11/dist-packages (from climada==6.0.1) (1.4.2)\n",
            "Collecting cartopy (from climada==6.0.1)\n",
            "  Downloading Cartopy-0.24.1-cp311-cp311-manylinux_2_17_x86_64.manylinux2014_x86_64.whl.metadata (7.9 kB)\n",
            "Collecting cfgrib (from climada==6.0.1)\n",
            "  Downloading cfgrib-0.9.15.0-py3-none-any.whl.metadata (55 kB)\n",
            "\u001b[2K     \u001b[90m━━━━━━━━━━━━━━━━━━━━━━━━━━━━━━━━━━━━━━━━\u001b[0m \u001b[32m55.5/55.5 kB\u001b[0m \u001b[31m2.0 MB/s\u001b[0m eta \u001b[36m0:00:00\u001b[0m\n",
            "\u001b[?25hCollecting contextily (from climada==6.0.1)\n",
            "  Downloading contextily-1.6.2-py3-none-any.whl.metadata (2.9 kB)\n",
            "Requirement already satisfied: dask in /usr/local/lib/python3.11/dist-packages (from climada==6.0.1) (2024.12.1)\n",
            "Collecting deprecation (from climada==6.0.1)\n",
            "  Downloading deprecation-2.1.0-py2.py3-none-any.whl.metadata (4.6 kB)\n",
            "Requirement already satisfied: geopandas in /usr/local/lib/python3.11/dist-packages (from climada==6.0.1) (1.0.1)\n",
            "Requirement already satisfied: h5py in /usr/local/lib/python3.11/dist-packages (from climada==6.0.1) (3.13.0)\n",
            "Collecting haversine (from climada==6.0.1)\n",
            "  Downloading haversine-2.9.0-py2.py3-none-any.whl.metadata (5.8 kB)\n",
            "Requirement already satisfied: matplotlib in /usr/local/lib/python3.11/dist-packages (from climada==6.0.1) (3.10.0)\n",
            "Collecting netcdf4 (from climada==6.0.1)\n",
            "  Downloading netCDF4-1.7.2-cp311-cp311-manylinux_2_17_x86_64.manylinux2014_x86_64.whl.metadata (1.8 kB)\n",
            "Requirement already satisfied: numba in /usr/local/lib/python3.11/dist-packages (from climada==6.0.1) (0.60.0)\n",
            "Requirement already satisfied: openpyxl in /usr/local/lib/python3.11/dist-packages (from climada==6.0.1) (3.1.5)\n",
            "Collecting overpy (from climada==6.0.1)\n",
            "  Downloading overpy-0.7-py3-none-any.whl.metadata (3.5 kB)\n",
            "Requirement already satisfied: pandas in /usr/local/lib/python3.11/dist-packages (from climada==6.0.1) (2.2.2)\n",
            "Requirement already satisfied: pandas-datareader in /usr/local/lib/python3.11/dist-packages (from climada==6.0.1) (0.10.0)\n",
            "Collecting pathos (from climada==6.0.1)\n",
            "  Downloading pathos-0.3.3-py3-none-any.whl.metadata (11 kB)\n",
            "Requirement already satisfied: peewee in /usr/local/lib/python3.11/dist-packages (from climada==6.0.1) (3.17.9)\n",
            "Requirement already satisfied: pillow in /usr/local/lib/python3.11/dist-packages (from climada==6.0.1) (11.1.0)\n",
            "Collecting pint (from climada==6.0.1)\n",
            "  Downloading Pint-0.24.4-py3-none-any.whl.metadata (8.5 kB)\n",
            "Collecting pycountry (from climada==6.0.1)\n",
            "  Downloading pycountry-24.6.1-py3-none-any.whl.metadata (12 kB)\n",
            "Requirement already satisfied: pyproj in /usr/local/lib/python3.11/dist-packages (from climada==6.0.1) (3.7.1)\n",
            "Collecting rasterio (from climada==6.0.1)\n",
            "  Downloading rasterio-1.4.3-cp311-cp311-manylinux_2_17_x86_64.manylinux2014_x86_64.whl.metadata (9.1 kB)\n",
            "Collecting salib (from climada==6.0.1)\n",
            "  Downloading salib-1.5.1-py3-none-any.whl.metadata (11 kB)\n",
            "Requirement already satisfied: scikit-learn in /usr/local/lib/python3.11/dist-packages (from climada==6.0.1) (1.6.1)\n",
            "Requirement already satisfied: seaborn in /usr/local/lib/python3.11/dist-packages (from climada==6.0.1) (0.13.2)\n",
            "Requirement already satisfied: statsmodels in /usr/local/lib/python3.11/dist-packages (from climada==6.0.1) (0.14.4)\n",
            "Collecting sparse (from climada==6.0.1)\n",
            "  Downloading sparse-0.15.5-py2.py3-none-any.whl.metadata (4.4 kB)\n",
            "Requirement already satisfied: tables in /usr/local/lib/python3.11/dist-packages (from climada==6.0.1) (3.10.2)\n",
            "Requirement already satisfied: tabulate in /usr/local/lib/python3.11/dist-packages (from climada==6.0.1) (0.9.0)\n",
            "Requirement already satisfied: tqdm in /usr/local/lib/python3.11/dist-packages (from climada==6.0.1) (4.67.1)\n",
            "Requirement already satisfied: xarray in /usr/local/lib/python3.11/dist-packages (from climada==6.0.1) (2025.1.2)\n",
            "Requirement already satisfied: xlrd in /usr/local/lib/python3.11/dist-packages (from climada==6.0.1) (2.0.1)\n",
            "Collecting xlsxwriter (from climada==6.0.1)\n",
            "  Downloading XlsxWriter-3.2.2-py3-none-any.whl.metadata (2.8 kB)\n",
            "Collecting colorama<0.5.0,>=0.4.6 (from bayesian-optimization<2.0->climada==6.0.1)\n",
            "  Downloading colorama-0.4.6-py2.py3-none-any.whl.metadata (17 kB)\n",
            "Requirement already satisfied: numpy>=1.25 in /usr/local/lib/python3.11/dist-packages (from bayesian-optimization<2.0->climada==6.0.1) (2.0.2)\n",
            "Requirement already satisfied: scipy<2.0.0,>=1.0.0 in /usr/local/lib/python3.11/dist-packages (from bayesian-optimization<2.0->climada==6.0.1) (1.14.1)\n",
            "Requirement already satisfied: joblib>=1.2.0 in /usr/local/lib/python3.11/dist-packages (from scikit-learn->climada==6.0.1) (1.4.2)\n",
            "Requirement already satisfied: threadpoolctl>=3.1.0 in /usr/local/lib/python3.11/dist-packages (from scikit-learn->climada==6.0.1) (3.6.0)\n",
            "Requirement already satisfied: shapely>=1.8 in /usr/local/lib/python3.11/dist-packages (from cartopy->climada==6.0.1) (2.0.7)\n",
            "Requirement already satisfied: packaging>=21 in /usr/local/lib/python3.11/dist-packages (from cartopy->climada==6.0.1) (24.2)\n",
            "Requirement already satisfied: pyshp>=2.3 in /usr/local/lib/python3.11/dist-packages (from cartopy->climada==6.0.1) (2.3.1)\n",
            "Requirement already satisfied: contourpy>=1.0.1 in /usr/local/lib/python3.11/dist-packages (from matplotlib->climada==6.0.1) (1.3.1)\n",
            "Requirement already satisfied: cycler>=0.10 in /usr/local/lib/python3.11/dist-packages (from matplotlib->climada==6.0.1) (0.12.1)\n",
            "Requirement already satisfied: fonttools>=4.22.0 in /usr/local/lib/python3.11/dist-packages (from matplotlib->climada==6.0.1) (4.56.0)\n",
            "Requirement already satisfied: kiwisolver>=1.3.1 in /usr/local/lib/python3.11/dist-packages (from matplotlib->climada==6.0.1) (1.4.8)\n",
            "Requirement already satisfied: pyparsing>=2.3.1 in /usr/local/lib/python3.11/dist-packages (from matplotlib->climada==6.0.1) (3.2.1)\n",
            "Requirement already satisfied: python-dateutil>=2.7 in /usr/local/lib/python3.11/dist-packages (from matplotlib->climada==6.0.1) (2.8.2)\n",
            "Requirement already satisfied: certifi in /usr/local/lib/python3.11/dist-packages (from pyproj->climada==6.0.1) (2025.1.31)\n",
            "Requirement already satisfied: attrs>=19.2 in /usr/local/lib/python3.11/dist-packages (from cfgrib->climada==6.0.1) (25.3.0)\n",
            "Requirement already satisfied: click in /usr/local/lib/python3.11/dist-packages (from cfgrib->climada==6.0.1) (8.1.8)\n",
            "Collecting eccodes>=0.9.8 (from cfgrib->climada==6.0.1)\n",
            "  Downloading eccodes-2.40.1-cp311-cp311-manylinux_2_28_x86_64.whl.metadata (14 kB)\n",
            "Requirement already satisfied: geopy in /usr/local/lib/python3.11/dist-packages (from contextily->climada==6.0.1) (2.4.1)\n",
            "Collecting mercantile (from contextily->climada==6.0.1)\n",
            "  Downloading mercantile-1.2.1-py3-none-any.whl.metadata (4.8 kB)\n",
            "Requirement already satisfied: requests in /usr/local/lib/python3.11/dist-packages (from contextily->climada==6.0.1) (2.32.3)\n",
            "Requirement already satisfied: xyzservices in /usr/local/lib/python3.11/dist-packages (from contextily->climada==6.0.1) (2025.1.0)\n",
            "Requirement already satisfied: cloudpickle>=3.0.0 in /usr/local/lib/python3.11/dist-packages (from dask->climada==6.0.1) (3.1.1)\n",
            "Requirement already satisfied: fsspec>=2021.09.0 in /usr/local/lib/python3.11/dist-packages (from dask->climada==6.0.1) (2025.3.0)\n",
            "Requirement already satisfied: partd>=1.4.0 in /usr/local/lib/python3.11/dist-packages (from dask->climada==6.0.1) (1.4.2)\n",
            "Requirement already satisfied: pyyaml>=5.3.1 in /usr/local/lib/python3.11/dist-packages (from dask->climada==6.0.1) (6.0.2)\n",
            "Requirement already satisfied: toolz>=0.10.0 in /usr/local/lib/python3.11/dist-packages (from dask->climada==6.0.1) (0.12.1)\n",
            "Requirement already satisfied: importlib_metadata>=4.13.0 in /usr/local/lib/python3.11/dist-packages (from dask->climada==6.0.1) (8.6.1)\n",
            "Requirement already satisfied: pyogrio>=0.7.2 in /usr/local/lib/python3.11/dist-packages (from geopandas->climada==6.0.1) (0.10.0)\n",
            "Requirement already satisfied: pytz>=2020.1 in /usr/local/lib/python3.11/dist-packages (from pandas->climada==6.0.1) (2025.1)\n",
            "Requirement already satisfied: tzdata>=2022.7 in /usr/local/lib/python3.11/dist-packages (from pandas->climada==6.0.1) (2025.1)\n",
            "Collecting cftime (from netcdf4->climada==6.0.1)\n",
            "  Downloading cftime-1.6.4.post1-cp311-cp311-manylinux_2_17_x86_64.manylinux2014_x86_64.whl.metadata (8.7 kB)\n",
            "Requirement already satisfied: llvmlite<0.44,>=0.43.0dev0 in /usr/local/lib/python3.11/dist-packages (from numba->climada==6.0.1) (0.43.0)\n",
            "Requirement already satisfied: et-xmlfile in /usr/local/lib/python3.11/dist-packages (from openpyxl->climada==6.0.1) (2.0.0)\n",
            "Requirement already satisfied: lxml in /usr/local/lib/python3.11/dist-packages (from pandas-datareader->climada==6.0.1) (5.3.1)\n",
            "Collecting ppft>=1.7.6.9 (from pathos->climada==6.0.1)\n",
            "  Downloading ppft-1.7.6.9-py3-none-any.whl.metadata (12 kB)\n",
            "Collecting dill>=0.3.9 (from pathos->climada==6.0.1)\n",
            "  Downloading dill-0.3.9-py3-none-any.whl.metadata (10 kB)\n",
            "Collecting pox>=0.3.5 (from pathos->climada==6.0.1)\n",
            "  Downloading pox-0.3.5-py3-none-any.whl.metadata (8.0 kB)\n",
            "Collecting multiprocess>=0.70.17 (from pathos->climada==6.0.1)\n",
            "  Downloading multiprocess-0.70.17-py311-none-any.whl.metadata (7.2 kB)\n",
            "Requirement already satisfied: platformdirs>=2.1.0 in /usr/local/lib/python3.11/dist-packages (from pint->climada==6.0.1) (4.3.6)\n",
            "Requirement already satisfied: typing-extensions>=4.0.0 in /usr/local/lib/python3.11/dist-packages (from pint->climada==6.0.1) (4.12.2)\n",
            "Collecting flexcache>=0.3 (from pint->climada==6.0.1)\n",
            "  Downloading flexcache-0.3-py3-none-any.whl.metadata (7.0 kB)\n",
            "Collecting flexparser>=0.4 (from pint->climada==6.0.1)\n",
            "  Downloading flexparser-0.4-py3-none-any.whl.metadata (18 kB)\n",
            "Collecting affine (from rasterio->climada==6.0.1)\n",
            "  Downloading affine-2.4.0-py3-none-any.whl.metadata (4.0 kB)\n",
            "Collecting cligj>=0.5 (from rasterio->climada==6.0.1)\n",
            "  Downloading cligj-0.7.2-py3-none-any.whl.metadata (5.0 kB)\n",
            "Collecting click-plugins (from rasterio->climada==6.0.1)\n",
            "  Downloading click_plugins-1.1.1-py2.py3-none-any.whl.metadata (6.4 kB)\n",
            "Requirement already satisfied: patsy>=0.5.6 in /usr/local/lib/python3.11/dist-packages (from statsmodels->climada==6.0.1) (1.0.1)\n",
            "Requirement already satisfied: numexpr>=2.6.2 in /usr/local/lib/python3.11/dist-packages (from tables->climada==6.0.1) (2.10.2)\n",
            "Requirement already satisfied: py-cpuinfo in /usr/local/lib/python3.11/dist-packages (from tables->climada==6.0.1) (9.0.0)\n",
            "Requirement already satisfied: blosc2>=2.3.0 in /usr/local/lib/python3.11/dist-packages (from tables->climada==6.0.1) (3.2.0)\n",
            "Requirement already satisfied: ndindex in /usr/local/lib/python3.11/dist-packages (from blosc2>=2.3.0->tables->climada==6.0.1) (1.9.2)\n",
            "Requirement already satisfied: msgpack in /usr/local/lib/python3.11/dist-packages (from blosc2>=2.3.0->tables->climada==6.0.1) (1.1.0)\n",
            "Requirement already satisfied: cffi in /usr/local/lib/python3.11/dist-packages (from eccodes>=0.9.8->cfgrib->climada==6.0.1) (1.17.1)\n",
            "Collecting findlibs (from eccodes>=0.9.8->cfgrib->climada==6.0.1)\n",
            "  Downloading findlibs-0.1.0-py3-none-any.whl.metadata (3.6 kB)\n",
            "Requirement already satisfied: zipp>=3.20 in /usr/local/lib/python3.11/dist-packages (from importlib_metadata>=4.13.0->dask->climada==6.0.1) (3.21.0)\n",
            "Requirement already satisfied: locket in /usr/local/lib/python3.11/dist-packages (from partd>=1.4.0->dask->climada==6.0.1) (1.0.0)\n",
            "Requirement already satisfied: six>=1.5 in /usr/local/lib/python3.11/dist-packages (from python-dateutil>=2.7->matplotlib->climada==6.0.1) (1.17.0)\n",
            "Requirement already satisfied: charset-normalizer<4,>=2 in /usr/local/lib/python3.11/dist-packages (from requests->contextily->climada==6.0.1) (3.4.1)\n",
            "Requirement already satisfied: idna<4,>=2.5 in /usr/local/lib/python3.11/dist-packages (from requests->contextily->climada==6.0.1) (3.10)\n",
            "Requirement already satisfied: urllib3<3,>=1.21.1 in /usr/local/lib/python3.11/dist-packages (from requests->contextily->climada==6.0.1) (2.3.0)\n",
            "Requirement already satisfied: geographiclib<3,>=1.52 in /usr/local/lib/python3.11/dist-packages (from geopy->contextily->climada==6.0.1) (2.0)\n",
            "Requirement already satisfied: pycparser in /usr/local/lib/python3.11/dist-packages (from cffi->eccodes>=0.9.8->cfgrib->climada==6.0.1) (2.22)\n",
            "Downloading bayesian_optimization-1.5.1-py3-none-any.whl (28 kB)\n",
            "Downloading Cartopy-0.24.1-cp311-cp311-manylinux_2_17_x86_64.manylinux2014_x86_64.whl (11.7 MB)\n",
            "\u001b[2K   \u001b[90m━━━━━━━━━━━━━━━━━━━━━━━━━━━━━━━━━━━━━━━━\u001b[0m \u001b[32m11.7/11.7 MB\u001b[0m \u001b[31m87.8 MB/s\u001b[0m eta \u001b[36m0:00:00\u001b[0m\n",
            "\u001b[?25hDownloading cfgrib-0.9.15.0-py3-none-any.whl (48 kB)\n",
            "\u001b[2K   \u001b[90m━━━━━━━━━━━━━━━━━━━━━━━━━━━━━━━━━━━━━━━━\u001b[0m \u001b[32m48.9/48.9 kB\u001b[0m \u001b[31m3.4 MB/s\u001b[0m eta \u001b[36m0:00:00\u001b[0m\n",
            "\u001b[?25hDownloading contextily-1.6.2-py3-none-any.whl (17 kB)\n",
            "Downloading deprecation-2.1.0-py2.py3-none-any.whl (11 kB)\n",
            "Downloading haversine-2.9.0-py2.py3-none-any.whl (7.7 kB)\n",
            "Downloading netCDF4-1.7.2-cp311-cp311-manylinux_2_17_x86_64.manylinux2014_x86_64.whl (9.3 MB)\n",
            "\u001b[2K   \u001b[90m━━━━━━━━━━━━━━━━━━━━━━━━━━━━━━━━━━━━━━━━\u001b[0m \u001b[32m9.3/9.3 MB\u001b[0m \u001b[31m97.1 MB/s\u001b[0m eta \u001b[36m0:00:00\u001b[0m\n",
            "\u001b[?25hDownloading overpy-0.7-py3-none-any.whl (14 kB)\n",
            "Downloading pathos-0.3.3-py3-none-any.whl (82 kB)\n",
            "\u001b[2K   \u001b[90m━━━━━━━━━━━━━━━━━━━━━━━━━━━━━━━━━━━━━━━━\u001b[0m \u001b[32m82.1/82.1 kB\u001b[0m \u001b[31m6.3 MB/s\u001b[0m eta \u001b[36m0:00:00\u001b[0m\n",
            "\u001b[?25hDownloading Pint-0.24.4-py3-none-any.whl (302 kB)\n",
            "\u001b[2K   \u001b[90m━━━━━━━━━━━━━━━━━━━━━━━━━━━━━━━━━━━━━━━━\u001b[0m \u001b[32m302.0/302.0 kB\u001b[0m \u001b[31m22.3 MB/s\u001b[0m eta \u001b[36m0:00:00\u001b[0m\n",
            "\u001b[?25hDownloading pycountry-24.6.1-py3-none-any.whl (6.3 MB)\n",
            "\u001b[2K   \u001b[90m━━━━━━━━━━━━━━━━━━━━━━━━━━━━━━━━━━━━━━━━\u001b[0m \u001b[32m6.3/6.3 MB\u001b[0m \u001b[31m92.7 MB/s\u001b[0m eta \u001b[36m0:00:00\u001b[0m\n",
            "\u001b[?25hDownloading rasterio-1.4.3-cp311-cp311-manylinux_2_17_x86_64.manylinux2014_x86_64.whl (22.2 MB)\n",
            "\u001b[2K   \u001b[90m━━━━━━━━━━━━━━━━━━━━━━━━━━━━━━━━━━━━━━━━\u001b[0m \u001b[32m22.2/22.2 MB\u001b[0m \u001b[31m75.7 MB/s\u001b[0m eta \u001b[36m0:00:00\u001b[0m\n",
            "\u001b[?25hDownloading salib-1.5.1-py3-none-any.whl (778 kB)\n",
            "\u001b[2K   \u001b[90m━━━━━━━━━━━━━━━━━━━━━━━━━━━━━━━━━━━━━━━━\u001b[0m \u001b[32m778.9/778.9 kB\u001b[0m \u001b[31m38.6 MB/s\u001b[0m eta \u001b[36m0:00:00\u001b[0m\n",
            "\u001b[?25hDownloading sparse-0.15.5-py2.py3-none-any.whl (117 kB)\n",
            "\u001b[2K   \u001b[90m━━━━━━━━━━━━━━━━━━━━━━━━━━━━━━━━━━━━━━━━\u001b[0m \u001b[32m117.4/117.4 kB\u001b[0m \u001b[31m9.2 MB/s\u001b[0m eta \u001b[36m0:00:00\u001b[0m\n",
            "\u001b[?25hDownloading XlsxWriter-3.2.2-py3-none-any.whl (165 kB)\n",
            "\u001b[2K   \u001b[90m━━━━━━━━━━━━━━━━━━━━━━━━━━━━━━━━━━━━━━━━\u001b[0m \u001b[32m165.1/165.1 kB\u001b[0m \u001b[31m13.2 MB/s\u001b[0m eta \u001b[36m0:00:00\u001b[0m\n",
            "\u001b[?25hDownloading cligj-0.7.2-py3-none-any.whl (7.1 kB)\n",
            "Downloading colorama-0.4.6-py2.py3-none-any.whl (25 kB)\n",
            "Downloading dill-0.3.9-py3-none-any.whl (119 kB)\n",
            "\u001b[2K   \u001b[90m━━━━━━━━━━━━━━━━━━━━━━━━━━━━━━━━━━━━━━━━\u001b[0m \u001b[32m119.4/119.4 kB\u001b[0m \u001b[31m9.5 MB/s\u001b[0m eta \u001b[36m0:00:00\u001b[0m\n",
            "\u001b[?25hDownloading eccodes-2.40.1-cp311-cp311-manylinux_2_28_x86_64.whl (7.4 MB)\n",
            "\u001b[2K   \u001b[90m━━━━━━━━━━━━━━━━━━━━━━━━━━━━━━━━━━━━━━━━\u001b[0m \u001b[32m7.4/7.4 MB\u001b[0m \u001b[31m61.2 MB/s\u001b[0m eta \u001b[36m0:00:00\u001b[0m\n",
            "\u001b[?25hDownloading flexcache-0.3-py3-none-any.whl (13 kB)\n",
            "Downloading flexparser-0.4-py3-none-any.whl (27 kB)\n",
            "Downloading multiprocess-0.70.17-py311-none-any.whl (144 kB)\n",
            "\u001b[2K   \u001b[90m━━━━━━━━━━━━━━━━━━━━━━━━━━━━━━━━━━━━━━━━\u001b[0m \u001b[32m144.3/144.3 kB\u001b[0m \u001b[31m11.9 MB/s\u001b[0m eta \u001b[36m0:00:00\u001b[0m\n",
            "\u001b[?25hDownloading pox-0.3.5-py3-none-any.whl (29 kB)\n",
            "Downloading ppft-1.7.6.9-py3-none-any.whl (56 kB)\n",
            "\u001b[2K   \u001b[90m━━━━━━━━━━━━━━━━━━━━━━━━━━━━━━━━━━━━━━━━\u001b[0m \u001b[32m56.8/56.8 kB\u001b[0m \u001b[31m4.6 MB/s\u001b[0m eta \u001b[36m0:00:00\u001b[0m\n",
            "\u001b[?25hDownloading affine-2.4.0-py3-none-any.whl (15 kB)\n",
            "Downloading cftime-1.6.4.post1-cp311-cp311-manylinux_2_17_x86_64.manylinux2014_x86_64.whl (1.4 MB)\n",
            "\u001b[2K   \u001b[90m━━━━━━━━━━━━━━━━━━━━━━━━━━━━━━━━━━━━━━━━\u001b[0m \u001b[32m1.4/1.4 MB\u001b[0m \u001b[31m59.9 MB/s\u001b[0m eta \u001b[36m0:00:00\u001b[0m\n",
            "\u001b[?25hDownloading click_plugins-1.1.1-py2.py3-none-any.whl (7.5 kB)\n",
            "Downloading mercantile-1.2.1-py3-none-any.whl (14 kB)\n",
            "Downloading findlibs-0.1.0-py3-none-any.whl (10 kB)\n",
            "Building wheels for collected packages: climada\n",
            "  Building editable for climada (pyproject.toml) ... \u001b[?25l\u001b[?25hdone\n",
            "  Created wheel for climada: filename=climada-6.0.1-0.editable-py3-none-any.whl size=18847 sha256=37f1f17b45ff04fd4ca10771aaaccbcdb76ed77f0be7a405f66593d3362189ee\n",
            "  Stored in directory: /tmp/pip-ephem-wheel-cache-96e_9t7d/wheels/1d/8b/5c/73a112fe4921aceefa9c417fb6cd8e08075d7ad20c85b2d14c\n",
            "Successfully built climada\n",
            "Installing collected packages: findlibs, xlsxwriter, pycountry, ppft, pox, overpy, mercantile, haversine, flexparser, flexcache, dill, deprecation, colorama, cligj, click-plugins, cftime, affine, sparse, rasterio, pint, netcdf4, multiprocess, eccodes, salib, pathos, contextily, cfgrib, cartopy, bayesian-optimization, climada\n",
            "Successfully installed affine-2.4.0 bayesian-optimization-1.5.1 cartopy-0.24.1 cfgrib-0.9.15.0 cftime-1.6.4.post1 click-plugins-1.1.1 cligj-0.7.2 climada-6.0.1 colorama-0.4.6 contextily-1.6.2 deprecation-2.1.0 dill-0.3.9 eccodes-2.40.1 findlibs-0.1.0 flexcache-0.3 flexparser-0.4 haversine-2.9.0 mercantile-1.2.1 multiprocess-0.70.17 netcdf4-1.7.2 overpy-0.7 pathos-0.3.3 pint-0.24.4 pox-0.3.5 ppft-1.7.6.9 pycountry-24.6.1 rasterio-1.4.3 salib-1.5.1 sparse-0.15.5 xlsxwriter-3.2.2\n"
          ]
        }
      ],
      "source": [
        "!pip install -e ."
      ]
    },
    {
      "attachments": {},
      "cell_type": "markdown",
      "metadata": {
        "id": "0C9XKa267zbw"
      },
      "source": [
        "#### Install the Copernicus Forecast module from the CLIMADA Petals repository"
      ]
    },
    {
      "cell_type": "code",
      "execution_count": null,
      "metadata": {
        "colab": {
          "base_uri": "https://localhost:8080/"
        },
        "id": "DMNDbGzpAX21",
        "outputId": "9d7a975b-7425-4739-a4b5-f58acd802b55"
      },
      "outputs": [
        {
          "name": "stdout",
          "output_type": "stream",
          "text": [
            "Collecting fiona\n",
            "  Downloading fiona-1.10.1-cp311-cp311-manylinux_2_17_x86_64.manylinux2014_x86_64.whl.metadata (56 kB)\n",
            "\u001b[?25l     \u001b[90m━━━━━━━━━━━━━━━━━━━━━━━━━━━━━━━━━━━━━━━━\u001b[0m \u001b[32m0.0/56.6 kB\u001b[0m \u001b[31m?\u001b[0m eta \u001b[36m-:--:--\u001b[0m\r\u001b[2K     \u001b[91m━━━━━━━━━━━━━━━━━━━━━━━━━━━━━━━━━━━━\u001b[0m\u001b[90m╺\u001b[0m\u001b[90m━━━\u001b[0m \u001b[32m51.2/56.6 kB\u001b[0m \u001b[31m18.4 MB/s\u001b[0m eta \u001b[36m0:00:01\u001b[0m\r\u001b[2K     \u001b[90m━━━━━━━━━━━━━━━━━━━━━━━━━━━━━━━━━━━━━━━━\u001b[0m \u001b[32m56.6/56.6 kB\u001b[0m \u001b[31m785.4 kB/s\u001b[0m eta \u001b[36m0:00:00\u001b[0m\n",
            "\u001b[?25hRequirement already satisfied: attrs>=19.2.0 in /usr/local/lib/python3.11/dist-packages (from fiona) (25.3.0)\n",
            "Requirement already satisfied: certifi in /usr/local/lib/python3.11/dist-packages (from fiona) (2025.1.31)\n",
            "Requirement already satisfied: click~=8.0 in /usr/local/lib/python3.11/dist-packages (from fiona) (8.1.8)\n",
            "Requirement already satisfied: click-plugins>=1.0 in /usr/local/lib/python3.11/dist-packages (from fiona) (1.1.1)\n",
            "Requirement already satisfied: cligj>=0.5 in /usr/local/lib/python3.11/dist-packages (from fiona) (0.7.2)\n",
            "Downloading fiona-1.10.1-cp311-cp311-manylinux_2_17_x86_64.manylinux2014_x86_64.whl (17.3 MB)\n",
            "\u001b[2K   \u001b[90m━━━━━━━━━━━━━━━━━━━━━━━━━━━━━━━━━━━━━━━━\u001b[0m \u001b[32m17.3/17.3 MB\u001b[0m \u001b[31m50.3 MB/s\u001b[0m eta \u001b[36m0:00:00\u001b[0m\n",
            "\u001b[?25hInstalling collected packages: fiona\n",
            "Successfully installed fiona-1.10.1\n"
          ]
        }
      ],
      "source": [
        "!pip install fiona"
      ]
    },
    {
      "cell_type": "code",
      "execution_count": null,
      "metadata": {
        "id": "TeH0y0Lw_PRs"
      },
      "outputs": [],
      "source": [
        "import climada\n",
        "\n",
        "# A simple example to test functionality\n",
        "from climada.entity import Exposures\n",
        "from climada.hazard import Hazard"
      ]
    },
    {
      "cell_type": "code",
      "execution_count": null,
      "metadata": {
        "colab": {
          "base_uri": "https://localhost:8080/"
        },
        "id": "ssQ421fJ7zbw",
        "outputId": "500b3c46-92f8-494d-c6c4-bd53420b57e6"
      },
      "outputs": [
        {
          "name": "stdout",
          "output_type": "stream",
          "text": [
            "Cloning into 'climada_petals'...\n",
            "remote: Enumerating objects: 31808, done.\u001b[K\n",
            "remote: Counting objects: 100% (5800/5800), done.\u001b[K\n",
            "remote: Compressing objects: 100% (1007/1007), done.\u001b[K\n",
            "remote: Total 31808 (delta 5375), reused 4829 (delta 4793), pack-reused 26008 (from 2)\u001b[K\n",
            "Receiving objects: 100% (31808/31808), 174.31 MiB | 18.40 MiB/s, done.\n",
            "Resolving deltas: 100% (23660/23660), done.\n"
          ]
        }
      ],
      "source": [
        "!git clone https://github.com/CLIMADA-project/climada_petals.git"
      ]
    },
    {
      "cell_type": "code",
      "execution_count": null,
      "metadata": {
        "colab": {
          "base_uri": "https://localhost:8080/"
        },
        "id": "uC5efkml7zbw",
        "outputId": "4e8235d2-cd63-4d6c-a447-415f26763b93"
      },
      "outputs": [
        {
          "name": "stdout",
          "output_type": "stream",
          "text": [
            "/content/climada_python/climada_petals\n"
          ]
        }
      ],
      "source": [
        "%cd climada_petals"
      ]
    },
    {
      "cell_type": "code",
      "execution_count": null,
      "metadata": {
        "colab": {
          "base_uri": "https://localhost:8080/"
        },
        "id": "BrM--_0u7zbw",
        "outputId": "78d01acb-cd6e-44c1-ca71-7ea08416fd12"
      },
      "outputs": [
        {
          "name": "stdout",
          "output_type": "stream",
          "text": [
            "Obtaining file:///content/climada_python/climada_petals\n",
            "  Installing build dependencies ... \u001b[?25l\u001b[?25hdone\n",
            "  Checking if build backend supports build_editable ... \u001b[?25l\u001b[?25hdone\n",
            "  Getting requirements to build editable ... \u001b[?25l\u001b[?25hdone\n",
            "  Installing backend dependencies ... \u001b[?25l\u001b[?25hdone\n",
            "  Preparing editable metadata (pyproject.toml) ... \u001b[?25l\u001b[?25hdone\n",
            "Collecting boario (from climada_petals==6.0.1)\n",
            "  Downloading boario-0.6.0-py3-none-any.whl.metadata (7.9 kB)\n",
            "Requirement already satisfied: climada>=6.0 in /usr/local/lib/python3.11/dist-packages (from climada_petals==6.0.1) (6.0.1)\n",
            "Requirement already satisfied: cdsapi in /usr/local/lib/python3.11/dist-packages (from climada_petals==6.0.1) (0.7.5)\n",
            "Collecting osm-flex (from climada_petals==6.0.1)\n",
            "  Downloading osm_flex-1.1.1-py3-none-any.whl.metadata (3.9 kB)\n",
            "Collecting pymrio (from climada_petals==6.0.1)\n",
            "  Downloading pymrio-0.5.4.tar.gz (133 kB)\n",
            "\u001b[2K     \u001b[90m━━━━━━━━━━━━━━━━━━━━━━━━━━━━━━━━━━━━━━━━\u001b[0m \u001b[32m133.5/133.5 kB\u001b[0m \u001b[31m2.5 MB/s\u001b[0m eta \u001b[36m0:00:00\u001b[0m\n",
            "\u001b[?25h  Preparing metadata (setup.py) ... \u001b[?25l\u001b[?25hdone\n",
            "Collecting rioxarray (from climada_petals==6.0.1)\n",
            "  Downloading rioxarray-0.18.2-py3-none-any.whl.metadata (5.4 kB)\n",
            "Collecting ruamel.yaml (from climada_petals==6.0.1)\n",
            "  Downloading ruamel.yaml-0.18.10-py3-none-any.whl.metadata (23 kB)\n",
            "Requirement already satisfied: scikit-image in /usr/local/lib/python3.11/dist-packages (from climada_petals==6.0.1) (0.25.2)\n",
            "Collecting xesmf (from climada_petals==6.0.1)\n",
            "  Downloading xesmf-0.8.8-py3-none-any.whl.metadata (3.9 kB)\n",
            "Requirement already satisfied: bayesian-optimization<2.0 in /usr/local/lib/python3.11/dist-packages (from climada>=6.0->climada_petals==6.0.1) (1.5.1)\n",
            "Requirement already satisfied: bottleneck in /usr/local/lib/python3.11/dist-packages (from climada>=6.0->climada_petals==6.0.1) (1.4.2)\n",
            "Requirement already satisfied: cartopy in /usr/local/lib/python3.11/dist-packages (from climada>=6.0->climada_petals==6.0.1) (0.24.1)\n",
            "Requirement already satisfied: cfgrib in /usr/local/lib/python3.11/dist-packages (from climada>=6.0->climada_petals==6.0.1) (0.9.15.0)\n",
            "Requirement already satisfied: contextily in /usr/local/lib/python3.11/dist-packages (from climada>=6.0->climada_petals==6.0.1) (1.6.2)\n",
            "Requirement already satisfied: dask in /usr/local/lib/python3.11/dist-packages (from climada>=6.0->climada_petals==6.0.1) (2024.12.1)\n",
            "Requirement already satisfied: deprecation in /usr/local/lib/python3.11/dist-packages (from climada>=6.0->climada_petals==6.0.1) (2.1.0)\n",
            "Requirement already satisfied: geopandas in /usr/local/lib/python3.11/dist-packages (from climada>=6.0->climada_petals==6.0.1) (1.0.1)\n",
            "Requirement already satisfied: h5py in /usr/local/lib/python3.11/dist-packages (from climada>=6.0->climada_petals==6.0.1) (3.13.0)\n",
            "Requirement already satisfied: haversine in /usr/local/lib/python3.11/dist-packages (from climada>=6.0->climada_petals==6.0.1) (2.9.0)\n",
            "Requirement already satisfied: matplotlib in /usr/local/lib/python3.11/dist-packages (from climada>=6.0->climada_petals==6.0.1) (3.10.0)\n",
            "Requirement already satisfied: netcdf4 in /usr/local/lib/python3.11/dist-packages (from climada>=6.0->climada_petals==6.0.1) (1.7.2)\n",
            "Requirement already satisfied: numba in /usr/local/lib/python3.11/dist-packages (from climada>=6.0->climada_petals==6.0.1) (0.60.0)\n",
            "Requirement already satisfied: openpyxl in /usr/local/lib/python3.11/dist-packages (from climada>=6.0->climada_petals==6.0.1) (3.1.5)\n",
            "Requirement already satisfied: overpy in /usr/local/lib/python3.11/dist-packages (from climada>=6.0->climada_petals==6.0.1) (0.7)\n",
            "Requirement already satisfied: pandas in /usr/local/lib/python3.11/dist-packages (from climada>=6.0->climada_petals==6.0.1) (2.2.2)\n",
            "Requirement already satisfied: pandas-datareader in /usr/local/lib/python3.11/dist-packages (from climada>=6.0->climada_petals==6.0.1) (0.10.0)\n",
            "Requirement already satisfied: pathos in /usr/local/lib/python3.11/dist-packages (from climada>=6.0->climada_petals==6.0.1) (0.3.3)\n",
            "Requirement already satisfied: peewee in /usr/local/lib/python3.11/dist-packages (from climada>=6.0->climada_petals==6.0.1) (3.17.9)\n",
            "Requirement already satisfied: pillow in /usr/local/lib/python3.11/dist-packages (from climada>=6.0->climada_petals==6.0.1) (11.1.0)\n",
            "Requirement already satisfied: pint in /usr/local/lib/python3.11/dist-packages (from climada>=6.0->climada_petals==6.0.1) (0.24.4)\n",
            "Requirement already satisfied: pycountry in /usr/local/lib/python3.11/dist-packages (from climada>=6.0->climada_petals==6.0.1) (24.6.1)\n",
            "Requirement already satisfied: pyproj in /usr/local/lib/python3.11/dist-packages (from climada>=6.0->climada_petals==6.0.1) (3.7.1)\n",
            "Requirement already satisfied: rasterio in /usr/local/lib/python3.11/dist-packages (from climada>=6.0->climada_petals==6.0.1) (1.4.3)\n",
            "Requirement already satisfied: salib in /usr/local/lib/python3.11/dist-packages (from climada>=6.0->climada_petals==6.0.1) (1.5.1)\n",
            "Requirement already satisfied: scikit-learn in /usr/local/lib/python3.11/dist-packages (from climada>=6.0->climada_petals==6.0.1) (1.6.1)\n",
            "Requirement already satisfied: seaborn in /usr/local/lib/python3.11/dist-packages (from climada>=6.0->climada_petals==6.0.1) (0.13.2)\n",
            "Requirement already satisfied: statsmodels in /usr/local/lib/python3.11/dist-packages (from climada>=6.0->climada_petals==6.0.1) (0.14.4)\n",
            "Requirement already satisfied: sparse in /usr/local/lib/python3.11/dist-packages (from climada>=6.0->climada_petals==6.0.1) (0.15.5)\n",
            "Requirement already satisfied: tables in /usr/local/lib/python3.11/dist-packages (from climada>=6.0->climada_petals==6.0.1) (3.10.2)\n",
            "Requirement already satisfied: tabulate in /usr/local/lib/python3.11/dist-packages (from climada>=6.0->climada_petals==6.0.1) (0.9.0)\n",
            "Requirement already satisfied: tqdm in /usr/local/lib/python3.11/dist-packages (from climada>=6.0->climada_petals==6.0.1) (4.67.1)\n",
            "Requirement already satisfied: xarray in /usr/local/lib/python3.11/dist-packages (from climada>=6.0->climada_petals==6.0.1) (2025.1.2)\n",
            "Requirement already satisfied: xlrd in /usr/local/lib/python3.11/dist-packages (from climada>=6.0->climada_petals==6.0.1) (2.0.1)\n",
            "Requirement already satisfied: xlsxwriter in /usr/local/lib/python3.11/dist-packages (from climada>=6.0->climada_petals==6.0.1) (3.2.2)\n",
            "Collecting coloredlogs<16.0.0,>=15.0.1 (from boario->climada_petals==6.0.1)\n",
            "  Downloading coloredlogs-15.0.1-py2.py3-none-any.whl.metadata (12 kB)\n",
            "Collecting country-converter<2.0.0,>=1.0.0 (from boario->climada_petals==6.0.1)\n",
            "  Downloading country_converter-1.3-py3-none-any.whl.metadata (25 kB)\n",
            "Collecting numpy<1.27 (from boario->climada_petals==6.0.1)\n",
            "  Downloading numpy-1.26.4-cp311-cp311-manylinux_2_17_x86_64.manylinux2014_x86_64.whl.metadata (61 kB)\n",
            "\u001b[2K     \u001b[90m━━━━━━━━━━━━━━━━━━━━━━━━━━━━━━━━━━━━━━━━\u001b[0m \u001b[32m61.0/61.0 kB\u001b[0m \u001b[31m4.4 MB/s\u001b[0m eta \u001b[36m0:00:00\u001b[0m\n",
            "\u001b[?25hCollecting odfpy<2.0.0,>=1.4.1 (from boario->climada_petals==6.0.1)\n",
            "  Downloading odfpy-1.4.1.tar.gz (717 kB)\n",
            "\u001b[2K     \u001b[90m━━━━━━━━━━━━━━━━━━━━━━━━━━━━━━━━━━━━━━━━\u001b[0m \u001b[32m717.0/717.0 kB\u001b[0m \u001b[31m17.1 MB/s\u001b[0m eta \u001b[36m0:00:00\u001b[0m\n",
            "\u001b[?25h  Preparing metadata (setup.py) ... \u001b[?25l\u001b[?25hdone\n",
            "Requirement already satisfied: progressbar2<5.0.0,>=4.2.0 in /usr/local/lib/python3.11/dist-packages (from boario->climada_petals==6.0.1) (4.5.0)\n",
            "Requirement already satisfied: pyarrow>=11 in /usr/local/lib/python3.11/dist-packages (from boario->climada_petals==6.0.1) (18.1.0)\n",
            "Requirement already satisfied: requests>=2.18 in /usr/local/lib/python3.11/dist-packages (from pymrio->climada_petals==6.0.1) (2.32.3)\n",
            "Collecting openpyxl (from climada>=6.0->climada_petals==6.0.1)\n",
            "  Downloading openpyxl-3.1.0-py2.py3-none-any.whl.metadata (2.5 kB)\n",
            "Requirement already satisfied: docutils>=0.14 in /usr/local/lib/python3.11/dist-packages (from pymrio->climada_petals==6.0.1) (0.21.2)\n",
            "Collecting faker>=18.4.0 (from pymrio->climada_petals==6.0.1)\n",
            "  Downloading faker-37.0.2-py3-none-any.whl.metadata (15 kB)\n",
            "Requirement already satisfied: datapi in /usr/local/lib/python3.11/dist-packages (from cdsapi->climada_petals==6.0.1) (0.3.0)\n",
            "Requirement already satisfied: gdal in /usr/local/lib/python3.11/dist-packages (from osm-flex->climada_petals==6.0.1) (3.6.4)\n",
            "Requirement already satisfied: shapely>=2.0 in /usr/local/lib/python3.11/dist-packages (from osm-flex->climada_petals==6.0.1) (2.0.7)\n",
            "Requirement already satisfied: packaging in /usr/local/lib/python3.11/dist-packages (from rioxarray->climada_petals==6.0.1) (24.2)\n",
            "Collecting ruamel.yaml.clib>=0.2.7 (from ruamel.yaml->climada_petals==6.0.1)\n",
            "  Downloading ruamel.yaml.clib-0.2.12-cp311-cp311-manylinux_2_17_x86_64.manylinux2014_x86_64.whl.metadata (2.7 kB)\n",
            "Requirement already satisfied: scipy>=1.11.4 in /usr/local/lib/python3.11/dist-packages (from scikit-image->climada_petals==6.0.1) (1.14.1)\n",
            "Requirement already satisfied: networkx>=3.0 in /usr/local/lib/python3.11/dist-packages (from scikit-image->climada_petals==6.0.1) (3.4.2)\n",
            "Requirement already satisfied: imageio!=2.35.0,>=2.33 in /usr/local/lib/python3.11/dist-packages (from scikit-image->climada_petals==6.0.1) (2.37.0)\n",
            "Requirement already satisfied: tifffile>=2022.8.12 in /usr/local/lib/python3.11/dist-packages (from scikit-image->climada_petals==6.0.1) (2025.3.13)\n",
            "Requirement already satisfied: lazy-loader>=0.4 in /usr/local/lib/python3.11/dist-packages (from scikit-image->climada_petals==6.0.1) (0.4)\n",
            "Collecting cf-xarray>=0.5.1 (from xesmf->climada_petals==6.0.1)\n",
            "  Downloading cf_xarray-0.10.4-py3-none-any.whl.metadata (16 kB)\n",
            "Requirement already satisfied: colorama<0.5.0,>=0.4.6 in /usr/local/lib/python3.11/dist-packages (from bayesian-optimization<2.0->climada>=6.0->climada_petals==6.0.1) (0.4.6)\n",
            "Collecting humanfriendly>=9.1 (from coloredlogs<16.0.0,>=15.0.1->boario->climada_petals==6.0.1)\n",
            "  Downloading humanfriendly-10.0-py2.py3-none-any.whl.metadata (9.2 kB)\n",
            "Requirement already satisfied: click>=8.1 in /usr/local/lib/python3.11/dist-packages (from dask->climada>=6.0->climada_petals==6.0.1) (8.1.8)\n",
            "Requirement already satisfied: cloudpickle>=3.0.0 in /usr/local/lib/python3.11/dist-packages (from dask->climada>=6.0->climada_petals==6.0.1) (3.1.1)\n",
            "Requirement already satisfied: fsspec>=2021.09.0 in /usr/local/lib/python3.11/dist-packages (from dask->climada>=6.0->climada_petals==6.0.1) (2025.3.0)\n",
            "Requirement already satisfied: partd>=1.4.0 in /usr/local/lib/python3.11/dist-packages (from dask->climada>=6.0->climada_petals==6.0.1) (1.4.2)\n",
            "Requirement already satisfied: pyyaml>=5.3.1 in /usr/local/lib/python3.11/dist-packages (from dask->climada>=6.0->climada_petals==6.0.1) (6.0.2)\n",
            "Requirement already satisfied: toolz>=0.10.0 in /usr/local/lib/python3.11/dist-packages (from dask->climada>=6.0->climada_petals==6.0.1) (0.12.1)\n",
            "Requirement already satisfied: importlib_metadata>=4.13.0 in /usr/local/lib/python3.11/dist-packages (from dask->climada>=6.0->climada_petals==6.0.1) (8.6.1)\n",
            "Requirement already satisfied: tzdata in /usr/local/lib/python3.11/dist-packages (from faker>=18.4.0->pymrio->climada_petals==6.0.1) (2025.1)\n",
            "Requirement already satisfied: contourpy>=1.0.1 in /usr/local/lib/python3.11/dist-packages (from matplotlib->climada>=6.0->climada_petals==6.0.1) (1.3.1)\n",
            "Requirement already satisfied: cycler>=0.10 in /usr/local/lib/python3.11/dist-packages (from matplotlib->climada>=6.0->climada_petals==6.0.1) (0.12.1)\n",
            "Requirement already satisfied: fonttools>=4.22.0 in /usr/local/lib/python3.11/dist-packages (from matplotlib->climada>=6.0->climada_petals==6.0.1) (4.56.0)\n",
            "Requirement already satisfied: kiwisolver>=1.3.1 in /usr/local/lib/python3.11/dist-packages (from matplotlib->climada>=6.0->climada_petals==6.0.1) (1.4.8)\n",
            "Requirement already satisfied: pyparsing>=2.3.1 in /usr/local/lib/python3.11/dist-packages (from matplotlib->climada>=6.0->climada_petals==6.0.1) (3.2.1)\n",
            "Requirement already satisfied: python-dateutil>=2.7 in /usr/local/lib/python3.11/dist-packages (from matplotlib->climada>=6.0->climada_petals==6.0.1) (2.8.2)\n",
            "Requirement already satisfied: llvmlite<0.44,>=0.43.0dev0 in /usr/local/lib/python3.11/dist-packages (from numba->climada>=6.0->climada_petals==6.0.1) (0.43.0)\n",
            "Requirement already satisfied: defusedxml in /usr/local/lib/python3.11/dist-packages (from odfpy<2.0.0,>=1.4.1->boario->climada_petals==6.0.1) (0.7.1)\n",
            "Requirement already satisfied: et-xmlfile in /usr/local/lib/python3.11/dist-packages (from openpyxl->climada>=6.0->climada_petals==6.0.1) (2.0.0)\n",
            "Requirement already satisfied: pytz>=2020.1 in /usr/local/lib/python3.11/dist-packages (from pandas->climada>=6.0->climada_petals==6.0.1) (2025.1)\n",
            "Requirement already satisfied: python-utils>=3.8.1 in /usr/local/lib/python3.11/dist-packages (from progressbar2<5.0.0,>=4.2.0->boario->climada_petals==6.0.1) (3.9.1)\n",
            "Requirement already satisfied: certifi in /usr/local/lib/python3.11/dist-packages (from pyproj->climada>=6.0->climada_petals==6.0.1) (2025.1.31)\n",
            "Requirement already satisfied: affine in /usr/local/lib/python3.11/dist-packages (from rasterio->climada>=6.0->climada_petals==6.0.1) (2.4.0)\n",
            "Requirement already satisfied: attrs in /usr/local/lib/python3.11/dist-packages (from rasterio->climada>=6.0->climada_petals==6.0.1) (25.3.0)\n",
            "Requirement already satisfied: cligj>=0.5 in /usr/local/lib/python3.11/dist-packages (from rasterio->climada>=6.0->climada_petals==6.0.1) (0.7.2)\n",
            "Requirement already satisfied: click-plugins in /usr/local/lib/python3.11/dist-packages (from rasterio->climada>=6.0->climada_petals==6.0.1) (1.1.1)\n",
            "Requirement already satisfied: charset-normalizer<4,>=2 in /usr/local/lib/python3.11/dist-packages (from requests>=2.18->pymrio->climada_petals==6.0.1) (3.4.1)\n",
            "Requirement already satisfied: idna<4,>=2.5 in /usr/local/lib/python3.11/dist-packages (from requests>=2.18->pymrio->climada_petals==6.0.1) (3.10)\n",
            "Requirement already satisfied: urllib3<3,>=1.21.1 in /usr/local/lib/python3.11/dist-packages (from requests>=2.18->pymrio->climada_petals==6.0.1) (2.3.0)\n",
            "Requirement already satisfied: joblib>=1.2.0 in /usr/local/lib/python3.11/dist-packages (from scikit-learn->climada>=6.0->climada_petals==6.0.1) (1.4.2)\n",
            "Requirement already satisfied: threadpoolctl>=3.1.0 in /usr/local/lib/python3.11/dist-packages (from scikit-learn->climada>=6.0->climada_petals==6.0.1) (3.6.0)\n",
            "Requirement already satisfied: pyshp>=2.3 in /usr/local/lib/python3.11/dist-packages (from cartopy->climada>=6.0->climada_petals==6.0.1) (2.3.1)\n",
            "Requirement already satisfied: eccodes>=0.9.8 in /usr/local/lib/python3.11/dist-packages (from cfgrib->climada>=6.0->climada_petals==6.0.1) (2.40.1)\n",
            "Requirement already satisfied: geopy in /usr/local/lib/python3.11/dist-packages (from contextily->climada>=6.0->climada_petals==6.0.1) (2.4.1)\n",
            "Requirement already satisfied: mercantile in /usr/local/lib/python3.11/dist-packages (from contextily->climada>=6.0->climada_petals==6.0.1) (1.2.1)\n",
            "Requirement already satisfied: xyzservices in /usr/local/lib/python3.11/dist-packages (from contextily->climada>=6.0->climada_petals==6.0.1) (2025.1.0)\n",
            "Requirement already satisfied: multiurl>=0.3.2 in /usr/local/lib/python3.11/dist-packages (from datapi->cdsapi->climada_petals==6.0.1) (0.3.5)\n",
            "Requirement already satisfied: typing-extensions in /usr/local/lib/python3.11/dist-packages (from datapi->cdsapi->climada_petals==6.0.1) (4.12.2)\n",
            "Requirement already satisfied: pyogrio>=0.7.2 in /usr/local/lib/python3.11/dist-packages (from geopandas->climada>=6.0->climada_petals==6.0.1) (0.10.0)\n",
            "Requirement already satisfied: cftime in /usr/local/lib/python3.11/dist-packages (from netcdf4->climada>=6.0->climada_petals==6.0.1) (1.6.4.post1)\n",
            "Requirement already satisfied: lxml in /usr/local/lib/python3.11/dist-packages (from pandas-datareader->climada>=6.0->climada_petals==6.0.1) (5.3.1)\n",
            "Requirement already satisfied: ppft>=1.7.6.9 in /usr/local/lib/python3.11/dist-packages (from pathos->climada>=6.0->climada_petals==6.0.1) (1.7.6.9)\n",
            "Requirement already satisfied: dill>=0.3.9 in /usr/local/lib/python3.11/dist-packages (from pathos->climada>=6.0->climada_petals==6.0.1) (0.3.9)\n",
            "Requirement already satisfied: pox>=0.3.5 in /usr/local/lib/python3.11/dist-packages (from pathos->climada>=6.0->climada_petals==6.0.1) (0.3.5)\n",
            "Requirement already satisfied: multiprocess>=0.70.17 in /usr/local/lib/python3.11/dist-packages (from pathos->climada>=6.0->climada_petals==6.0.1) (0.70.17)\n",
            "Requirement already satisfied: platformdirs>=2.1.0 in /usr/local/lib/python3.11/dist-packages (from pint->climada>=6.0->climada_petals==6.0.1) (4.3.6)\n",
            "Requirement already satisfied: flexcache>=0.3 in /usr/local/lib/python3.11/dist-packages (from pint->climada>=6.0->climada_petals==6.0.1) (0.3)\n",
            "Requirement already satisfied: flexparser>=0.4 in /usr/local/lib/python3.11/dist-packages (from pint->climada>=6.0->climada_petals==6.0.1) (0.4)\n",
            "Requirement already satisfied: patsy>=0.5.6 in /usr/local/lib/python3.11/dist-packages (from statsmodels->climada>=6.0->climada_petals==6.0.1) (1.0.1)\n",
            "Requirement already satisfied: numexpr>=2.6.2 in /usr/local/lib/python3.11/dist-packages (from tables->climada>=6.0->climada_petals==6.0.1) (2.10.2)\n",
            "Requirement already satisfied: py-cpuinfo in /usr/local/lib/python3.11/dist-packages (from tables->climada>=6.0->climada_petals==6.0.1) (9.0.0)\n",
            "Requirement already satisfied: blosc2>=2.3.0 in /usr/local/lib/python3.11/dist-packages (from tables->climada>=6.0->climada_petals==6.0.1) (3.2.0)\n",
            "Requirement already satisfied: ndindex in /usr/local/lib/python3.11/dist-packages (from blosc2>=2.3.0->tables->climada>=6.0->climada_petals==6.0.1) (1.9.2)\n",
            "Requirement already satisfied: msgpack in /usr/local/lib/python3.11/dist-packages (from blosc2>=2.3.0->tables->climada>=6.0->climada_petals==6.0.1) (1.1.0)\n",
            "Requirement already satisfied: cffi in /usr/local/lib/python3.11/dist-packages (from eccodes>=0.9.8->cfgrib->climada>=6.0->climada_petals==6.0.1) (1.17.1)\n",
            "Requirement already satisfied: findlibs in /usr/local/lib/python3.11/dist-packages (from eccodes>=0.9.8->cfgrib->climada>=6.0->climada_petals==6.0.1) (0.1.0)\n",
            "Requirement already satisfied: zipp>=3.20 in /usr/local/lib/python3.11/dist-packages (from importlib_metadata>=4.13.0->dask->climada>=6.0->climada_petals==6.0.1) (3.21.0)\n",
            "Requirement already satisfied: locket in /usr/local/lib/python3.11/dist-packages (from partd>=1.4.0->dask->climada>=6.0->climada_petals==6.0.1) (1.0.0)\n",
            "Requirement already satisfied: six>=1.5 in /usr/local/lib/python3.11/dist-packages (from python-dateutil>=2.7->matplotlib->climada>=6.0->climada_petals==6.0.1) (1.17.0)\n",
            "Requirement already satisfied: geographiclib<3,>=1.52 in /usr/local/lib/python3.11/dist-packages (from geopy->contextily->climada>=6.0->climada_petals==6.0.1) (2.0)\n",
            "Requirement already satisfied: pycparser in /usr/local/lib/python3.11/dist-packages (from cffi->eccodes>=0.9.8->cfgrib->climada>=6.0->climada_petals==6.0.1) (2.22)\n",
            "Downloading boario-0.6.0-py3-none-any.whl (59 kB)\n",
            "\u001b[2K   \u001b[90m━━━━━━━━━━━━━━━━━━━━━━━━━━━━━━━━━━━━━━━━\u001b[0m \u001b[32m60.0/60.0 kB\u001b[0m \u001b[31m4.8 MB/s\u001b[0m eta \u001b[36m0:00:00\u001b[0m\n",
            "\u001b[?25hDownloading osm_flex-1.1.1-py3-none-any.whl (33 kB)\n",
            "Downloading rioxarray-0.18.2-py3-none-any.whl (61 kB)\n",
            "\u001b[2K   \u001b[90m━━━━━━━━━━━━━━━━━━━━━━━━━━━━━━━━━━━━━━━━\u001b[0m \u001b[32m61.9/61.9 kB\u001b[0m \u001b[31m4.8 MB/s\u001b[0m eta \u001b[36m0:00:00\u001b[0m\n",
            "\u001b[?25hDownloading ruamel.yaml-0.18.10-py3-none-any.whl (117 kB)\n",
            "\u001b[2K   \u001b[90m━━━━━━━━━━━━━━━━━━━━━━━━━━━━━━━━━━━━━━━━\u001b[0m \u001b[32m117.7/117.7 kB\u001b[0m \u001b[31m9.6 MB/s\u001b[0m eta \u001b[36m0:00:00\u001b[0m\n",
            "\u001b[?25hDownloading xesmf-0.8.8-py3-none-any.whl (46 kB)\n",
            "\u001b[2K   \u001b[90m━━━━━━━━━━━━━━━━━━━━━━━━━━━━━━━━━━━━━━━━\u001b[0m \u001b[32m46.8/46.8 kB\u001b[0m \u001b[31m3.7 MB/s\u001b[0m eta \u001b[36m0:00:00\u001b[0m\n",
            "\u001b[?25hDownloading cf_xarray-0.10.4-py3-none-any.whl (70 kB)\n",
            "\u001b[2K   \u001b[90m━━━━━━━━━━━━━━━━━━━━━━━━━━━━━━━━━━━━━━━━\u001b[0m \u001b[32m70.9/70.9 kB\u001b[0m \u001b[31m5.6 MB/s\u001b[0m eta \u001b[36m0:00:00\u001b[0m\n",
            "\u001b[?25hDownloading coloredlogs-15.0.1-py2.py3-none-any.whl (46 kB)\n",
            "\u001b[2K   \u001b[90m━━━━━━━━━━━━━━━━━━━━━━━━━━━━━━━━━━━━━━━━\u001b[0m \u001b[32m46.0/46.0 kB\u001b[0m \u001b[31m1.5 MB/s\u001b[0m eta \u001b[36m0:00:00\u001b[0m\n",
            "\u001b[?25hDownloading country_converter-1.3-py3-none-any.whl (47 kB)\n",
            "\u001b[2K   \u001b[90m━━━━━━━━━━━━━━━━━━━━━━━━━━━━━━━━━━━━━━━━\u001b[0m \u001b[32m47.2/47.2 kB\u001b[0m \u001b[31m3.6 MB/s\u001b[0m eta \u001b[36m0:00:00\u001b[0m\n",
            "\u001b[?25hDownloading faker-37.0.2-py3-none-any.whl (1.9 MB)\n",
            "\u001b[2K   \u001b[90m━━━━━━━━━━━━━━━━━━━━━━━━━━━━━━━━━━━━━━━━\u001b[0m \u001b[32m1.9/1.9 MB\u001b[0m \u001b[31m52.5 MB/s\u001b[0m eta \u001b[36m0:00:00\u001b[0m\n",
            "\u001b[?25hDownloading numpy-1.26.4-cp311-cp311-manylinux_2_17_x86_64.manylinux2014_x86_64.whl (18.3 MB)\n",
            "\u001b[2K   \u001b[90m━━━━━━━━━━━━━━━━━━━━━━━━━━━━━━━━━━━━━━━━\u001b[0m \u001b[32m18.3/18.3 MB\u001b[0m \u001b[31m78.3 MB/s\u001b[0m eta \u001b[36m0:00:00\u001b[0m\n",
            "\u001b[?25hDownloading openpyxl-3.1.0-py2.py3-none-any.whl (250 kB)\n",
            "\u001b[2K   \u001b[90m━━━━━━━━━━━━━━━━━━━━━━━━━━━━━━━━━━━━━━━━\u001b[0m \u001b[32m250.0/250.0 kB\u001b[0m \u001b[31m19.8 MB/s\u001b[0m eta \u001b[36m0:00:00\u001b[0m\n",
            "\u001b[?25hDownloading ruamel.yaml.clib-0.2.12-cp311-cp311-manylinux_2_17_x86_64.manylinux2014_x86_64.whl (739 kB)\n",
            "\u001b[2K   \u001b[90m━━━━━━━━━━━━━━━━━━━━━━━━━━━━━━━━━━━━━━━━\u001b[0m \u001b[32m739.1/739.1 kB\u001b[0m \u001b[31m41.2 MB/s\u001b[0m eta \u001b[36m0:00:00\u001b[0m\n",
            "\u001b[?25hDownloading humanfriendly-10.0-py2.py3-none-any.whl (86 kB)\n",
            "\u001b[2K   \u001b[90m━━━━━━━━━━━━━━━━━━━━━━━━━━━━━━━━━━━━━━━━\u001b[0m \u001b[32m86.8/86.8 kB\u001b[0m \u001b[31m7.3 MB/s\u001b[0m eta \u001b[36m0:00:00\u001b[0m\n",
            "\u001b[?25hBuilding wheels for collected packages: climada_petals, pymrio, odfpy\n",
            "  Building editable for climada_petals (pyproject.toml) ... \u001b[?25l\u001b[?25hdone\n",
            "  Created wheel for climada_petals: filename=climada_petals-6.0.1-0.editable-py3-none-any.whl size=18381 sha256=096eac44b94179b7e147be8d6385e4127005f3a6233e5ff8ddf6d516316732e3\n",
            "  Stored in directory: /tmp/pip-ephem-wheel-cache-41j1oawl/wheels/bf/23/47/50d30f9a06507d07d4eb416851cb9beebb5cf7f55fa529bf1a\n",
            "  Building wheel for pymrio (setup.py) ... \u001b[?25l\u001b[?25hdone\n",
            "  Created wheel for pymrio: filename=pymrio-0.5.4-py3-none-any.whl size=140078 sha256=ed88b9873288fb247301d8a42adad4f0ed71f1a9331494e5765b8e5e035903cd\n",
            "  Stored in directory: /root/.cache/pip/wheels/00/82/5b/0f466095a87b3b8ab221af30e845f6da97975ffc021b0c5bbd\n",
            "  Building wheel for odfpy (setup.py) ... \u001b[?25l\u001b[?25hdone\n",
            "  Created wheel for odfpy: filename=odfpy-1.4.1-py2.py3-none-any.whl size=160672 sha256=52bf0e2ce5d29a5f87c1985cdb2456a08c68a4528bf1aadb7c05d39f446025da\n",
            "  Stored in directory: /root/.cache/pip/wheels/d6/1d/c8/8c29be1d73ca42d15977c75193d9f39a98499413c2838ac54c\n",
            "Successfully built climada_petals pymrio odfpy\n",
            "Installing collected packages: ruamel.yaml.clib, openpyxl, odfpy, numpy, humanfriendly, faker, ruamel.yaml, coloredlogs, country-converter, rioxarray, pymrio, cf-xarray, xesmf, osm-flex, boario, climada_petals\n",
            "  Attempting uninstall: openpyxl\n",
            "    Found existing installation: openpyxl 3.1.5\n",
            "    Uninstalling openpyxl-3.1.5:\n",
            "      Successfully uninstalled openpyxl-3.1.5\n",
            "  Attempting uninstall: numpy\n",
            "    Found existing installation: numpy 2.0.2\n",
            "    Uninstalling numpy-2.0.2:\n",
            "      Successfully uninstalled numpy-2.0.2\n",
            "Successfully installed boario-0.6.0 cf-xarray-0.10.4 climada_petals-6.0.1 coloredlogs-15.0.1 country-converter-1.3 faker-37.0.2 humanfriendly-10.0 numpy-1.26.4 odfpy-1.4.1 openpyxl-3.1.0 osm-flex-1.1.1 pymrio-0.5.4 rioxarray-0.18.2 ruamel.yaml-0.18.10 ruamel.yaml.clib-0.2.12 xesmf-0.8.8\n"
          ]
        }
      ],
      "source": [
        "!pip install -e ."
      ]
    },
    {
      "cell_type": "code",
      "execution_count": null,
      "metadata": {
        "id": "W1uJxj2x_Vjo"
      },
      "outputs": [],
      "source": [
        "import climada\n",
        "\n",
        "# A simple example to test functionality\n",
        "from climada.entity import Exposures\n",
        "from climada.hazard import Hazard"
      ]
    },
    {
      "cell_type": "code",
      "execution_count": null,
      "metadata": {
        "colab": {
          "base_uri": "https://localhost:8080/"
        },
        "id": "AwFJHFfC7zbw",
        "outputId": "26154bee-33cd-49a7-f9b7-8c095c0cb2e4"
      },
      "outputs": [
        {
          "name": "stdout",
          "output_type": "stream",
          "text": [
            "Collecting git+https://github.com/CLIMADA-project/climada_petals.git@feature/copernicus_forecast\n",
            "  Cloning https://github.com/CLIMADA-project/climada_petals.git (to revision feature/copernicus_forecast) to /tmp/pip-req-build-o7eeebxd\n",
            "  Running command git clone --filter=blob:none --quiet https://github.com/CLIMADA-project/climada_petals.git /tmp/pip-req-build-o7eeebxd\n",
            "  Running command git checkout -b feature/copernicus_forecast --track origin/feature/copernicus_forecast\n",
            "  Switched to a new branch 'feature/copernicus_forecast'\n",
            "  Branch 'feature/copernicus_forecast' set up to track remote branch 'feature/copernicus_forecast' from 'origin'.\n",
            "  Resolved https://github.com/CLIMADA-project/climada_petals.git to commit 95d435ba59ad9bd9251b909861a0b4efeb6925f9\n",
            "  Installing build dependencies ... \u001b[?25l\u001b[?25hdone\n",
            "  Getting requirements to build wheel ... \u001b[?25l\u001b[?25hdone\n",
            "  Installing backend dependencies ... \u001b[?25l\u001b[?25hdone\n",
            "  Preparing metadata (pyproject.toml) ... \u001b[?25l\u001b[?25hdone\n",
            "Requirement already satisfied: boario in /usr/local/lib/python3.11/dist-packages (from climada_petals==6.0.2.dev0) (0.6.0)\n",
            "Requirement already satisfied: climada>=6.0 in /usr/local/lib/python3.11/dist-packages (from climada_petals==6.0.2.dev0) (6.0.1)\n",
            "Requirement already satisfied: cdsapi in /usr/local/lib/python3.11/dist-packages (from climada_petals==6.0.2.dev0) (0.7.5)\n",
            "Requirement already satisfied: osm-flex in /usr/local/lib/python3.11/dist-packages (from climada_petals==6.0.2.dev0) (1.1.1)\n",
            "Requirement already satisfied: pymrio in /usr/local/lib/python3.11/dist-packages (from climada_petals==6.0.2.dev0) (0.5.4)\n",
            "Requirement already satisfied: rioxarray in /usr/local/lib/python3.11/dist-packages (from climada_petals==6.0.2.dev0) (0.18.2)\n",
            "Requirement already satisfied: ruamel.yaml in /usr/local/lib/python3.11/dist-packages (from climada_petals==6.0.2.dev0) (0.18.10)\n",
            "Requirement already satisfied: scikit-image in /usr/local/lib/python3.11/dist-packages (from climada_petals==6.0.2.dev0) (0.25.2)\n",
            "Requirement already satisfied: xesmf in /usr/local/lib/python3.11/dist-packages (from climada_petals==6.0.2.dev0) (0.8.8)\n",
            "Requirement already satisfied: bayesian-optimization<2.0 in /usr/local/lib/python3.11/dist-packages (from climada>=6.0->climada_petals==6.0.2.dev0) (1.5.1)\n",
            "Requirement already satisfied: bottleneck in /usr/local/lib/python3.11/dist-packages (from climada>=6.0->climada_petals==6.0.2.dev0) (1.4.2)\n",
            "Requirement already satisfied: cartopy in /usr/local/lib/python3.11/dist-packages (from climada>=6.0->climada_petals==6.0.2.dev0) (0.24.1)\n",
            "Requirement already satisfied: cfgrib in /usr/local/lib/python3.11/dist-packages (from climada>=6.0->climada_petals==6.0.2.dev0) (0.9.15.0)\n",
            "Requirement already satisfied: contextily in /usr/local/lib/python3.11/dist-packages (from climada>=6.0->climada_petals==6.0.2.dev0) (1.6.2)\n",
            "Requirement already satisfied: dask in /usr/local/lib/python3.11/dist-packages (from climada>=6.0->climada_petals==6.0.2.dev0) (2024.12.1)\n",
            "Requirement already satisfied: deprecation in /usr/local/lib/python3.11/dist-packages (from climada>=6.0->climada_petals==6.0.2.dev0) (2.1.0)\n",
            "Requirement already satisfied: geopandas in /usr/local/lib/python3.11/dist-packages (from climada>=6.0->climada_petals==6.0.2.dev0) (1.0.1)\n",
            "Requirement already satisfied: h5py in /usr/local/lib/python3.11/dist-packages (from climada>=6.0->climada_petals==6.0.2.dev0) (3.13.0)\n",
            "Requirement already satisfied: haversine in /usr/local/lib/python3.11/dist-packages (from climada>=6.0->climada_petals==6.0.2.dev0) (2.9.0)\n",
            "Requirement already satisfied: matplotlib in /usr/local/lib/python3.11/dist-packages (from climada>=6.0->climada_petals==6.0.2.dev0) (3.10.0)\n",
            "Requirement already satisfied: netcdf4 in /usr/local/lib/python3.11/dist-packages (from climada>=6.0->climada_petals==6.0.2.dev0) (1.7.2)\n",
            "Requirement already satisfied: numba in /usr/local/lib/python3.11/dist-packages (from climada>=6.0->climada_petals==6.0.2.dev0) (0.60.0)\n",
            "Requirement already satisfied: openpyxl in /usr/local/lib/python3.11/dist-packages (from climada>=6.0->climada_petals==6.0.2.dev0) (3.1.0)\n",
            "Requirement already satisfied: overpy in /usr/local/lib/python3.11/dist-packages (from climada>=6.0->climada_petals==6.0.2.dev0) (0.7)\n",
            "Requirement already satisfied: pandas in /usr/local/lib/python3.11/dist-packages (from climada>=6.0->climada_petals==6.0.2.dev0) (2.2.2)\n",
            "Requirement already satisfied: pandas-datareader in /usr/local/lib/python3.11/dist-packages (from climada>=6.0->climada_petals==6.0.2.dev0) (0.10.0)\n",
            "Requirement already satisfied: pathos in /usr/local/lib/python3.11/dist-packages (from climada>=6.0->climada_petals==6.0.2.dev0) (0.3.3)\n",
            "Requirement already satisfied: peewee in /usr/local/lib/python3.11/dist-packages (from climada>=6.0->climada_petals==6.0.2.dev0) (3.17.9)\n",
            "Requirement already satisfied: pillow in /usr/local/lib/python3.11/dist-packages (from climada>=6.0->climada_petals==6.0.2.dev0) (11.1.0)\n",
            "Requirement already satisfied: pint in /usr/local/lib/python3.11/dist-packages (from climada>=6.0->climada_petals==6.0.2.dev0) (0.24.4)\n",
            "Requirement already satisfied: pycountry in /usr/local/lib/python3.11/dist-packages (from climada>=6.0->climada_petals==6.0.2.dev0) (24.6.1)\n",
            "Requirement already satisfied: pyproj in /usr/local/lib/python3.11/dist-packages (from climada>=6.0->climada_petals==6.0.2.dev0) (3.7.1)\n",
            "Requirement already satisfied: rasterio in /usr/local/lib/python3.11/dist-packages (from climada>=6.0->climada_petals==6.0.2.dev0) (1.4.3)\n",
            "Requirement already satisfied: salib in /usr/local/lib/python3.11/dist-packages (from climada>=6.0->climada_petals==6.0.2.dev0) (1.5.1)\n",
            "Requirement already satisfied: scikit-learn in /usr/local/lib/python3.11/dist-packages (from climada>=6.0->climada_petals==6.0.2.dev0) (1.6.1)\n",
            "Requirement already satisfied: seaborn in /usr/local/lib/python3.11/dist-packages (from climada>=6.0->climada_petals==6.0.2.dev0) (0.13.2)\n",
            "Requirement already satisfied: statsmodels in /usr/local/lib/python3.11/dist-packages (from climada>=6.0->climada_petals==6.0.2.dev0) (0.14.4)\n",
            "Requirement already satisfied: sparse in /usr/local/lib/python3.11/dist-packages (from climada>=6.0->climada_petals==6.0.2.dev0) (0.15.5)\n",
            "Requirement already satisfied: tables in /usr/local/lib/python3.11/dist-packages (from climada>=6.0->climada_petals==6.0.2.dev0) (3.10.2)\n",
            "Requirement already satisfied: tabulate in /usr/local/lib/python3.11/dist-packages (from climada>=6.0->climada_petals==6.0.2.dev0) (0.9.0)\n",
            "Requirement already satisfied: tqdm in /usr/local/lib/python3.11/dist-packages (from climada>=6.0->climada_petals==6.0.2.dev0) (4.67.1)\n",
            "Requirement already satisfied: xarray in /usr/local/lib/python3.11/dist-packages (from climada>=6.0->climada_petals==6.0.2.dev0) (2025.1.2)\n",
            "Requirement already satisfied: xlrd in /usr/local/lib/python3.11/dist-packages (from climada>=6.0->climada_petals==6.0.2.dev0) (2.0.1)\n",
            "Requirement already satisfied: xlsxwriter in /usr/local/lib/python3.11/dist-packages (from climada>=6.0->climada_petals==6.0.2.dev0) (3.2.2)\n",
            "Requirement already satisfied: coloredlogs<16.0.0,>=15.0.1 in /usr/local/lib/python3.11/dist-packages (from boario->climada_petals==6.0.2.dev0) (15.0.1)\n",
            "Requirement already satisfied: country-converter<2.0.0,>=1.0.0 in /usr/local/lib/python3.11/dist-packages (from boario->climada_petals==6.0.2.dev0) (1.3)\n",
            "Requirement already satisfied: numpy<1.27 in /usr/local/lib/python3.11/dist-packages (from boario->climada_petals==6.0.2.dev0) (1.26.4)\n",
            "Requirement already satisfied: odfpy<2.0.0,>=1.4.1 in /usr/local/lib/python3.11/dist-packages (from boario->climada_petals==6.0.2.dev0) (1.4.1)\n",
            "Requirement already satisfied: progressbar2<5.0.0,>=4.2.0 in /usr/local/lib/python3.11/dist-packages (from boario->climada_petals==6.0.2.dev0) (4.5.0)\n",
            "Requirement already satisfied: pyarrow>=11 in /usr/local/lib/python3.11/dist-packages (from boario->climada_petals==6.0.2.dev0) (18.1.0)\n",
            "Requirement already satisfied: requests>=2.18 in /usr/local/lib/python3.11/dist-packages (from pymrio->climada_petals==6.0.2.dev0) (2.32.3)\n",
            "Requirement already satisfied: docutils>=0.14 in /usr/local/lib/python3.11/dist-packages (from pymrio->climada_petals==6.0.2.dev0) (0.21.2)\n",
            "Requirement already satisfied: faker>=18.4.0 in /usr/local/lib/python3.11/dist-packages (from pymrio->climada_petals==6.0.2.dev0) (37.0.2)\n",
            "Requirement already satisfied: datapi in /usr/local/lib/python3.11/dist-packages (from cdsapi->climada_petals==6.0.2.dev0) (0.3.0)\n",
            "Requirement already satisfied: gdal in /usr/local/lib/python3.11/dist-packages (from osm-flex->climada_petals==6.0.2.dev0) (3.6.4)\n",
            "Requirement already satisfied: shapely>=2.0 in /usr/local/lib/python3.11/dist-packages (from osm-flex->climada_petals==6.0.2.dev0) (2.0.7)\n",
            "Requirement already satisfied: packaging in /usr/local/lib/python3.11/dist-packages (from rioxarray->climada_petals==6.0.2.dev0) (24.2)\n",
            "Requirement already satisfied: ruamel.yaml.clib>=0.2.7 in /usr/local/lib/python3.11/dist-packages (from ruamel.yaml->climada_petals==6.0.2.dev0) (0.2.12)\n",
            "Requirement already satisfied: scipy>=1.11.4 in /usr/local/lib/python3.11/dist-packages (from scikit-image->climada_petals==6.0.2.dev0) (1.14.1)\n",
            "Requirement already satisfied: networkx>=3.0 in /usr/local/lib/python3.11/dist-packages (from scikit-image->climada_petals==6.0.2.dev0) (3.4.2)\n",
            "Requirement already satisfied: imageio!=2.35.0,>=2.33 in /usr/local/lib/python3.11/dist-packages (from scikit-image->climada_petals==6.0.2.dev0) (2.37.0)\n",
            "Requirement already satisfied: tifffile>=2022.8.12 in /usr/local/lib/python3.11/dist-packages (from scikit-image->climada_petals==6.0.2.dev0) (2025.3.13)\n",
            "Requirement already satisfied: lazy-loader>=0.4 in /usr/local/lib/python3.11/dist-packages (from scikit-image->climada_petals==6.0.2.dev0) (0.4)\n",
            "Requirement already satisfied: cf-xarray>=0.5.1 in /usr/local/lib/python3.11/dist-packages (from xesmf->climada_petals==6.0.2.dev0) (0.10.4)\n",
            "Requirement already satisfied: colorama<0.5.0,>=0.4.6 in /usr/local/lib/python3.11/dist-packages (from bayesian-optimization<2.0->climada>=6.0->climada_petals==6.0.2.dev0) (0.4.6)\n",
            "Requirement already satisfied: humanfriendly>=9.1 in /usr/local/lib/python3.11/dist-packages (from coloredlogs<16.0.0,>=15.0.1->boario->climada_petals==6.0.2.dev0) (10.0)\n",
            "Requirement already satisfied: click>=8.1 in /usr/local/lib/python3.11/dist-packages (from dask->climada>=6.0->climada_petals==6.0.2.dev0) (8.1.8)\n",
            "Requirement already satisfied: cloudpickle>=3.0.0 in /usr/local/lib/python3.11/dist-packages (from dask->climada>=6.0->climada_petals==6.0.2.dev0) (3.1.1)\n",
            "Requirement already satisfied: fsspec>=2021.09.0 in /usr/local/lib/python3.11/dist-packages (from dask->climada>=6.0->climada_petals==6.0.2.dev0) (2025.3.0)\n",
            "Requirement already satisfied: partd>=1.4.0 in /usr/local/lib/python3.11/dist-packages (from dask->climada>=6.0->climada_petals==6.0.2.dev0) (1.4.2)\n",
            "Requirement already satisfied: pyyaml>=5.3.1 in /usr/local/lib/python3.11/dist-packages (from dask->climada>=6.0->climada_petals==6.0.2.dev0) (6.0.2)\n",
            "Requirement already satisfied: toolz>=0.10.0 in /usr/local/lib/python3.11/dist-packages (from dask->climada>=6.0->climada_petals==6.0.2.dev0) (0.12.1)\n",
            "Requirement already satisfied: importlib_metadata>=4.13.0 in /usr/local/lib/python3.11/dist-packages (from dask->climada>=6.0->climada_petals==6.0.2.dev0) (8.6.1)\n",
            "Requirement already satisfied: tzdata in /usr/local/lib/python3.11/dist-packages (from faker>=18.4.0->pymrio->climada_petals==6.0.2.dev0) (2025.1)\n",
            "Requirement already satisfied: contourpy>=1.0.1 in /usr/local/lib/python3.11/dist-packages (from matplotlib->climada>=6.0->climada_petals==6.0.2.dev0) (1.3.1)\n",
            "Requirement already satisfied: cycler>=0.10 in /usr/local/lib/python3.11/dist-packages (from matplotlib->climada>=6.0->climada_petals==6.0.2.dev0) (0.12.1)\n",
            "Requirement already satisfied: fonttools>=4.22.0 in /usr/local/lib/python3.11/dist-packages (from matplotlib->climada>=6.0->climada_petals==6.0.2.dev0) (4.56.0)\n",
            "Requirement already satisfied: kiwisolver>=1.3.1 in /usr/local/lib/python3.11/dist-packages (from matplotlib->climada>=6.0->climada_petals==6.0.2.dev0) (1.4.8)\n",
            "Requirement already satisfied: pyparsing>=2.3.1 in /usr/local/lib/python3.11/dist-packages (from matplotlib->climada>=6.0->climada_petals==6.0.2.dev0) (3.2.1)\n",
            "Requirement already satisfied: python-dateutil>=2.7 in /usr/local/lib/python3.11/dist-packages (from matplotlib->climada>=6.0->climada_petals==6.0.2.dev0) (2.8.2)\n",
            "Requirement already satisfied: llvmlite<0.44,>=0.43.0dev0 in /usr/local/lib/python3.11/dist-packages (from numba->climada>=6.0->climada_petals==6.0.2.dev0) (0.43.0)\n",
            "Requirement already satisfied: defusedxml in /usr/local/lib/python3.11/dist-packages (from odfpy<2.0.0,>=1.4.1->boario->climada_petals==6.0.2.dev0) (0.7.1)\n",
            "Requirement already satisfied: et-xmlfile in /usr/local/lib/python3.11/dist-packages (from openpyxl->climada>=6.0->climada_petals==6.0.2.dev0) (2.0.0)\n",
            "Requirement already satisfied: pytz>=2020.1 in /usr/local/lib/python3.11/dist-packages (from pandas->climada>=6.0->climada_petals==6.0.2.dev0) (2025.1)\n",
            "Requirement already satisfied: python-utils>=3.8.1 in /usr/local/lib/python3.11/dist-packages (from progressbar2<5.0.0,>=4.2.0->boario->climada_petals==6.0.2.dev0) (3.9.1)\n",
            "Requirement already satisfied: certifi in /usr/local/lib/python3.11/dist-packages (from pyproj->climada>=6.0->climada_petals==6.0.2.dev0) (2025.1.31)\n",
            "Requirement already satisfied: affine in /usr/local/lib/python3.11/dist-packages (from rasterio->climada>=6.0->climada_petals==6.0.2.dev0) (2.4.0)\n",
            "Requirement already satisfied: attrs in /usr/local/lib/python3.11/dist-packages (from rasterio->climada>=6.0->climada_petals==6.0.2.dev0) (25.3.0)\n",
            "Requirement already satisfied: cligj>=0.5 in /usr/local/lib/python3.11/dist-packages (from rasterio->climada>=6.0->climada_petals==6.0.2.dev0) (0.7.2)\n",
            "Requirement already satisfied: click-plugins in /usr/local/lib/python3.11/dist-packages (from rasterio->climada>=6.0->climada_petals==6.0.2.dev0) (1.1.1)\n",
            "Requirement already satisfied: charset-normalizer<4,>=2 in /usr/local/lib/python3.11/dist-packages (from requests>=2.18->pymrio->climada_petals==6.0.2.dev0) (3.4.1)\n",
            "Requirement already satisfied: idna<4,>=2.5 in /usr/local/lib/python3.11/dist-packages (from requests>=2.18->pymrio->climada_petals==6.0.2.dev0) (3.10)\n",
            "Requirement already satisfied: urllib3<3,>=1.21.1 in /usr/local/lib/python3.11/dist-packages (from requests>=2.18->pymrio->climada_petals==6.0.2.dev0) (2.3.0)\n",
            "Requirement already satisfied: joblib>=1.2.0 in /usr/local/lib/python3.11/dist-packages (from scikit-learn->climada>=6.0->climada_petals==6.0.2.dev0) (1.4.2)\n",
            "Requirement already satisfied: threadpoolctl>=3.1.0 in /usr/local/lib/python3.11/dist-packages (from scikit-learn->climada>=6.0->climada_petals==6.0.2.dev0) (3.6.0)\n",
            "Requirement already satisfied: pyshp>=2.3 in /usr/local/lib/python3.11/dist-packages (from cartopy->climada>=6.0->climada_petals==6.0.2.dev0) (2.3.1)\n",
            "Requirement already satisfied: eccodes>=0.9.8 in /usr/local/lib/python3.11/dist-packages (from cfgrib->climada>=6.0->climada_petals==6.0.2.dev0) (2.40.1)\n",
            "Requirement already satisfied: geopy in /usr/local/lib/python3.11/dist-packages (from contextily->climada>=6.0->climada_petals==6.0.2.dev0) (2.4.1)\n",
            "Requirement already satisfied: mercantile in /usr/local/lib/python3.11/dist-packages (from contextily->climada>=6.0->climada_petals==6.0.2.dev0) (1.2.1)\n",
            "Requirement already satisfied: xyzservices in /usr/local/lib/python3.11/dist-packages (from contextily->climada>=6.0->climada_petals==6.0.2.dev0) (2025.1.0)\n",
            "Requirement already satisfied: multiurl>=0.3.2 in /usr/local/lib/python3.11/dist-packages (from datapi->cdsapi->climada_petals==6.0.2.dev0) (0.3.5)\n",
            "Requirement already satisfied: typing-extensions in /usr/local/lib/python3.11/dist-packages (from datapi->cdsapi->climada_petals==6.0.2.dev0) (4.12.2)\n",
            "Requirement already satisfied: pyogrio>=0.7.2 in /usr/local/lib/python3.11/dist-packages (from geopandas->climada>=6.0->climada_petals==6.0.2.dev0) (0.10.0)\n",
            "Requirement already satisfied: cftime in /usr/local/lib/python3.11/dist-packages (from netcdf4->climada>=6.0->climada_petals==6.0.2.dev0) (1.6.4.post1)\n",
            "Requirement already satisfied: lxml in /usr/local/lib/python3.11/dist-packages (from pandas-datareader->climada>=6.0->climada_petals==6.0.2.dev0) (5.3.1)\n",
            "Requirement already satisfied: ppft>=1.7.6.9 in /usr/local/lib/python3.11/dist-packages (from pathos->climada>=6.0->climada_petals==6.0.2.dev0) (1.7.6.9)\n",
            "Requirement already satisfied: dill>=0.3.9 in /usr/local/lib/python3.11/dist-packages (from pathos->climada>=6.0->climada_petals==6.0.2.dev0) (0.3.9)\n",
            "Requirement already satisfied: pox>=0.3.5 in /usr/local/lib/python3.11/dist-packages (from pathos->climada>=6.0->climada_petals==6.0.2.dev0) (0.3.5)\n",
            "Requirement already satisfied: multiprocess>=0.70.17 in /usr/local/lib/python3.11/dist-packages (from pathos->climada>=6.0->climada_petals==6.0.2.dev0) (0.70.17)\n",
            "Requirement already satisfied: platformdirs>=2.1.0 in /usr/local/lib/python3.11/dist-packages (from pint->climada>=6.0->climada_petals==6.0.2.dev0) (4.3.6)\n",
            "Requirement already satisfied: flexcache>=0.3 in /usr/local/lib/python3.11/dist-packages (from pint->climada>=6.0->climada_petals==6.0.2.dev0) (0.3)\n",
            "Requirement already satisfied: flexparser>=0.4 in /usr/local/lib/python3.11/dist-packages (from pint->climada>=6.0->climada_petals==6.0.2.dev0) (0.4)\n",
            "Requirement already satisfied: patsy>=0.5.6 in /usr/local/lib/python3.11/dist-packages (from statsmodels->climada>=6.0->climada_petals==6.0.2.dev0) (1.0.1)\n",
            "Requirement already satisfied: numexpr>=2.6.2 in /usr/local/lib/python3.11/dist-packages (from tables->climada>=6.0->climada_petals==6.0.2.dev0) (2.10.2)\n",
            "Requirement already satisfied: py-cpuinfo in /usr/local/lib/python3.11/dist-packages (from tables->climada>=6.0->climada_petals==6.0.2.dev0) (9.0.0)\n",
            "Requirement already satisfied: blosc2>=2.3.0 in /usr/local/lib/python3.11/dist-packages (from tables->climada>=6.0->climada_petals==6.0.2.dev0) (3.2.0)\n",
            "Requirement already satisfied: ndindex in /usr/local/lib/python3.11/dist-packages (from blosc2>=2.3.0->tables->climada>=6.0->climada_petals==6.0.2.dev0) (1.9.2)\n",
            "Requirement already satisfied: msgpack in /usr/local/lib/python3.11/dist-packages (from blosc2>=2.3.0->tables->climada>=6.0->climada_petals==6.0.2.dev0) (1.1.0)\n",
            "Requirement already satisfied: cffi in /usr/local/lib/python3.11/dist-packages (from eccodes>=0.9.8->cfgrib->climada>=6.0->climada_petals==6.0.2.dev0) (1.17.1)\n",
            "Requirement already satisfied: findlibs in /usr/local/lib/python3.11/dist-packages (from eccodes>=0.9.8->cfgrib->climada>=6.0->climada_petals==6.0.2.dev0) (0.1.0)\n",
            "Requirement already satisfied: zipp>=3.20 in /usr/local/lib/python3.11/dist-packages (from importlib_metadata>=4.13.0->dask->climada>=6.0->climada_petals==6.0.2.dev0) (3.21.0)\n",
            "Requirement already satisfied: locket in /usr/local/lib/python3.11/dist-packages (from partd>=1.4.0->dask->climada>=6.0->climada_petals==6.0.2.dev0) (1.0.0)\n",
            "Requirement already satisfied: six>=1.5 in /usr/local/lib/python3.11/dist-packages (from python-dateutil>=2.7->matplotlib->climada>=6.0->climada_petals==6.0.2.dev0) (1.17.0)\n",
            "Requirement already satisfied: geographiclib<3,>=1.52 in /usr/local/lib/python3.11/dist-packages (from geopy->contextily->climada>=6.0->climada_petals==6.0.2.dev0) (2.0)\n",
            "Requirement already satisfied: pycparser in /usr/local/lib/python3.11/dist-packages (from cffi->eccodes>=0.9.8->cfgrib->climada>=6.0->climada_petals==6.0.2.dev0) (2.22)\n",
            "Building wheels for collected packages: climada_petals\n",
            "  Building wheel for climada_petals (pyproject.toml) ... \u001b[?25l\u001b[?25hdone\n",
            "  Created wheel for climada_petals: filename=climada_petals-6.0.2.dev0-py3-none-any.whl size=5351769 sha256=cc28d3a88cca11ee7ad2b412ae1f5a7d5054b78f9ed2b78ef19caec37ef968ea\n",
            "  Stored in directory: /tmp/pip-ephem-wheel-cache-p43d5bpv/wheels/39/27/24/b39fcf78df8e0b4c1d2d01d983e6bbe2c949bbccb097d2416e\n",
            "Successfully built climada_petals\n",
            "Installing collected packages: climada_petals\n",
            "  Attempting uninstall: climada_petals\n",
            "    Found existing installation: climada_petals 6.0.1\n",
            "    Uninstalling climada_petals-6.0.1:\n",
            "      Successfully uninstalled climada_petals-6.0.1\n",
            "Successfully installed climada_petals-6.0.2.dev0\n"
          ]
        }
      ],
      "source": [
        "!pip install git+https://github.com/CLIMADA-project/climada_petals.git@feature/copernicus_forecast"
      ]
    },
    {
      "cell_type": "code",
      "execution_count": null,
      "metadata": {
        "colab": {
          "base_uri": "https://localhost:8080/"
        },
        "id": "PRHDnadzEdRz",
        "outputId": "4c0bdf61-9ee6-4d6d-c9a6-8a83802193b3"
      },
      "outputs": [
        {
          "name": "stdout",
          "output_type": "stream",
          "text": [
            "* \u001b[32mmain\u001b[m\n"
          ]
        }
      ],
      "source": [
        "!git branch\n"
      ]
    },
    {
      "cell_type": "code",
      "execution_count": null,
      "metadata": {
        "colab": {
          "base_uri": "https://localhost:8080/"
        },
        "id": "ayhTGXB1EaUT",
        "outputId": "d838686a-858f-4eea-c122-e3583b374bdb"
      },
      "outputs": [
        {
          "name": "stdout",
          "output_type": "stream",
          "text": [
            "Branch 'feature/copernicus_forecast' set up to track remote branch 'feature/copernicus_forecast' from 'origin'.\n",
            "Switched to a new branch 'feature/copernicus_forecast'\n"
          ]
        }
      ],
      "source": [
        "!git checkout feature/copernicus_forecast"
      ]
    },
    {
      "cell_type": "code",
      "execution_count": null,
      "metadata": {
        "id": "rhAzqHbMBPzf"
      },
      "outputs": [],
      "source": [
        "# Import packages\n",
        "import climada\n",
        "\n",
        "import warnings\n",
        "import datetime as dt\n",
        "warnings.filterwarnings('ignore')\n",
        "\n",
        "from climada.hazard import Hazard\n",
        "from climada_petals.hazard.copernicus_interface.create_seasonal_forecast_hazard import SeasonalForecast\n",
        "from climada_petals.hazard.copernicus_interface.time_utils import month_name_to_number\n",
        "from climada.util.coordinates import (\n",
        "    bounding_box_from_cardinal_bounds, bounding_box_global, bounding_box_from_countries\n",
        "    )"
      ]
    },
    {
      "attachments": {},
      "cell_type": "markdown",
      "metadata": {
        "id": "3yb5sbSw7zbx"
      },
      "source": [
        "### Set up module parameters\n",
        "\n",
        "To configure the module for working with Copernicus forecast data and converting it into a hazard object for CLIMADA, you will need to define several essential parameters. These settings are crucial as they specify the type of data to be retrieved, the format, the forecast period, and the geographical area of interest. These parameters influence how the forecast data is processed and transformed into a hazard object.\n",
        "\n",
        "Below, we outline these parameters and use an example for the \"Maximum Temperature\" index to demonstrate the seasonal forecast functionality.\n",
        "\n",
        "To learn more about what these parameters entail and their significance, please refer to the [documentation on the CDS webpage](https://cds.climate.copernicus.eu/datasets/seasonal-original-single-levels?tab=overview).\n",
        "\n",
        "#### Overview of parameters\n",
        "\n",
        "**index_metric**: Defines the type of index to be calculated. The current options available are 'HIA' (Heat Index Adjusted), 'HIS' (Heat Index Simplified), 'Tmean' (Mean Temperature), 'Tmin' (Minimum Temperature), 'Tmax' (Maximum Temperature), 'HW' (Heat Wave), 'TR' (Tropical Nights), 'TX30' (Hot Days), 'HUM' (Humidex), 'RH' (Relative Humidity), 'AT' (Apparent Temperature), and 'WBGT' (Wet Bulb Globe Temperature (Simple)).\n",
        "\n",
        "  - **Heat Waves (\"HW\")**:  \n",
        "    If `index_metric` is set to 'HW' for heat wave calculations, additional parameters can be specified to fine-tune the heat wave detection:\n",
        "\n",
        "    - **threshold**: Temperature threshold above which days are considered part of a heat wave. Default is 27°C.\n",
        "    - **min_duration**: Minimum number of consecutive days above the threshold required to define a heat wave event. Default is 3 days.\n",
        "    - **max_gap**: Maximum allowable gap (in days) between two heat wave events to consider them as one single event. Default is 0 days.\n",
        "\n",
        "  - **Tropical Nights (\"TR\")**:  \n",
        "    If `index_metric` is set to 'TR' for tropical nights, an additional parameter can be specified to set the threshold:\n",
        "\n",
        "    - **threshold**: Nighttime temperature threshold, above which a night is considered \"tropical.\" Default is 20°C.\n",
        "\n",
        "\n",
        "\n",
        "**format** : Specifies the format of the data to be downloaded, \"grib\" or \"netcdf\". Copernicus do **NOT** recommended netcdf format for operational workflows since conversion to netcdf is considered experimental. [More information here](https://confluence.ecmwf.int/display/CKB/GRIB+to+netCDF+conversion+on+new+CDS+and+ADS+systems).\n",
        "\n",
        "**originating_centre**: Identifies the source of the data. A standard choice is \"dwd\" (German Weather Service), one of eight providers including ECMWF, UK Met Office, Météo France, CMCC, NCEP, JMA, and ECCC.\n",
        "\n",
        "**system**: Refers to a specific model or configuration used for forecasts. In this script, the default value is \"21,\" which corresponds to the GCSF (German Climate Forecast System) [version 2.1](https://agupubs.onlinelibrary.wiley.com/doi/full/10.1029/2020MS002101). More details can be found in the [CDS documentation](https://cds.climate.copernicus.eu/datasets/seasonal-original-single-levels?tab=documentation).\n",
        "\n",
        "**year_list**: A list of years for which data should be downloaded and processed.\n",
        "\n",
        "**initiation_month**: A list of the months in which the forecasts are initiated. Example: [\"March\", \"April\"].\n",
        "\n",
        "**forecast_period**: Specifies the months relative to the forecast's initiation month for which the data is forecasted. Example: [\"June\", \"July\", \"August\"] indicates forecasts for these months. The maximum available is 7 months.\n",
        "\n",
        "  - **⚠️ Important**: When an initiation month is in one year and the forecast period in the next, the system recognizes the forecast extends beyond the initial year. Data is retrieved based on the initiation month, with lead times covering the following year. The forecast is stored under the initiation year’s directory, ensuring consistency while spanning both years.\n",
        "\n",
        "**area_selection**: This determines the geographical area for which the data should be downloaded. It can be set to\n",
        "- \"global\" (gobal data is downloaded)\n",
        "- a list of four numbers corresponding to the geographical bounds (in degrees; EPSG:4326), specified as [north, west, south, east].\n",
        "- a list of ISO alpha-3 codes for different countries, e.g., [\"DEU\", \"CHE\"] for Germany and Switzerland. See this [wikipedia page](https://en.wikipedia.org/wiki/ISO_3166-1_alpha-3) for the country codes. Note that the **joint region** will be downloaded and processed, i.e., handling data for [\"DEU\", \"CHE\"] and then for [\"CHE\"] will download and generate two sets of data.\n",
        "\n",
        "**overwrite**: Boolean flag that, when set to True, forces the system to redownload and reprocess existing files."
      ]
    },
    {
      "cell_type": "code",
      "execution_count": null,
      "metadata": {
        "colab": {
          "base_uri": "https://localhost:8080/",
          "height": 35
        },
        "id": "JZymN8KFBVpL",
        "outputId": "3019bb30-f5af-4b2c-e481-becc2b2b5dbc"
      },
      "outputs": [
        {
          "data": {
            "application/vnd.google.colaboratory.intrinsic+json": {
              "type": "string"
            },
            "text/plain": [
              "'Explanation for TX30: Hot Days (TX30): Counts days with maximum temperature exceeding 30°C. \\nRequired variables: 2m_temperature'"
            ]
          },
          "execution_count": 18,
          "metadata": {},
          "output_type": "execute_result"
        }
      ],
      "source": [
        "# We define above parameters for an example\n",
        "index_metric = \"TX30\"\n",
        "data_format = \"grib\"  # 'grib' or 'netcdf'\n",
        "originating_centre =  \"dwd\"\n",
        "system =  \"21\"\n",
        "forecast_period = [\"Jun\", \"August\"] # from jun to august including july\n",
        "year_list = [2023]\n",
        "initiation_month = [ \"March\",\"April\",\"May\"]\n",
        "overwrite = False\n",
        "\n",
        "# global bounding box\n",
        "# bounds = bounding_box_global()\n",
        "# input cardinal bounds\n",
        "# bounds = bounding_box_from_cardinal_bounds(northern=49, eastern=20, southern=40, western=10)\n",
        "# input country ISO codes\n",
        "bounds = bounding_box_from_countries([\"CHE\"])\n",
        "\n",
        "# Parameters for Heat Waves\n",
        "hw_threshold = 27\n",
        "hw_min_duration = 3\n",
        "hw_max_gap = 0\n",
        "\n",
        "# Parameters for Tropical Nights\n",
        "threshold_tr = 20\n",
        "\n",
        "# Describe the selected climate index and the associated input data\n",
        "handler = SeasonalForecast(\n",
        "    index_metric=index_metric,\n",
        "    year_list=year_list,\n",
        "    forecast_period=forecast_period,\n",
        "    initiation_month=initiation_month,\n",
        "    bounds=bounds,\n",
        "    data_format=data_format,\n",
        "    originating_centre=originating_centre,\n",
        "    system=system,\n",
        "    )\n",
        "\n",
        "handler.explain_index()"
      ]
    },
    {
      "attachments": {},
      "cell_type": "markdown",
      "metadata": {
        "id": "vVIf-TdZ7zbx"
      },
      "source": [
        "### Download and Process Data\n",
        "\n",
        "The `handler.download_and_process_data` method in CLIMADA efficiently retrieves and organizes Copernicus forecast data. It checks for existing files to avoid redundant downloads, stores data by format (grib or netCDF), year, month. Then the files are processed for further analysis, such as calculating climate indices or creating hazard objects within CLIMADA. Here are the aspects of this process:\n",
        "\n",
        "- **Data Download**: The method downloads the forecast data for the selected years, months, and regions. The data is retrieved in **grib** or **netCDF** formats, which are commonly used for storing meteorological data. If the required files already exist in the specified directories, the system will skip downloading them, as indicated by the log messages such as:  \n",
        "  *\"Corresponding grib file SYSTEM_DIR/copernicus_data/seasonal_forecasts/dwd/sys21/2023/init03/valid06_08/downloaded_data/grib/TX30_boundsW4_S44_E11_N48.grib already exists.\"* \n",
        "\n",
        "\n",
        "- **Data Processing**: After downloading (or confirming the existence of) the files, the system converts them into daily **netCDF** files. Each file contains gridded, multi-ensemble data for daily mean, maximum, and minimum, structured by forecast step, ensemble member, latitude, and longitude. The log messages confirm the existence or creation of these files, for example:  \n",
        "  *\"Daily file SYSTEM_DIR/copernicus_data/seasonal_forecasts/dwd/sys21/2023/init03/valid06_08/processed_data/TX30_boundsW4_S44_E11_N48.nc already exists.\"*\n",
        "\n",
        "- **Geographic and Temporal Focus**: The files are generated for a specific time frame (e.g., June and July 2022) and a predefined geographic region, as specified by the parameters such as `bounds`, `month_list`, and `year_list`. This ensures that only the selected data for your analysis is downloaded and processed.\n",
        "\n",
        "- **Data Completeness**: Messages like \"already exists\" ensure that you do not redundantly download or process data, saving time and computing resources. However, if the data files are missing, they will be downloaded and processed as necessary."
      ]
    },
    {
      "cell_type": "code",
      "execution_count": null,
      "metadata": {
        "colab": {
          "base_uri": "https://localhost:8080/",
          "height": 921,
          "referenced_widgets": [
            "aa4e48c5bbda4494910ea5fa41e23d39",
            "ad6168033d654a9680bc66a51bced984",
            "bf09b81eafe04144bfdb2f3367673e01",
            "e69ce08437f546319636a4a2a082805d",
            "30bbd52b0f1b415b9b7ca684fcfcd881",
            "f807f6b58fc3434ebcc9f72ead89ed63",
            "fa99ef26f38d4145b515f083698ca701",
            "0300cf47e750444da5f9dbf053617224",
            "29bcf7d86e194df3bafe171bea3a0ee1",
            "463c48fd11df420287df154bf2639b94",
            "b795be8866064b73ab927a472066c0ff",
            "58aa641602a147cdb97b9b45cbf3a29b",
            "dd494d0e1a5f4aa29da9146ea4ae5701",
            "e4c2a6cb65584619adaf9e08ba1d7814",
            "3bd9860e8e74420fadd9981558a1e060",
            "af96dad7f4a241579fb0f004f98fef1a",
            "300c3ae793e44c558d89a143fb0c114e",
            "ef274cfc84eb44fabd68336089eb2cbb",
            "6a6650526f1946579d9af1761204e593",
            "63756515f1414e6dbc163cb325c7cd48",
            "dbce65675af146f88c4e9bd04ded1c67",
            "81757ea9b1214277bf68c4004350d5c5",
            "1f0e216fcddd459a98869aa515164405",
            "8fc585667ffa4eeb81f66fc1c26deb33",
            "8cc542271fef4f01892ec9752c078c23",
            "5581621c36b94df588a7649c60d0cef1",
            "4b33a8b544e8412294fef4825d35676c",
            "9d3bff9bb4254bd59e2f537b80cf8ca3",
            "0d599310eb5c407181b13c55eafb13a9",
            "5251f8b90d534b2bbf23588a6f974427",
            "b76a790ee9ee4ba2b0cb6ac1e8b5ce9c",
            "4348b07310884b8fa0f431e3055859ba",
            "b9822c7858524c448f5757e5087d8407"
          ]
        },
        "id": "XoVtweoyBfaU",
        "outputId": "1ebb8514-ce99-4ee0-a000-0262304fd2eb"
      },
      "outputs": [
        {
          "name": "stderr",
          "output_type": "stream",
          "text": [
            "2025-03-21 14:21:09,489 INFO [2024-09-26T00:00:00] Watch our [Forum](https://forum.ecmwf.int/) for Announcements, news and other discussed topics.\n",
            "INFO:datapi.legacy_api_client:[2024-09-26T00:00:00] Watch our [Forum](https://forum.ecmwf.int/) for Announcements, news and other discussed topics.\n",
            "2025-03-21 14:21:09,491 WARNING [2024-06-16T00:00:00] CDS API syntax is changed and some keys or parameter names may have also changed. To avoid requests failing, please use the \"Show API request code\" tool on the dataset Download Form to check you are using the correct syntax for your API request.\n",
            "WARNING:datapi.legacy_api_client:[2024-06-16T00:00:00] CDS API syntax is changed and some keys or parameter names may have also changed. To avoid requests failing, please use the \"Show API request code\" tool on the dataset Download Form to check you are using the correct syntax for your API request.\n",
            "2025-03-21 14:21:11,167 INFO Request ID is 2d145271-0461-4d0b-9b22-a408ed05fe36\n",
            "INFO:datapi.legacy_api_client:Request ID is 2d145271-0461-4d0b-9b22-a408ed05fe36\n",
            "2025-03-21 14:21:11,421 INFO status has been updated to accepted\n",
            "INFO:datapi.legacy_api_client:status has been updated to accepted\n",
            "2025-03-21 14:21:20,584 INFO status has been updated to successful\n",
            "INFO:datapi.legacy_api_client:status has been updated to successful\n"
          ]
        },
        {
          "data": {
            "application/vnd.jupyter.widget-view+json": {
              "model_id": "aa4e48c5bbda4494910ea5fa41e23d39",
              "version_major": 2,
              "version_minor": 0
            },
            "text/plain": [
              "da7737a0c7633370dc9afe85bf87365a.grib:   0%|          | 0.00/3.51M [00:00<?, ?B/s]"
            ]
          },
          "metadata": {},
          "output_type": "display_data"
        },
        {
          "name": "stdout",
          "output_type": "stream",
          "text": [
            "2025-03-21 14:21:24,829 - climada_petals.hazard.copernicus_interface.downloader - INFO - File successfully downloaded to /root/climada/data/copernicus_data/seasonal_forecasts/dwd/sys21/2023/init03/valid06_08/downloaded_data/grib/TX30_boundsW4_S44_E11_N48.grib.\n"
          ]
        },
        {
          "name": "stderr",
          "output_type": "stream",
          "text": [
            "2025-03-21 14:21:25,504 INFO [2024-09-26T00:00:00] Watch our [Forum](https://forum.ecmwf.int/) for Announcements, news and other discussed topics.\n",
            "INFO:datapi.legacy_api_client:[2024-09-26T00:00:00] Watch our [Forum](https://forum.ecmwf.int/) for Announcements, news and other discussed topics.\n",
            "2025-03-21 14:21:25,506 WARNING [2024-06-16T00:00:00] CDS API syntax is changed and some keys or parameter names may have also changed. To avoid requests failing, please use the \"Show API request code\" tool on the dataset Download Form to check you are using the correct syntax for your API request.\n",
            "WARNING:datapi.legacy_api_client:[2024-06-16T00:00:00] CDS API syntax is changed and some keys or parameter names may have also changed. To avoid requests failing, please use the \"Show API request code\" tool on the dataset Download Form to check you are using the correct syntax for your API request.\n",
            "2025-03-21 14:21:27,180 INFO Request ID is 668e9a4b-580e-40fa-8cb5-8534dc97fe6a\n",
            "INFO:datapi.legacy_api_client:Request ID is 668e9a4b-580e-40fa-8cb5-8534dc97fe6a\n",
            "2025-03-21 14:21:27,420 INFO status has been updated to accepted\n",
            "INFO:datapi.legacy_api_client:status has been updated to accepted\n",
            "2025-03-21 14:21:32,912 INFO status has been updated to running\n",
            "INFO:datapi.legacy_api_client:status has been updated to running\n",
            "2025-03-21 14:21:36,547 INFO status has been updated to successful\n",
            "INFO:datapi.legacy_api_client:status has been updated to successful\n"
          ]
        },
        {
          "data": {
            "application/vnd.jupyter.widget-view+json": {
              "model_id": "58aa641602a147cdb97b9b45cbf3a29b",
              "version_major": 2,
              "version_minor": 0
            },
            "text/plain": [
              "2a252b64f1f13df5ce4a51581b4cda1a.grib:   0%|          | 0.00/3.51M [00:00<?, ?B/s]"
            ]
          },
          "metadata": {},
          "output_type": "display_data"
        },
        {
          "name": "stdout",
          "output_type": "stream",
          "text": [
            "2025-03-21 14:21:41,358 - climada_petals.hazard.copernicus_interface.downloader - INFO - File successfully downloaded to /root/climada/data/copernicus_data/seasonal_forecasts/dwd/sys21/2023/init04/valid06_08/downloaded_data/grib/TX30_boundsW4_S44_E11_N48.grib.\n"
          ]
        },
        {
          "name": "stderr",
          "output_type": "stream",
          "text": [
            "2025-03-21 14:21:47,042 INFO [2024-09-26T00:00:00] Watch our [Forum](https://forum.ecmwf.int/) for Announcements, news and other discussed topics.\n",
            "INFO:datapi.legacy_api_client:[2024-09-26T00:00:00] Watch our [Forum](https://forum.ecmwf.int/) for Announcements, news and other discussed topics.\n",
            "2025-03-21 14:21:47,044 WARNING [2024-06-16T00:00:00] CDS API syntax is changed and some keys or parameter names may have also changed. To avoid requests failing, please use the \"Show API request code\" tool on the dataset Download Form to check you are using the correct syntax for your API request.\n",
            "WARNING:datapi.legacy_api_client:[2024-06-16T00:00:00] CDS API syntax is changed and some keys or parameter names may have also changed. To avoid requests failing, please use the \"Show API request code\" tool on the dataset Download Form to check you are using the correct syntax for your API request.\n",
            "2025-03-21 14:21:48,784 INFO Request ID is 49a21eab-e7f6-419c-8e2a-b6f63505e148\n",
            "INFO:datapi.legacy_api_client:Request ID is 49a21eab-e7f6-419c-8e2a-b6f63505e148\n",
            "2025-03-21 14:21:49,027 INFO status has been updated to accepted\n",
            "INFO:datapi.legacy_api_client:status has been updated to accepted\n",
            "2025-03-21 14:21:54,629 INFO status has been updated to running\n",
            "INFO:datapi.legacy_api_client:status has been updated to running\n",
            "2025-03-21 14:21:58,246 INFO status has been updated to successful\n",
            "INFO:datapi.legacy_api_client:status has been updated to successful\n"
          ]
        },
        {
          "data": {
            "application/vnd.jupyter.widget-view+json": {
              "model_id": "1f0e216fcddd459a98869aa515164405",
              "version_major": 2,
              "version_minor": 0
            },
            "text/plain": [
              "dd8fb9bf71c8b88717662a43e85cae9a.grib:   0%|          | 0.00/3.51M [00:00<?, ?B/s]"
            ]
          },
          "metadata": {},
          "output_type": "display_data"
        },
        {
          "name": "stdout",
          "output_type": "stream",
          "text": [
            "2025-03-21 14:22:02,125 - climada_petals.hazard.copernicus_interface.downloader - INFO - File successfully downloaded to /root/climada/data/copernicus_data/seasonal_forecasts/dwd/sys21/2023/init05/valid06_08/downloaded_data/grib/TX30_boundsW4_S44_E11_N48.grib.\n",
            "2025-03-21 14:23:01,132 - climada_petals.hazard.copernicus_interface.create_seasonal_forecast_hazard - INFO - Daily file saved to /root/climada/data/copernicus_data/seasonal_forecasts/dwd/sys21/2023/init03/valid06_08/processed_data/TX30_boundsW4_S44_E11_N48.nc\n",
            "2025-03-21 14:23:55,640 - climada_petals.hazard.copernicus_interface.create_seasonal_forecast_hazard - INFO - Daily file saved to /root/climada/data/copernicus_data/seasonal_forecasts/dwd/sys21/2023/init04/valid06_08/processed_data/TX30_boundsW4_S44_E11_N48.nc\n",
            "2025-03-21 14:24:49,884 - climada_petals.hazard.copernicus_interface.create_seasonal_forecast_hazard - INFO - Daily file saved to /root/climada/data/copernicus_data/seasonal_forecasts/dwd/sys21/2023/init05/valid06_08/processed_data/TX30_boundsW4_S44_E11_N48.nc\n"
          ]
        },
        {
          "data": {
            "text/plain": [
              "{'downloaded_data': {'2023_init03_valid06_08': PosixPath('/root/climada/data/copernicus_data/seasonal_forecasts/dwd/sys21/2023/init03/valid06_08/downloaded_data/grib/TX30_boundsW4_S44_E11_N48.grib'),\n",
              "  '2023_init04_valid06_08': PosixPath('/root/climada/data/copernicus_data/seasonal_forecasts/dwd/sys21/2023/init04/valid06_08/downloaded_data/grib/TX30_boundsW4_S44_E11_N48.grib'),\n",
              "  '2023_init05_valid06_08': PosixPath('/root/climada/data/copernicus_data/seasonal_forecasts/dwd/sys21/2023/init05/valid06_08/downloaded_data/grib/TX30_boundsW4_S44_E11_N48.grib')},\n",
              " 'processed_data': {'2023_init03_valid06_08': PosixPath('/root/climada/data/copernicus_data/seasonal_forecasts/dwd/sys21/2023/init03/valid06_08/processed_data/TX30_boundsW4_S44_E11_N48.nc'),\n",
              "  '2023_init04_valid06_08': PosixPath('/root/climada/data/copernicus_data/seasonal_forecasts/dwd/sys21/2023/init04/valid06_08/processed_data/TX30_boundsW4_S44_E11_N48.nc'),\n",
              "  '2023_init05_valid06_08': PosixPath('/root/climada/data/copernicus_data/seasonal_forecasts/dwd/sys21/2023/init05/valid06_08/processed_data/TX30_boundsW4_S44_E11_N48.nc')}}"
            ]
          },
          "execution_count": 19,
          "metadata": {},
          "output_type": "execute_result"
        }
      ],
      "source": [
        "# Download and process data\n",
        "handler.download_and_process_data()"
      ]
    },
    {
      "attachments": {},
      "cell_type": "markdown",
      "metadata": {
        "id": "wt4W_aI-7zby"
      },
      "source": [
        "### Calculate Climate Indices\n",
        "\n",
        "When you use the `handler.calculate_index` method in CLIMADA to compute specific climate indices (such as Maximum Temperature), the generated output is saved and organized in a structured format for further analysis. Here some details:\n",
        "\n",
        "- **Index Calculation**: The method processes seasonal forecast data to compute the selected index for the chosen years, months, and regions. This index represents a specific climate condition, such as the number of Maximum Temperature (\"Tmax\") over the forecast period, as defined in the parameters.\n",
        "\n",
        "- **Data Storage**: The calculated index data is saved in **netCDF** format. These files are automatically saved in directories specific to the index and time period. The file paths are printed below the processing steps. For example, the computed index values are stored in:  \n",
        "  *\"SYSTEM_DIR/copernicus_data/seasonal_forecasts/dwd/sys21/2023/init03/valid06_08/indices/TX30/TX30_boundsW4_S44_E11_N48_daily.nc\"*. \n",
        "\n",
        "  Similarly, the statistics of the index (e.g., mean, max, min, std) are saved in:  \n",
        "  *\"SYSTEM_DIR/copernicus_data/seasonal_forecasts/dwd/sys21/2023/init03/valid06_08/indices/TX30/TX30_boundsW4_S44_E11_N48_stats.nc\"*. \n",
        "  These files ensure that both the raw indices and their statistical summaries are available for detailed analysis.\n",
        "  \n",
        "  Each file contains data for a specific month and geographic region, as defined in the parameters. This allows you to analyze how the selected climate index varies over time and across different locations.\n",
        "\n",
        "- **Completeness of Data Processing**: Messages 'Index Tmax successfully calculated and saved for...' confirm the successful calculation and storage of the index, ensuring that all requested data has been processed and saved correctly.\n"
      ]
    },
    {
      "cell_type": "code",
      "execution_count": null,
      "metadata": {
        "colab": {
          "base_uri": "https://localhost:8080/"
        },
        "id": "-YkOT5iREfHg",
        "outputId": "c97eff32-9817-4a39-ee99-0d0dd7176279"
      },
      "outputs": [
        {
          "name": "stdout",
          "output_type": "stream",
          "text": [
            "2025-03-21 14:24:49,900 - climada_petals.hazard.copernicus_interface.create_seasonal_forecast_hazard - INFO - Processing index TX30 for year 2023, initiation month 03.\n",
            "2025-03-21 14:25:01,677 - climada_petals.hazard.copernicus_interface.create_seasonal_forecast_hazard - INFO - Saved daily index to /root/climada/data/copernicus_data/seasonal_forecasts/dwd/sys21/2023/init03/valid06_08/indices/TX30/TX30_boundsW4_S44_E11_N48_daily.nc\n",
            "2025-03-21 14:25:01,688 - climada_petals.hazard.copernicus_interface.create_seasonal_forecast_hazard - INFO - Saved monthly index to /root/climada/data/copernicus_data/seasonal_forecasts/dwd/sys21/2023/init03/valid06_08/indices/TX30/TX30_boundsW4_S44_E11_N48_monthly.nc\n",
            "2025-03-21 14:25:01,705 - climada_petals.hazard.copernicus_interface.create_seasonal_forecast_hazard - INFO - Saved stats index to /root/climada/data/copernicus_data/seasonal_forecasts/dwd/sys21/2023/init03/valid06_08/indices/TX30/TX30_boundsW4_S44_E11_N48_stats.nc\n",
            "2025-03-21 14:25:01,712 - climada_petals.hazard.copernicus_interface.create_seasonal_forecast_hazard - INFO - Processing index TX30 for year 2023, initiation month 04.\n",
            "2025-03-21 14:25:13,029 - climada_petals.hazard.copernicus_interface.create_seasonal_forecast_hazard - INFO - Saved daily index to /root/climada/data/copernicus_data/seasonal_forecasts/dwd/sys21/2023/init04/valid06_08/indices/TX30/TX30_boundsW4_S44_E11_N48_daily.nc\n",
            "2025-03-21 14:25:13,044 - climada_petals.hazard.copernicus_interface.create_seasonal_forecast_hazard - INFO - Saved monthly index to /root/climada/data/copernicus_data/seasonal_forecasts/dwd/sys21/2023/init04/valid06_08/indices/TX30/TX30_boundsW4_S44_E11_N48_monthly.nc\n",
            "2025-03-21 14:25:13,068 - climada_petals.hazard.copernicus_interface.create_seasonal_forecast_hazard - INFO - Saved stats index to /root/climada/data/copernicus_data/seasonal_forecasts/dwd/sys21/2023/init04/valid06_08/indices/TX30/TX30_boundsW4_S44_E11_N48_stats.nc\n",
            "2025-03-21 14:25:13,077 - climada_petals.hazard.copernicus_interface.create_seasonal_forecast_hazard - INFO - Processing index TX30 for year 2023, initiation month 05.\n",
            "2025-03-21 14:25:24,369 - climada_petals.hazard.copernicus_interface.create_seasonal_forecast_hazard - INFO - Saved daily index to /root/climada/data/copernicus_data/seasonal_forecasts/dwd/sys21/2023/init05/valid06_08/indices/TX30/TX30_boundsW4_S44_E11_N48_daily.nc\n",
            "2025-03-21 14:25:24,384 - climada_petals.hazard.copernicus_interface.create_seasonal_forecast_hazard - INFO - Saved monthly index to /root/climada/data/copernicus_data/seasonal_forecasts/dwd/sys21/2023/init05/valid06_08/indices/TX30/TX30_boundsW4_S44_E11_N48_monthly.nc\n",
            "2025-03-21 14:25:24,408 - climada_petals.hazard.copernicus_interface.create_seasonal_forecast_hazard - INFO - Saved stats index to /root/climada/data/copernicus_data/seasonal_forecasts/dwd/sys21/2023/init05/valid06_08/indices/TX30/TX30_boundsW4_S44_E11_N48_stats.nc\n"
          ]
        },
        {
          "data": {
            "text/plain": [
              "{'2023_init03_valid06_08': {'daily': PosixPath('/root/climada/data/copernicus_data/seasonal_forecasts/dwd/sys21/2023/init03/valid06_08/indices/TX30/TX30_boundsW4_S44_E11_N48_daily.nc'),\n",
              "  'monthly': PosixPath('/root/climada/data/copernicus_data/seasonal_forecasts/dwd/sys21/2023/init03/valid06_08/indices/TX30/TX30_boundsW4_S44_E11_N48_monthly.nc'),\n",
              "  'stats': PosixPath('/root/climada/data/copernicus_data/seasonal_forecasts/dwd/sys21/2023/init03/valid06_08/indices/TX30/TX30_boundsW4_S44_E11_N48_stats.nc')},\n",
              " '2023_init04_valid06_08': {'daily': PosixPath('/root/climada/data/copernicus_data/seasonal_forecasts/dwd/sys21/2023/init04/valid06_08/indices/TX30/TX30_boundsW4_S44_E11_N48_daily.nc'),\n",
              "  'monthly': PosixPath('/root/climada/data/copernicus_data/seasonal_forecasts/dwd/sys21/2023/init04/valid06_08/indices/TX30/TX30_boundsW4_S44_E11_N48_monthly.nc'),\n",
              "  'stats': PosixPath('/root/climada/data/copernicus_data/seasonal_forecasts/dwd/sys21/2023/init04/valid06_08/indices/TX30/TX30_boundsW4_S44_E11_N48_stats.nc')},\n",
              " '2023_init05_valid06_08': {'daily': PosixPath('/root/climada/data/copernicus_data/seasonal_forecasts/dwd/sys21/2023/init05/valid06_08/indices/TX30/TX30_boundsW4_S44_E11_N48_daily.nc'),\n",
              "  'monthly': PosixPath('/root/climada/data/copernicus_data/seasonal_forecasts/dwd/sys21/2023/init05/valid06_08/indices/TX30/TX30_boundsW4_S44_E11_N48_monthly.nc'),\n",
              "  'stats': PosixPath('/root/climada/data/copernicus_data/seasonal_forecasts/dwd/sys21/2023/init05/valid06_08/indices/TX30/TX30_boundsW4_S44_E11_N48_stats.nc')}}"
            ]
          },
          "execution_count": 20,
          "metadata": {},
          "output_type": "execute_result"
        }
      ],
      "source": [
        "# Calculate index\n",
        "handler.calculate_index(hw_threshold=hw_threshold, hw_min_duration=hw_min_duration, hw_max_gap=hw_max_gap)"
      ]
    },
    {
      "attachments": {},
      "cell_type": "markdown",
      "metadata": {
        "id": "A2b8faas7zby"
      },
      "source": [
        "### Calculate a Hazard Object\n",
        "\n",
        "When you use the `handler.process_and_save_hazards` method in CLIMADA to convert processed index from Copernicus forecast data into a hazard object:\n",
        "\n",
        "- **Hazard Object Creation**: The method processes seasonal forecast data for specified years and months, converting these into hazard objects. These objects encapsulate potential risks associated with specific weather events or conditions, such as Maximum Temperature ('Tmax') indicated in the parameters, over the forecast period.\n",
        "\n",
        "- **Data Storage**: The hazard data for each ensemble member of the forecast is saved as HDF5 files. These files are automatically stored in specific directories corresponding to each month and type of hazard. The file paths are printed below the processing steps. For example, *\"/SYSTEM_DIR/copernicus_data/seasonal_forecasts/dwd/sys21/2023/init03/valid06_08/hazard/TX30/TX30_boundsW4_S44_E11_N48.hdf5\"*.\n",
        " HDF5 is a versatile data model that efficiently stores large volumes of complex data.\n",
        " \n",
        " Each file is specific to a particular month and hazard scenario ('Tmax' in this case) and covers all ensemble members for that forecast period, aiding in detailed risk analysis.\n",
        "\n",
        "- **Completeness of Data Processing**: Messages like 'Completed processing for 2022-07. Data saved in...' confirm the successful processing and storage of the hazard data for that period, ensuring that all requested data has been properly handled and stored.\n",
        "\n",
        "#### Visualizing the Calculated Hazard Object\n",
        "\n",
        "Once the hazard object has been successfully calculated, the last element created is printed for visualization. This is important for several reasons:\n",
        "\n",
        "- **Initial Data Inspection**: The visualization allows you to view a slice of the forecast data, providing a quick check of the results. This initial glimpse helps you verify that the data processing was successful and provides insights into the distribution of the hazard (in this case, Maximum Temperature) across the area of interest.\n",
        "\n",
        "- **Geographic Accuracy**: The map helps you verify if the correct geographic region was processed and plotted. This is particularly useful as it allows immediate feedback on whether the user-defined boundaries or selected areas (e.g., Germany and Switzerland) were captured correctly.\n",
        "\n",
        "- **Data Quality Check**: Visualizing the output also serves as a preliminary quality check, allowing you to detect any unexpected results or anomalies in the data. For instance, the color bar indicating the \"Intensity (days)\" gives an indication of how the hazard index is distributed across the mapped area.\n",
        "\n",
        "- **Quick Workflow Testing**: This step is essential for testing the entire workflow, ensuring that the process is working as expected from data download, processing, and hazard object creation to visualization.\n",
        "\n",
        "This output provides a structured dataset ready for further analysis within the CLIMADA framework, allowing for the evaluation of potential impacts and the planning of mitigation strategies. "
      ]
    },
    {
      "cell_type": "code",
      "execution_count": null,
      "metadata": {
        "colab": {
          "base_uri": "https://localhost:8080/"
        },
        "id": "y78UZXsFEtsm",
        "outputId": "4cf68795-d454-49cb-e32c-ae9d57f1f500"
      },
      "outputs": [
        {
          "name": "stdout",
          "output_type": "stream",
          "text": [
            "2025-03-21 14:25:24,432 - climada_petals.hazard.copernicus_interface.create_seasonal_forecast_hazard - INFO - Creating hazard for index TX30 for year 2023, initiation month 03.\n",
            "2025-03-21 14:25:25,382 - climada.hazard.io - INFO - Writing /root/climada/data/copernicus_data/seasonal_forecasts/dwd/sys21/2023/init03/valid06_08/hazard/TX30/TX30_boundsW4_S44_E11_N48.hdf5\n",
            "2025-03-21 14:25:25,419 - climada.hazard.centroids.centr - INFO - Writing /root/climada/data/copernicus_data/seasonal_forecasts/dwd/sys21/2023/init03/valid06_08/hazard/TX30/TX30_boundsW4_S44_E11_N48.hdf5\n",
            "2025-03-21 14:25:25,899 - climada_petals.hazard.copernicus_interface.create_seasonal_forecast_hazard - INFO - Hazard file saved to /root/climada/data/copernicus_data/seasonal_forecasts/dwd/sys21/2023/init03/valid06_08/hazard/TX30/TX30_boundsW4_S44_E11_N48.hdf5\n",
            "2025-03-21 14:25:25,901 - climada_petals.hazard.copernicus_interface.create_seasonal_forecast_hazard - INFO - Creating hazard for index TX30 for year 2023, initiation month 04.\n",
            "2025-03-21 14:25:26,512 - climada.hazard.io - INFO - Writing /root/climada/data/copernicus_data/seasonal_forecasts/dwd/sys21/2023/init04/valid06_08/hazard/TX30/TX30_boundsW4_S44_E11_N48.hdf5\n",
            "2025-03-21 14:25:26,534 - climada.hazard.centroids.centr - INFO - Writing /root/climada/data/copernicus_data/seasonal_forecasts/dwd/sys21/2023/init04/valid06_08/hazard/TX30/TX30_boundsW4_S44_E11_N48.hdf5\n",
            "2025-03-21 14:25:26,547 - climada_petals.hazard.copernicus_interface.create_seasonal_forecast_hazard - INFO - Hazard file saved to /root/climada/data/copernicus_data/seasonal_forecasts/dwd/sys21/2023/init04/valid06_08/hazard/TX30/TX30_boundsW4_S44_E11_N48.hdf5\n",
            "2025-03-21 14:25:26,550 - climada_petals.hazard.copernicus_interface.create_seasonal_forecast_hazard - INFO - Creating hazard for index TX30 for year 2023, initiation month 05.\n",
            "2025-03-21 14:25:27,174 - climada.hazard.io - INFO - Writing /root/climada/data/copernicus_data/seasonal_forecasts/dwd/sys21/2023/init05/valid06_08/hazard/TX30/TX30_boundsW4_S44_E11_N48.hdf5\n",
            "2025-03-21 14:25:27,196 - climada.hazard.centroids.centr - INFO - Writing /root/climada/data/copernicus_data/seasonal_forecasts/dwd/sys21/2023/init05/valid06_08/hazard/TX30/TX30_boundsW4_S44_E11_N48.hdf5\n",
            "2025-03-21 14:25:27,209 - climada_petals.hazard.copernicus_interface.create_seasonal_forecast_hazard - INFO - Hazard file saved to /root/climada/data/copernicus_data/seasonal_forecasts/dwd/sys21/2023/init05/valid06_08/hazard/TX30/TX30_boundsW4_S44_E11_N48.hdf5\n"
          ]
        },
        {
          "data": {
            "text/plain": [
              "{'2023_init03_valid06_08': PosixPath('/root/climada/data/copernicus_data/seasonal_forecasts/dwd/sys21/2023/init03/valid06_08/hazard/TX30/TX30_boundsW4_S44_E11_N48.hdf5'),\n",
              " '2023_init04_valid06_08': PosixPath('/root/climada/data/copernicus_data/seasonal_forecasts/dwd/sys21/2023/init04/valid06_08/hazard/TX30/TX30_boundsW4_S44_E11_N48.hdf5'),\n",
              " '2023_init05_valid06_08': PosixPath('/root/climada/data/copernicus_data/seasonal_forecasts/dwd/sys21/2023/init05/valid06_08/hazard/TX30/TX30_boundsW4_S44_E11_N48.hdf5')}"
            ]
          },
          "execution_count": 21,
          "metadata": {},
          "output_type": "execute_result"
        }
      ],
      "source": [
        "handler.save_index_to_hazard()"
      ]
    },
    {
      "attachments": {},
      "cell_type": "markdown",
      "metadata": {
        "id": "3CpctyTM7zby"
      },
      "source": [
        "## Example for reading and plotting hazard\n",
        "\n",
        "The saved hazard file can then be read and processed by standard CLIMADA methods. For instance, below, we load the hazard for the last month and plot the intensity per grid point maximized over all forecast ensemble members."
      ]
    },
    {
      "cell_type": "code",
      "execution_count": null,
      "metadata": {
        "colab": {
          "base_uri": "https://localhost:8080/",
          "height": 491
        },
        "id": "0T06XjbwE3Uy",
        "outputId": "d263840b-2d03-44ce-f09b-2a6600a6fecc"
      },
      "outputs": [
        {
          "name": "stdout",
          "output_type": "stream",
          "text": [
            "2025-03-21 14:25:27,225 - climada.hazard.io - INFO - Reading /root/climada/data/copernicus_data/seasonal_forecasts/dwd/sys21/2023/init03/valid06_08/hazard/TX30/TX30_boundsW4_S44_E11_N48.hdf5\n",
            "Available Dates Across Members: ['2023-06-01', '2023-07-01', '2023-08-01']\n",
            "Selected Date for Plotting: 2023-08-01\n"
          ]
        },
        {
          "data": {
            "image/png": "[encoded data removed]",
            "text/plain": [
              "<Figure size 900x1300 with 2 Axes>"
            ]
          },
          "metadata": {},
          "output_type": "display_data"
        }
      ],
      "source": [
        "# load an example hazard\n",
        "initiation_month_str = f\"{month_name_to_number(initiation_month[0]):02d}\"\n",
        "forecast_month_str = f\"{handler.valid_period_str[-2:]}\"  # Last month in valid period\n",
        "forecast_year =  year_list[0]\n",
        "if int(initiation_month_str) > int(forecast_month_str):\n",
        "    forecast_year += 1  # Forecast extends to the next year\n",
        "\n",
        "# Load the hazard and plot intensity for the selected grid, maximized over ensemble\n",
        "path_to_hazard = handler.get_pipeline_path(forecast_year, initiation_month_str, \"hazard\")\n",
        "haz = Hazard.from_hdf5(path_to_hazard)\n",
        "\n",
        "if haz:\n",
        "    available_dates = sorted(set(haz.date))  # Remove duplicates and sort\n",
        "    readable_dates = [dt.datetime.fromordinal(d).strftime('%Y-%m-%d') for d in available_dates] # Convert ordinal dates to ISO 8601 date format (YYYY-MM-DD)\n",
        "    print(\"Available Dates Across Members:\", readable_dates)  # Print only unique dates\n",
        "\n",
        "    # Find the closest date in the dataset\n",
        "    target_date = dt.datetime(forecast_year, int(forecast_month_str), 1).toordinal()\n",
        "    closest_date = min(available_dates, key=lambda x: abs(x - target_date))\n",
        "    closest_date_str = dt.datetime.fromordinal(closest_date).strftime('%Y-%m-%d')\n",
        "\n",
        "    # Plot intensity for the selected event\n",
        "    print(f\"Selected Date for Plotting: {closest_date_str}\")\n",
        "    haz.select(date=[closest_date, closest_date]).plot_intensity(event=0, smooth=False)\n",
        "else:\n",
        "    print(\"No hazard data found for the selected period.\")"
      ]
    },
    {
      "cell_type": "code",
      "execution_count": null,
      "metadata": {
        "id": "5k3Ww50fFRrV"
      },
      "outputs": [],
      "source": []
    }
  ],
  "metadata": {
    "colab": {
      "provenance": []
    },
    "kernelspec": {
      "display_name": "Python 3",
      "name": "python3"
    },
    "language_info": {
      "name": "python"
    },
    "widgets": {
      "application/vnd.jupyter.widget-state+json": {
        "0300cf47e750444da5f9dbf053617224": {
          "model_module": "@jupyter-widgets/base",
          "model_module_version": "1.2.0",
          "model_name": "LayoutModel",
          "state": {
            "_model_module": "@jupyter-widgets/base",
            "_model_module_version": "1.2.0",
            "_model_name": "LayoutModel",
            "_view_count": null,
            "_view_module": "@jupyter-widgets/base",
            "_view_module_version": "1.2.0",
            "_view_name": "LayoutView",
            "align_content": null,
            "align_items": null,
            "align_self": null,
            "border": null,
            "bottom": null,
            "display": null,
            "flex": null,
            "flex_flow": null,
            "grid_area": null,
            "grid_auto_columns": null,
            "grid_auto_flow": null,
            "grid_auto_rows": null,
            "grid_column": null,
            "grid_gap": null,
            "grid_row": null,
            "grid_template_areas": null,
            "grid_template_columns": null,
            "grid_template_rows": null,
            "height": null,
            "justify_content": null,
            "justify_items": null,
            "left": null,
            "margin": null,
            "max_height": null,
            "max_width": null,
            "min_height": null,
            "min_width": null,
            "object_fit": null,
            "object_position": null,
            "order": null,
            "overflow": null,
            "overflow_x": null,
            "overflow_y": null,
            "padding": null,
            "right": null,
            "top": null,
            "visibility": null,
            "width": null
          }
        },
        "0d37710513bf4837ad428d46b733b176": {
          "model_module": "@jupyter-widgets/base",
          "model_module_version": "1.2.0",
          "model_name": "LayoutModel",
          "state": {
            "_model_module": "@jupyter-widgets/base",
            "_model_module_version": "1.2.0",
            "_model_name": "LayoutModel",
            "_view_count": null,
            "_view_module": "@jupyter-widgets/base",
            "_view_module_version": "1.2.0",
            "_view_name": "LayoutView",
            "align_content": null,
            "align_items": null,
            "align_self": null,
            "border": null,
            "bottom": null,
            "display": null,
            "flex": null,
            "flex_flow": null,
            "grid_area": null,
            "grid_auto_columns": null,
            "grid_auto_flow": null,
            "grid_auto_rows": null,
            "grid_column": null,
            "grid_gap": null,
            "grid_row": null,
            "grid_template_areas": null,
            "grid_template_columns": null,
            "grid_template_rows": null,
            "height": null,
            "justify_content": null,
            "justify_items": null,
            "left": null,
            "margin": null,
            "max_height": null,
            "max_width": null,
            "min_height": null,
            "min_width": null,
            "object_fit": null,
            "object_position": null,
            "order": null,
            "overflow": null,
            "overflow_x": null,
            "overflow_y": null,
            "padding": null,
            "right": null,
            "top": null,
            "visibility": "hidden",
            "width": null
          }
        },
        "0d599310eb5c407181b13c55eafb13a9": {
          "model_module": "@jupyter-widgets/controls",
          "model_module_version": "1.5.0",
          "model_name": "DescriptionStyleModel",
          "state": {
            "_model_module": "@jupyter-widgets/controls",
            "_model_module_version": "1.5.0",
            "_model_name": "DescriptionStyleModel",
            "_view_count": null,
            "_view_module": "@jupyter-widgets/base",
            "_view_module_version": "1.2.0",
            "_view_name": "StyleView",
            "description_width": ""
          }
        },
        "1f0e216fcddd459a98869aa515164405": {
          "model_module": "@jupyter-widgets/controls",
          "model_module_version": "1.5.0",
          "model_name": "HBoxModel",
          "state": {
            "_dom_classes": [],
            "_model_module": "@jupyter-widgets/controls",
            "_model_module_version": "1.5.0",
            "_model_name": "HBoxModel",
            "_view_count": null,
            "_view_module": "@jupyter-widgets/controls",
            "_view_module_version": "1.5.0",
            "_view_name": "HBoxView",
            "box_style": "",
            "children": [
              "IPY_MODEL_8fc585667ffa4eeb81f66fc1c26deb33",
              "IPY_MODEL_8cc542271fef4f01892ec9752c078c23",
              "IPY_MODEL_5581621c36b94df588a7649c60d0cef1"
            ],
            "layout": "IPY_MODEL_4b33a8b544e8412294fef4825d35676c"
          }
        },
        "29bcf7d86e194df3bafe171bea3a0ee1": {
          "model_module": "@jupyter-widgets/controls",
          "model_module_version": "1.5.0",
          "model_name": "ProgressStyleModel",
          "state": {
            "_model_module": "@jupyter-widgets/controls",
            "_model_module_version": "1.5.0",
            "_model_name": "ProgressStyleModel",
            "_view_count": null,
            "_view_module": "@jupyter-widgets/base",
            "_view_module_version": "1.2.0",
            "_view_name": "StyleView",
            "bar_color": null,
            "description_width": ""
          }
        },
        "300c3ae793e44c558d89a143fb0c114e": {
          "model_module": "@jupyter-widgets/base",
          "model_module_version": "1.2.0",
          "model_name": "LayoutModel",
          "state": {
            "_model_module": "@jupyter-widgets/base",
            "_model_module_version": "1.2.0",
            "_model_name": "LayoutModel",
            "_view_count": null,
            "_view_module": "@jupyter-widgets/base",
            "_view_module_version": "1.2.0",
            "_view_name": "LayoutView",
            "align_content": null,
            "align_items": null,
            "align_self": null,
            "border": null,
            "bottom": null,
            "display": null,
            "flex": null,
            "flex_flow": null,
            "grid_area": null,
            "grid_auto_columns": null,
            "grid_auto_flow": null,
            "grid_auto_rows": null,
            "grid_column": null,
            "grid_gap": null,
            "grid_row": null,
            "grid_template_areas": null,
            "grid_template_columns": null,
            "grid_template_rows": null,
            "height": null,
            "justify_content": null,
            "justify_items": null,
            "left": null,
            "margin": null,
            "max_height": null,
            "max_width": null,
            "min_height": null,
            "min_width": null,
            "object_fit": null,
            "object_position": null,
            "order": null,
            "overflow": null,
            "overflow_x": null,
            "overflow_y": null,
            "padding": null,
            "right": null,
            "top": null,
            "visibility": null,
            "width": null
          }
        },
        "30bbd52b0f1b415b9b7ca684fcfcd881": {
          "model_module": "@jupyter-widgets/base",
          "model_module_version": "1.2.0",
          "model_name": "LayoutModel",
          "state": {
            "_model_module": "@jupyter-widgets/base",
            "_model_module_version": "1.2.0",
            "_model_name": "LayoutModel",
            "_view_count": null,
            "_view_module": "@jupyter-widgets/base",
            "_view_module_version": "1.2.0",
            "_view_name": "LayoutView",
            "align_content": null,
            "align_items": null,
            "align_self": null,
            "border": null,
            "bottom": null,
            "display": null,
            "flex": null,
            "flex_flow": null,
            "grid_area": null,
            "grid_auto_columns": null,
            "grid_auto_flow": null,
            "grid_auto_rows": null,
            "grid_column": null,
            "grid_gap": null,
            "grid_row": null,
            "grid_template_areas": null,
            "grid_template_columns": null,
            "grid_template_rows": null,
            "height": null,
            "justify_content": null,
            "justify_items": null,
            "left": null,
            "margin": null,
            "max_height": null,
            "max_width": null,
            "min_height": null,
            "min_width": null,
            "object_fit": null,
            "object_position": null,
            "order": null,
            "overflow": null,
            "overflow_x": null,
            "overflow_y": null,
            "padding": null,
            "right": null,
            "top": null,
            "visibility": "hidden",
            "width": null
          }
        },
        "3bad2f512c324ae6b7181868556ccf8e": {
          "model_module": "@jupyter-widgets/controls",
          "model_module_version": "1.5.0",
          "model_name": "DescriptionStyleModel",
          "state": {
            "_model_module": "@jupyter-widgets/controls",
            "_model_module_version": "1.5.0",
            "_model_name": "DescriptionStyleModel",
            "_view_count": null,
            "_view_module": "@jupyter-widgets/base",
            "_view_module_version": "1.2.0",
            "_view_name": "StyleView",
            "description_width": ""
          }
        },
        "3bd9860e8e74420fadd9981558a1e060": {
          "model_module": "@jupyter-widgets/controls",
          "model_module_version": "1.5.0",
          "model_name": "HTMLModel",
          "state": {
            "_dom_classes": [],
            "_model_module": "@jupyter-widgets/controls",
            "_model_module_version": "1.5.0",
            "_model_name": "HTMLModel",
            "_view_count": null,
            "_view_module": "@jupyter-widgets/controls",
            "_view_module_version": "1.5.0",
            "_view_name": "HTMLView",
            "description": "",
            "description_tooltip": null,
            "layout": "IPY_MODEL_dbce65675af146f88c4e9bd04ded1c67",
            "placeholder": "​",
            "style": "IPY_MODEL_81757ea9b1214277bf68c4004350d5c5",
            "value": " 3.00M/3.51M [00:02&lt;00:00, 1.72MB/s]"
          }
        },
        "4348b07310884b8fa0f431e3055859ba": {
          "model_module": "@jupyter-widgets/base",
          "model_module_version": "1.2.0",
          "model_name": "LayoutModel",
          "state": {
            "_model_module": "@jupyter-widgets/base",
            "_model_module_version": "1.2.0",
            "_model_name": "LayoutModel",
            "_view_count": null,
            "_view_module": "@jupyter-widgets/base",
            "_view_module_version": "1.2.0",
            "_view_name": "LayoutView",
            "align_content": null,
            "align_items": null,
            "align_self": null,
            "border": null,
            "bottom": null,
            "display": null,
            "flex": null,
            "flex_flow": null,
            "grid_area": null,
            "grid_auto_columns": null,
            "grid_auto_flow": null,
            "grid_auto_rows": null,
            "grid_column": null,
            "grid_gap": null,
            "grid_row": null,
            "grid_template_areas": null,
            "grid_template_columns": null,
            "grid_template_rows": null,
            "height": null,
            "justify_content": null,
            "justify_items": null,
            "left": null,
            "margin": null,
            "max_height": null,
            "max_width": null,
            "min_height": null,
            "min_width": null,
            "object_fit": null,
            "object_position": null,
            "order": null,
            "overflow": null,
            "overflow_x": null,
            "overflow_y": null,
            "padding": null,
            "right": null,
            "top": null,
            "visibility": null,
            "width": null
          }
        },
        "463c48fd11df420287df154bf2639b94": {
          "model_module": "@jupyter-widgets/base",
          "model_module_version": "1.2.0",
          "model_name": "LayoutModel",
          "state": {
            "_model_module": "@jupyter-widgets/base",
            "_model_module_version": "1.2.0",
            "_model_name": "LayoutModel",
            "_view_count": null,
            "_view_module": "@jupyter-widgets/base",
            "_view_module_version": "1.2.0",
            "_view_name": "LayoutView",
            "align_content": null,
            "align_items": null,
            "align_self": null,
            "border": null,
            "bottom": null,
            "display": null,
            "flex": null,
            "flex_flow": null,
            "grid_area": null,
            "grid_auto_columns": null,
            "grid_auto_flow": null,
            "grid_auto_rows": null,
            "grid_column": null,
            "grid_gap": null,
            "grid_row": null,
            "grid_template_areas": null,
            "grid_template_columns": null,
            "grid_template_rows": null,
            "height": null,
            "justify_content": null,
            "justify_items": null,
            "left": null,
            "margin": null,
            "max_height": null,
            "max_width": null,
            "min_height": null,
            "min_width": null,
            "object_fit": null,
            "object_position": null,
            "order": null,
            "overflow": null,
            "overflow_x": null,
            "overflow_y": null,
            "padding": null,
            "right": null,
            "top": null,
            "visibility": null,
            "width": null
          }
        },
        "4ab8e4c44cdf4254863339fac871151d": {
          "model_module": "@jupyter-widgets/controls",
          "model_module_version": "1.5.0",
          "model_name": "HTMLModel",
          "state": {
            "_dom_classes": [],
            "_model_module": "@jupyter-widgets/controls",
            "_model_module_version": "1.5.0",
            "_model_name": "HTMLModel",
            "_view_count": null,
            "_view_module": "@jupyter-widgets/controls",
            "_view_module_version": "1.5.0",
            "_view_name": "HTMLView",
            "description": "",
            "description_tooltip": null,
            "layout": "IPY_MODEL_fa5cca7fd34d4a3c96dc1d9fe4d04644",
            "placeholder": "​",
            "style": "IPY_MODEL_6d80bd085e4d4d2cbb9a64cc9196b972",
            "value": " 1.98M/1.98M [00:02&lt;00:00, 965kB/s]"
          }
        },
        "4b33a8b544e8412294fef4825d35676c": {
          "model_module": "@jupyter-widgets/base",
          "model_module_version": "1.2.0",
          "model_name": "LayoutModel",
          "state": {
            "_model_module": "@jupyter-widgets/base",
            "_model_module_version": "1.2.0",
            "_model_name": "LayoutModel",
            "_view_count": null,
            "_view_module": "@jupyter-widgets/base",
            "_view_module_version": "1.2.0",
            "_view_name": "LayoutView",
            "align_content": null,
            "align_items": null,
            "align_self": null,
            "border": null,
            "bottom": null,
            "display": null,
            "flex": null,
            "flex_flow": null,
            "grid_area": null,
            "grid_auto_columns": null,
            "grid_auto_flow": null,
            "grid_auto_rows": null,
            "grid_column": null,
            "grid_gap": null,
            "grid_row": null,
            "grid_template_areas": null,
            "grid_template_columns": null,
            "grid_template_rows": null,
            "height": null,
            "justify_content": null,
            "justify_items": null,
            "left": null,
            "margin": null,
            "max_height": null,
            "max_width": null,
            "min_height": null,
            "min_width": null,
            "object_fit": null,
            "object_position": null,
            "order": null,
            "overflow": null,
            "overflow_x": null,
            "overflow_y": null,
            "padding": null,
            "right": null,
            "top": null,
            "visibility": "hidden",
            "width": null
          }
        },
        "5251f8b90d534b2bbf23588a6f974427": {
          "model_module": "@jupyter-widgets/base",
          "model_module_version": "1.2.0",
          "model_name": "LayoutModel",
          "state": {
            "_model_module": "@jupyter-widgets/base",
            "_model_module_version": "1.2.0",
            "_model_name": "LayoutModel",
            "_view_count": null,
            "_view_module": "@jupyter-widgets/base",
            "_view_module_version": "1.2.0",
            "_view_name": "LayoutView",
            "align_content": null,
            "align_items": null,
            "align_self": null,
            "border": null,
            "bottom": null,
            "display": null,
            "flex": null,
            "flex_flow": null,
            "grid_area": null,
            "grid_auto_columns": null,
            "grid_auto_flow": null,
            "grid_auto_rows": null,
            "grid_column": null,
            "grid_gap": null,
            "grid_row": null,
            "grid_template_areas": null,
            "grid_template_columns": null,
            "grid_template_rows": null,
            "height": null,
            "justify_content": null,
            "justify_items": null,
            "left": null,
            "margin": null,
            "max_height": null,
            "max_width": null,
            "min_height": null,
            "min_width": null,
            "object_fit": null,
            "object_position": null,
            "order": null,
            "overflow": null,
            "overflow_x": null,
            "overflow_y": null,
            "padding": null,
            "right": null,
            "top": null,
            "visibility": null,
            "width": null
          }
        },
        "5581621c36b94df588a7649c60d0cef1": {
          "model_module": "@jupyter-widgets/controls",
          "model_module_version": "1.5.0",
          "model_name": "HTMLModel",
          "state": {
            "_dom_classes": [],
            "_model_module": "@jupyter-widgets/controls",
            "_model_module_version": "1.5.0",
            "_model_name": "HTMLModel",
            "_view_count": null,
            "_view_module": "@jupyter-widgets/controls",
            "_view_module_version": "1.5.0",
            "_view_name": "HTMLView",
            "description": "",
            "description_tooltip": null,
            "layout": "IPY_MODEL_4348b07310884b8fa0f431e3055859ba",
            "placeholder": "​",
            "style": "IPY_MODEL_b9822c7858524c448f5757e5087d8407",
            "value": " 3.00M/3.51M [00:02&lt;00:00, 1.57MB/s]"
          }
        },
        "58aa641602a147cdb97b9b45cbf3a29b": {
          "model_module": "@jupyter-widgets/controls",
          "model_module_version": "1.5.0",
          "model_name": "HBoxModel",
          "state": {
            "_dom_classes": [],
            "_model_module": "@jupyter-widgets/controls",
            "_model_module_version": "1.5.0",
            "_model_name": "HBoxModel",
            "_view_count": null,
            "_view_module": "@jupyter-widgets/controls",
            "_view_module_version": "1.5.0",
            "_view_name": "HBoxView",
            "box_style": "",
            "children": [
              "IPY_MODEL_dd494d0e1a5f4aa29da9146ea4ae5701",
              "IPY_MODEL_e4c2a6cb65584619adaf9e08ba1d7814",
              "IPY_MODEL_3bd9860e8e74420fadd9981558a1e060"
            ],
            "layout": "IPY_MODEL_af96dad7f4a241579fb0f004f98fef1a"
          }
        },
        "63756515f1414e6dbc163cb325c7cd48": {
          "model_module": "@jupyter-widgets/controls",
          "model_module_version": "1.5.0",
          "model_name": "ProgressStyleModel",
          "state": {
            "_model_module": "@jupyter-widgets/controls",
            "_model_module_version": "1.5.0",
            "_model_name": "ProgressStyleModel",
            "_view_count": null,
            "_view_module": "@jupyter-widgets/base",
            "_view_module_version": "1.2.0",
            "_view_name": "StyleView",
            "bar_color": null,
            "description_width": ""
          }
        },
        "6a6650526f1946579d9af1761204e593": {
          "model_module": "@jupyter-widgets/base",
          "model_module_version": "1.2.0",
          "model_name": "LayoutModel",
          "state": {
            "_model_module": "@jupyter-widgets/base",
            "_model_module_version": "1.2.0",
            "_model_name": "LayoutModel",
            "_view_count": null,
            "_view_module": "@jupyter-widgets/base",
            "_view_module_version": "1.2.0",
            "_view_name": "LayoutView",
            "align_content": null,
            "align_items": null,
            "align_self": null,
            "border": null,
            "bottom": null,
            "display": null,
            "flex": null,
            "flex_flow": null,
            "grid_area": null,
            "grid_auto_columns": null,
            "grid_auto_flow": null,
            "grid_auto_rows": null,
            "grid_column": null,
            "grid_gap": null,
            "grid_row": null,
            "grid_template_areas": null,
            "grid_template_columns": null,
            "grid_template_rows": null,
            "height": null,
            "justify_content": null,
            "justify_items": null,
            "left": null,
            "margin": null,
            "max_height": null,
            "max_width": null,
            "min_height": null,
            "min_width": null,
            "object_fit": null,
            "object_position": null,
            "order": null,
            "overflow": null,
            "overflow_x": null,
            "overflow_y": null,
            "padding": null,
            "right": null,
            "top": null,
            "visibility": null,
            "width": null
          }
        },
        "6d80bd085e4d4d2cbb9a64cc9196b972": {
          "model_module": "@jupyter-widgets/controls",
          "model_module_version": "1.5.0",
          "model_name": "DescriptionStyleModel",
          "state": {
            "_model_module": "@jupyter-widgets/controls",
            "_model_module_version": "1.5.0",
            "_model_name": "DescriptionStyleModel",
            "_view_count": null,
            "_view_module": "@jupyter-widgets/base",
            "_view_module_version": "1.2.0",
            "_view_name": "StyleView",
            "description_width": ""
          }
        },
        "78e02fb76fe948f6a746522d6f4ec128": {
          "model_module": "@jupyter-widgets/base",
          "model_module_version": "1.2.0",
          "model_name": "LayoutModel",
          "state": {
            "_model_module": "@jupyter-widgets/base",
            "_model_module_version": "1.2.0",
            "_model_name": "LayoutModel",
            "_view_count": null,
            "_view_module": "@jupyter-widgets/base",
            "_view_module_version": "1.2.0",
            "_view_name": "LayoutView",
            "align_content": null,
            "align_items": null,
            "align_self": null,
            "border": null,
            "bottom": null,
            "display": null,
            "flex": null,
            "flex_flow": null,
            "grid_area": null,
            "grid_auto_columns": null,
            "grid_auto_flow": null,
            "grid_auto_rows": null,
            "grid_column": null,
            "grid_gap": null,
            "grid_row": null,
            "grid_template_areas": null,
            "grid_template_columns": null,
            "grid_template_rows": null,
            "height": null,
            "justify_content": null,
            "justify_items": null,
            "left": null,
            "margin": null,
            "max_height": null,
            "max_width": null,
            "min_height": null,
            "min_width": null,
            "object_fit": null,
            "object_position": null,
            "order": null,
            "overflow": null,
            "overflow_x": null,
            "overflow_y": null,
            "padding": null,
            "right": null,
            "top": null,
            "visibility": null,
            "width": null
          }
        },
        "81757ea9b1214277bf68c4004350d5c5": {
          "model_module": "@jupyter-widgets/controls",
          "model_module_version": "1.5.0",
          "model_name": "DescriptionStyleModel",
          "state": {
            "_model_module": "@jupyter-widgets/controls",
            "_model_module_version": "1.5.0",
            "_model_name": "DescriptionStyleModel",
            "_view_count": null,
            "_view_module": "@jupyter-widgets/base",
            "_view_module_version": "1.2.0",
            "_view_name": "StyleView",
            "description_width": ""
          }
        },
        "8875f28dfc1f45a48c6fb3de4ce4a0fa": {
          "model_module": "@jupyter-widgets/controls",
          "model_module_version": "1.5.0",
          "model_name": "HBoxModel",
          "state": {
            "_dom_classes": [],
            "_model_module": "@jupyter-widgets/controls",
            "_model_module_version": "1.5.0",
            "_model_name": "HBoxModel",
            "_view_count": null,
            "_view_module": "@jupyter-widgets/controls",
            "_view_module_version": "1.5.0",
            "_view_name": "HBoxView",
            "box_style": "",
            "children": [
              "IPY_MODEL_bf28bf22ae52434886fd881d156aa507",
              "IPY_MODEL_a7456bd476834286b07131ec38e4d566",
              "IPY_MODEL_4ab8e4c44cdf4254863339fac871151d"
            ],
            "layout": "IPY_MODEL_0d37710513bf4837ad428d46b733b176"
          }
        },
        "8b2f6a25932a43eb83d187ed602b0b8b": {
          "model_module": "@jupyter-widgets/base",
          "model_module_version": "1.2.0",
          "model_name": "LayoutModel",
          "state": {
            "_model_module": "@jupyter-widgets/base",
            "_model_module_version": "1.2.0",
            "_model_name": "LayoutModel",
            "_view_count": null,
            "_view_module": "@jupyter-widgets/base",
            "_view_module_version": "1.2.0",
            "_view_name": "LayoutView",
            "align_content": null,
            "align_items": null,
            "align_self": null,
            "border": null,
            "bottom": null,
            "display": null,
            "flex": null,
            "flex_flow": null,
            "grid_area": null,
            "grid_auto_columns": null,
            "grid_auto_flow": null,
            "grid_auto_rows": null,
            "grid_column": null,
            "grid_gap": null,
            "grid_row": null,
            "grid_template_areas": null,
            "grid_template_columns": null,
            "grid_template_rows": null,
            "height": null,
            "justify_content": null,
            "justify_items": null,
            "left": null,
            "margin": null,
            "max_height": null,
            "max_width": null,
            "min_height": null,
            "min_width": null,
            "object_fit": null,
            "object_position": null,
            "order": null,
            "overflow": null,
            "overflow_x": null,
            "overflow_y": null,
            "padding": null,
            "right": null,
            "top": null,
            "visibility": null,
            "width": null
          }
        },
        "8cc542271fef4f01892ec9752c078c23": {
          "model_module": "@jupyter-widgets/controls",
          "model_module_version": "1.5.0",
          "model_name": "FloatProgressModel",
          "state": {
            "_dom_classes": [],
            "_model_module": "@jupyter-widgets/controls",
            "_model_module_version": "1.5.0",
            "_model_name": "FloatProgressModel",
            "_view_count": null,
            "_view_module": "@jupyter-widgets/controls",
            "_view_module_version": "1.5.0",
            "_view_name": "ProgressView",
            "bar_style": "",
            "description": "",
            "description_tooltip": null,
            "layout": "IPY_MODEL_5251f8b90d534b2bbf23588a6f974427",
            "max": 3680000,
            "min": 0,
            "orientation": "horizontal",
            "style": "IPY_MODEL_b76a790ee9ee4ba2b0cb6ac1e8b5ce9c",
            "value": 3680000
          }
        },
        "8fc585667ffa4eeb81f66fc1c26deb33": {
          "model_module": "@jupyter-widgets/controls",
          "model_module_version": "1.5.0",
          "model_name": "HTMLModel",
          "state": {
            "_dom_classes": [],
            "_model_module": "@jupyter-widgets/controls",
            "_model_module_version": "1.5.0",
            "_model_name": "HTMLModel",
            "_view_count": null,
            "_view_module": "@jupyter-widgets/controls",
            "_view_module_version": "1.5.0",
            "_view_name": "HTMLView",
            "description": "",
            "description_tooltip": null,
            "layout": "IPY_MODEL_9d3bff9bb4254bd59e2f537b80cf8ca3",
            "placeholder": "​",
            "style": "IPY_MODEL_0d599310eb5c407181b13c55eafb13a9",
            "value": "dd8fb9bf71c8b88717662a43e85cae9a.grib:  85%"
          }
        },
        "9d3bff9bb4254bd59e2f537b80cf8ca3": {
          "model_module": "@jupyter-widgets/base",
          "model_module_version": "1.2.0",
          "model_name": "LayoutModel",
          "state": {
            "_model_module": "@jupyter-widgets/base",
            "_model_module_version": "1.2.0",
            "_model_name": "LayoutModel",
            "_view_count": null,
            "_view_module": "@jupyter-widgets/base",
            "_view_module_version": "1.2.0",
            "_view_name": "LayoutView",
            "align_content": null,
            "align_items": null,
            "align_self": null,
            "border": null,
            "bottom": null,
            "display": null,
            "flex": null,
            "flex_flow": null,
            "grid_area": null,
            "grid_auto_columns": null,
            "grid_auto_flow": null,
            "grid_auto_rows": null,
            "grid_column": null,
            "grid_gap": null,
            "grid_row": null,
            "grid_template_areas": null,
            "grid_template_columns": null,
            "grid_template_rows": null,
            "height": null,
            "justify_content": null,
            "justify_items": null,
            "left": null,
            "margin": null,
            "max_height": null,
            "max_width": null,
            "min_height": null,
            "min_width": null,
            "object_fit": null,
            "object_position": null,
            "order": null,
            "overflow": null,
            "overflow_x": null,
            "overflow_y": null,
            "padding": null,
            "right": null,
            "top": null,
            "visibility": null,
            "width": null
          }
        },
        "a12f0863f8494e3cb12f5e362db03ff7": {
          "model_module": "@jupyter-widgets/controls",
          "model_module_version": "1.5.0",
          "model_name": "ProgressStyleModel",
          "state": {
            "_model_module": "@jupyter-widgets/controls",
            "_model_module_version": "1.5.0",
            "_model_name": "ProgressStyleModel",
            "_view_count": null,
            "_view_module": "@jupyter-widgets/base",
            "_view_module_version": "1.2.0",
            "_view_name": "StyleView",
            "bar_color": null,
            "description_width": ""
          }
        },
        "a7456bd476834286b07131ec38e4d566": {
          "model_module": "@jupyter-widgets/controls",
          "model_module_version": "1.5.0",
          "model_name": "FloatProgressModel",
          "state": {
            "_dom_classes": [],
            "_model_module": "@jupyter-widgets/controls",
            "_model_module_version": "1.5.0",
            "_model_name": "FloatProgressModel",
            "_view_count": null,
            "_view_module": "@jupyter-widgets/controls",
            "_view_module_version": "1.5.0",
            "_view_name": "ProgressView",
            "bar_style": "",
            "description": "",
            "description_tooltip": null,
            "layout": "IPY_MODEL_78e02fb76fe948f6a746522d6f4ec128",
            "max": 2076588,
            "min": 0,
            "orientation": "horizontal",
            "style": "IPY_MODEL_a12f0863f8494e3cb12f5e362db03ff7",
            "value": 2076588
          }
        },
        "aa4e48c5bbda4494910ea5fa41e23d39": {
          "model_module": "@jupyter-widgets/controls",
          "model_module_version": "1.5.0",
          "model_name": "HBoxModel",
          "state": {
            "_dom_classes": [],
            "_model_module": "@jupyter-widgets/controls",
            "_model_module_version": "1.5.0",
            "_model_name": "HBoxModel",
            "_view_count": null,
            "_view_module": "@jupyter-widgets/controls",
            "_view_module_version": "1.5.0",
            "_view_name": "HBoxView",
            "box_style": "",
            "children": [
              "IPY_MODEL_ad6168033d654a9680bc66a51bced984",
              "IPY_MODEL_bf09b81eafe04144bfdb2f3367673e01",
              "IPY_MODEL_e69ce08437f546319636a4a2a082805d"
            ],
            "layout": "IPY_MODEL_30bbd52b0f1b415b9b7ca684fcfcd881"
          }
        },
        "ad6168033d654a9680bc66a51bced984": {
          "model_module": "@jupyter-widgets/controls",
          "model_module_version": "1.5.0",
          "model_name": "HTMLModel",
          "state": {
            "_dom_classes": [],
            "_model_module": "@jupyter-widgets/controls",
            "_model_module_version": "1.5.0",
            "_model_name": "HTMLModel",
            "_view_count": null,
            "_view_module": "@jupyter-widgets/controls",
            "_view_module_version": "1.5.0",
            "_view_name": "HTMLView",
            "description": "",
            "description_tooltip": null,
            "layout": "IPY_MODEL_f807f6b58fc3434ebcc9f72ead89ed63",
            "placeholder": "​",
            "style": "IPY_MODEL_fa99ef26f38d4145b515f083698ca701",
            "value": "da7737a0c7633370dc9afe85bf87365a.grib:  85%"
          }
        },
        "af96dad7f4a241579fb0f004f98fef1a": {
          "model_module": "@jupyter-widgets/base",
          "model_module_version": "1.2.0",
          "model_name": "LayoutModel",
          "state": {
            "_model_module": "@jupyter-widgets/base",
            "_model_module_version": "1.2.0",
            "_model_name": "LayoutModel",
            "_view_count": null,
            "_view_module": "@jupyter-widgets/base",
            "_view_module_version": "1.2.0",
            "_view_name": "LayoutView",
            "align_content": null,
            "align_items": null,
            "align_self": null,
            "border": null,
            "bottom": null,
            "display": null,
            "flex": null,
            "flex_flow": null,
            "grid_area": null,
            "grid_auto_columns": null,
            "grid_auto_flow": null,
            "grid_auto_rows": null,
            "grid_column": null,
            "grid_gap": null,
            "grid_row": null,
            "grid_template_areas": null,
            "grid_template_columns": null,
            "grid_template_rows": null,
            "height": null,
            "justify_content": null,
            "justify_items": null,
            "left": null,
            "margin": null,
            "max_height": null,
            "max_width": null,
            "min_height": null,
            "min_width": null,
            "object_fit": null,
            "object_position": null,
            "order": null,
            "overflow": null,
            "overflow_x": null,
            "overflow_y": null,
            "padding": null,
            "right": null,
            "top": null,
            "visibility": "hidden",
            "width": null
          }
        },
        "b76a790ee9ee4ba2b0cb6ac1e8b5ce9c": {
          "model_module": "@jupyter-widgets/controls",
          "model_module_version": "1.5.0",
          "model_name": "ProgressStyleModel",
          "state": {
            "_model_module": "@jupyter-widgets/controls",
            "_model_module_version": "1.5.0",
            "_model_name": "ProgressStyleModel",
            "_view_count": null,
            "_view_module": "@jupyter-widgets/base",
            "_view_module_version": "1.2.0",
            "_view_name": "StyleView",
            "bar_color": null,
            "description_width": ""
          }
        },
        "b795be8866064b73ab927a472066c0ff": {
          "model_module": "@jupyter-widgets/controls",
          "model_module_version": "1.5.0",
          "model_name": "DescriptionStyleModel",
          "state": {
            "_model_module": "@jupyter-widgets/controls",
            "_model_module_version": "1.5.0",
            "_model_name": "DescriptionStyleModel",
            "_view_count": null,
            "_view_module": "@jupyter-widgets/base",
            "_view_module_version": "1.2.0",
            "_view_name": "StyleView",
            "description_width": ""
          }
        },
        "b9822c7858524c448f5757e5087d8407": {
          "model_module": "@jupyter-widgets/controls",
          "model_module_version": "1.5.0",
          "model_name": "DescriptionStyleModel",
          "state": {
            "_model_module": "@jupyter-widgets/controls",
            "_model_module_version": "1.5.0",
            "_model_name": "DescriptionStyleModel",
            "_view_count": null,
            "_view_module": "@jupyter-widgets/base",
            "_view_module_version": "1.2.0",
            "_view_name": "StyleView",
            "description_width": ""
          }
        },
        "bf09b81eafe04144bfdb2f3367673e01": {
          "model_module": "@jupyter-widgets/controls",
          "model_module_version": "1.5.0",
          "model_name": "FloatProgressModel",
          "state": {
            "_dom_classes": [],
            "_model_module": "@jupyter-widgets/controls",
            "_model_module_version": "1.5.0",
            "_model_name": "FloatProgressModel",
            "_view_count": null,
            "_view_module": "@jupyter-widgets/controls",
            "_view_module_version": "1.5.0",
            "_view_name": "ProgressView",
            "bar_style": "",
            "description": "",
            "description_tooltip": null,
            "layout": "IPY_MODEL_0300cf47e750444da5f9dbf053617224",
            "max": 3680000,
            "min": 0,
            "orientation": "horizontal",
            "style": "IPY_MODEL_29bcf7d86e194df3bafe171bea3a0ee1",
            "value": 3680000
          }
        },
        "bf28bf22ae52434886fd881d156aa507": {
          "model_module": "@jupyter-widgets/controls",
          "model_module_version": "1.5.0",
          "model_name": "HTMLModel",
          "state": {
            "_dom_classes": [],
            "_model_module": "@jupyter-widgets/controls",
            "_model_module_version": "1.5.0",
            "_model_name": "HTMLModel",
            "_view_count": null,
            "_view_module": "@jupyter-widgets/controls",
            "_view_module_version": "1.5.0",
            "_view_name": "HTMLView",
            "description": "",
            "description_tooltip": null,
            "layout": "IPY_MODEL_8b2f6a25932a43eb83d187ed602b0b8b",
            "placeholder": "​",
            "style": "IPY_MODEL_3bad2f512c324ae6b7181868556ccf8e",
            "value": "78cf4326bae1c78bb7394803a5713ae3.grib: 100%"
          }
        },
        "dbce65675af146f88c4e9bd04ded1c67": {
          "model_module": "@jupyter-widgets/base",
          "model_module_version": "1.2.0",
          "model_name": "LayoutModel",
          "state": {
            "_model_module": "@jupyter-widgets/base",
            "_model_module_version": "1.2.0",
            "_model_name": "LayoutModel",
            "_view_count": null,
            "_view_module": "@jupyter-widgets/base",
            "_view_module_version": "1.2.0",
            "_view_name": "LayoutView",
            "align_content": null,
            "align_items": null,
            "align_self": null,
            "border": null,
            "bottom": null,
            "display": null,
            "flex": null,
            "flex_flow": null,
            "grid_area": null,
            "grid_auto_columns": null,
            "grid_auto_flow": null,
            "grid_auto_rows": null,
            "grid_column": null,
            "grid_gap": null,
            "grid_row": null,
            "grid_template_areas": null,
            "grid_template_columns": null,
            "grid_template_rows": null,
            "height": null,
            "justify_content": null,
            "justify_items": null,
            "left": null,
            "margin": null,
            "max_height": null,
            "max_width": null,
            "min_height": null,
            "min_width": null,
            "object_fit": null,
            "object_position": null,
            "order": null,
            "overflow": null,
            "overflow_x": null,
            "overflow_y": null,
            "padding": null,
            "right": null,
            "top": null,
            "visibility": null,
            "width": null
          }
        },
        "dd494d0e1a5f4aa29da9146ea4ae5701": {
          "model_module": "@jupyter-widgets/controls",
          "model_module_version": "1.5.0",
          "model_name": "HTMLModel",
          "state": {
            "_dom_classes": [],
            "_model_module": "@jupyter-widgets/controls",
            "_model_module_version": "1.5.0",
            "_model_name": "HTMLModel",
            "_view_count": null,
            "_view_module": "@jupyter-widgets/controls",
            "_view_module_version": "1.5.0",
            "_view_name": "HTMLView",
            "description": "",
            "description_tooltip": null,
            "layout": "IPY_MODEL_300c3ae793e44c558d89a143fb0c114e",
            "placeholder": "​",
            "style": "IPY_MODEL_ef274cfc84eb44fabd68336089eb2cbb",
            "value": "2a252b64f1f13df5ce4a51581b4cda1a.grib:  85%"
          }
        },
        "e4c2a6cb65584619adaf9e08ba1d7814": {
          "model_module": "@jupyter-widgets/controls",
          "model_module_version": "1.5.0",
          "model_name": "FloatProgressModel",
          "state": {
            "_dom_classes": [],
            "_model_module": "@jupyter-widgets/controls",
            "_model_module_version": "1.5.0",
            "_model_name": "FloatProgressModel",
            "_view_count": null,
            "_view_module": "@jupyter-widgets/controls",
            "_view_module_version": "1.5.0",
            "_view_name": "ProgressView",
            "bar_style": "",
            "description": "",
            "description_tooltip": null,
            "layout": "IPY_MODEL_6a6650526f1946579d9af1761204e593",
            "max": 3680000,
            "min": 0,
            "orientation": "horizontal",
            "style": "IPY_MODEL_63756515f1414e6dbc163cb325c7cd48",
            "value": 3680000
          }
        },
        "e69ce08437f546319636a4a2a082805d": {
          "model_module": "@jupyter-widgets/controls",
          "model_module_version": "1.5.0",
          "model_name": "HTMLModel",
          "state": {
            "_dom_classes": [],
            "_model_module": "@jupyter-widgets/controls",
            "_model_module_version": "1.5.0",
            "_model_name": "HTMLModel",
            "_view_count": null,
            "_view_module": "@jupyter-widgets/controls",
            "_view_module_version": "1.5.0",
            "_view_name": "HTMLView",
            "description": "",
            "description_tooltip": null,
            "layout": "IPY_MODEL_463c48fd11df420287df154bf2639b94",
            "placeholder": "​",
            "style": "IPY_MODEL_b795be8866064b73ab927a472066c0ff",
            "value": " 3.00M/3.51M [00:02&lt;00:00, 1.58MB/s]"
          }
        },
        "ef274cfc84eb44fabd68336089eb2cbb": {
          "model_module": "@jupyter-widgets/controls",
          "model_module_version": "1.5.0",
          "model_name": "DescriptionStyleModel",
          "state": {
            "_model_module": "@jupyter-widgets/controls",
            "_model_module_version": "1.5.0",
            "_model_name": "DescriptionStyleModel",
            "_view_count": null,
            "_view_module": "@jupyter-widgets/base",
            "_view_module_version": "1.2.0",
            "_view_name": "StyleView",
            "description_width": ""
          }
        },
        "f807f6b58fc3434ebcc9f72ead89ed63": {
          "model_module": "@jupyter-widgets/base",
          "model_module_version": "1.2.0",
          "model_name": "LayoutModel",
          "state": {
            "_model_module": "@jupyter-widgets/base",
            "_model_module_version": "1.2.0",
            "_model_name": "LayoutModel",
            "_view_count": null,
            "_view_module": "@jupyter-widgets/base",
            "_view_module_version": "1.2.0",
            "_view_name": "LayoutView",
            "align_content": null,
            "align_items": null,
            "align_self": null,
            "border": null,
            "bottom": null,
            "display": null,
            "flex": null,
            "flex_flow": null,
            "grid_area": null,
            "grid_auto_columns": null,
            "grid_auto_flow": null,
            "grid_auto_rows": null,
            "grid_column": null,
            "grid_gap": null,
            "grid_row": null,
            "grid_template_areas": null,
            "grid_template_columns": null,
            "grid_template_rows": null,
            "height": null,
            "justify_content": null,
            "justify_items": null,
            "left": null,
            "margin": null,
            "max_height": null,
            "max_width": null,
            "min_height": null,
            "min_width": null,
            "object_fit": null,
            "object_position": null,
            "order": null,
            "overflow": null,
            "overflow_x": null,
            "overflow_y": null,
            "padding": null,
            "right": null,
            "top": null,
            "visibility": null,
            "width": null
          }
        },
        "fa5cca7fd34d4a3c96dc1d9fe4d04644": {
          "model_module": "@jupyter-widgets/base",
          "model_module_version": "1.2.0",
          "model_name": "LayoutModel",
          "state": {
            "_model_module": "@jupyter-widgets/base",
            "_model_module_version": "1.2.0",
            "_model_name": "LayoutModel",
            "_view_count": null,
            "_view_module": "@jupyter-widgets/base",
            "_view_module_version": "1.2.0",
            "_view_name": "LayoutView",
            "align_content": null,
            "align_items": null,
            "align_self": null,
            "border": null,
            "bottom": null,
            "display": null,
            "flex": null,
            "flex_flow": null,
            "grid_area": null,
            "grid_auto_columns": null,
            "grid_auto_flow": null,
            "grid_auto_rows": null,
            "grid_column": null,
            "grid_gap": null,
            "grid_row": null,
            "grid_template_areas": null,
            "grid_template_columns": null,
            "grid_template_rows": null,
            "height": null,
            "justify_content": null,
            "justify_items": null,
            "left": null,
            "margin": null,
            "max_height": null,
            "max_width": null,
            "min_height": null,
            "min_width": null,
            "object_fit": null,
            "object_position": null,
            "order": null,
            "overflow": null,
            "overflow_x": null,
            "overflow_y": null,
            "padding": null,
            "right": null,
            "top": null,
            "visibility": null,
            "width": null
          }
        },
        "fa99ef26f38d4145b515f083698ca701": {
          "model_module": "@jupyter-widgets/controls",
          "model_module_version": "1.5.0",
          "model_name": "DescriptionStyleModel",
          "state": {
            "_model_module": "@jupyter-widgets/controls",
            "_model_module_version": "1.5.0",
            "_model_name": "DescriptionStyleModel",
            "_view_count": null,
            "_view_module": "@jupyter-widgets/base",
            "_view_module_version": "1.2.0",
            "_view_name": "StyleView",
            "description_width": ""
          }
        }
      }
    }
  },
  "nbformat": 4,
  "nbformat_minor": 0
}

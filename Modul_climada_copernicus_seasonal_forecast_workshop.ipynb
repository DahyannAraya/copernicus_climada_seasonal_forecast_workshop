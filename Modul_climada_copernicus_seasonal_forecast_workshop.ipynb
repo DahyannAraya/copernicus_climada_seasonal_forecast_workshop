{
  "cells": [
    {
      "attachments": {},
      "cell_type": "markdown",
      "metadata": {
        "id": "EYRKcO8J7zbp"
      },
      "source": [
        "<img src=\"https://github.com/DahyannAraya/copernicus_climada_seasonal_forecast_workshop/blob/main/images/Logos.png?raw=1\" title=\"Institutional Logos\" width=\"70%\">"
      ]
    },
    {
      "attachments": {},
      "cell_type": "markdown",
      "metadata": {
        "id": "LJTZSKea7zbr"
      },
      "source": [
        "## Copernicus Seasonal Forecast Package\n",
        "\n",
        "This package is developed to manage seasonal forecast data from the Copernicus Climate Data Store (CDS) for the U-CLIMADAPT project. It offers comprehensive tools for downloading, processing, computing climate indices, and generating hazard objects based on seasonal forecast datasets, particularly Seasonal forecast daily and subdaily data on single levels. The package is tailored to integrate seamlessly with the CLIMADA(CLIMate ADAptation) platform, supporting climate risk assessment and the development of effective adaptation strategies.\n",
        "\n",
        "Features:\n",
        "\n",
        "- Download seasonal forecast data from CDS\n",
        "- Process raw data into climate indices\n",
        "- Calculate various heat-related indices (e.g., Maximum Temperature, Tropical Nights)\n",
        "- Create CLIMADA Hazard objects for further risk analysis\n",
        "- Visualize hazard data\n",
        "\n",
        "Prerequisites:\n",
        "\n",
        "1. CDS account and API key: Register at https://cds.climate.copernicus.eu\n",
        "\n",
        "2. CDS API client installation: pip install cdsapi\n",
        "\n",
        "3. CDS API configuration: Create a .cdsapirc file in your home directory with your API key and URL. For instructions, visit: https://cds.climate.copernicus.eu/how-to-api#install-the-cds-api-client\n",
        "\n",
        "4. Dataset Terms and Conditions: After selecting the dataset to download, make sure to accept the terms and conditions on the corresponding dataset webpage in the CDS portal before running this notebook. Here, https://cds.climate.copernicus.eu/datasets/seasonal-original-single-levels?tab=download.\n",
        "\n",
        "Usage: This module is typically imported and used within larger scripts or applications for climate data processing and risk assessment. See individual function docstrings for specific usage instructions.\n",
        "\n",
        "Note: Ensure you have the necessary permissions and comply with the CDS data usage policies when using this module. You can view the terms and conditions at https://cds.climate.copernicus.eu/datasets/seasonal-original-single-levels?tab=download. You can find them at the bottom of the download page."
      ]
    },
    {
      "attachments": {},
      "cell_type": "markdown",
      "metadata": {
        "id": "l6K_Fduv7zbs"
      },
      "source": [
        "### Setup and Installation (Google Colab Only)\n",
        "\n",
        "This section installs and configures all necessary dependencies for running the seasonal forecast package in Google Colab. If you are running this notebook locally, follow the instructions in the [GitHub documentation](https://copernicus-seasonal-forecast-tools.readthedocs.io/en/latest/index.html).\n",
        "Installed Dependencies:\n",
        "\n",
        "    - cdsapi: For accessing the Copernicus Climate Data Store (CDS)\n",
        "    - The seasonal forecast package: For processing and analyzing seasonal forecasts\n",
        "\n"
      ]
    },
    {
      "attachments": {},
      "cell_type": "markdown",
      "metadata": {
        "id": "fFjhh-bU7zbs"
      },
      "source": [
        "#### Install Copernicus Climate Data Store (CDS) API"
      ]
    },
    {
      "cell_type": "code",
      "execution_count": 1,
      "metadata": {
        "colab": {
          "base_uri": "https://localhost:8080/"
        },
        "id": "3lEm2YIz-Gzf",
        "outputId": "6ebd075b-3d81-4288-99fc-9cde80897792"
      },
      "outputs": [
        {
          "name": "stdout",
          "output_type": "stream",
          "text": [
            "CDS API key successfully configured.\n"
          ]
        }
      ],
      "source": [
        "# Configure Copernicus API credentials (FOR DEMONSTRATION ONLY)\n",
        "# ⚠️ This API key is temporary and will not be available after this session.\n",
        "# If you already have your own CDS key, replace it and use it here.\n",
        "# To access data from the Copernicus Climate Data Store (CDS), you must use your personal API key.\n",
        "# Register at https://cds.climate.copernicus.eu and follow the setup instructions to obtain your key.\n",
        "\n",
        "url = 'url: https://cds.climate.copernicus.eu/api'\n",
        "key = 'key: 5df55c41-98f3-4e60-b751-9c8cd43e90c7'\n",
        "\n",
        "with open('/root/.cdsapirc', 'w') as f:\n",
        "    f.write('\\n'.join([url, key]))\n",
        "\n",
        "with open('/root/.cdsapirc') as f:\n",
        "    print(f.read())"
      ]
    },
    {
      "cell_type": "code",
      "execution_count": 2,
      "metadata": {
        "colab": {
          "base_uri": "https://localhost:8080/"
        },
        "id": "G_FQhQ_F-GnJ",
        "outputId": "118c0bf6-2b5d-400b-a3b2-7cf0ac3c7c41"
      },
      "outputs": [
        {
          "name": "stdout",
          "output_type": "stream",
          "text": [
            "Collecting cdsapi>=0.7.4\n",
            "  Downloading cdsapi-0.7.6-py2.py3-none-any.whl.metadata (3.0 kB)\n",
            "Collecting ecmwf-datastores-client (from cdsapi>=0.7.4)\n",
            "  Downloading ecmwf_datastores_client-0.1.0-py3-none-any.whl.metadata (21 kB)\n",
            "Requirement already satisfied: requests>=2.5.0 in /usr/local/lib/python3.11/dist-packages (from cdsapi>=0.7.4) (2.32.3)\n",
            "Requirement already satisfied: tqdm in /usr/local/lib/python3.11/dist-packages (from cdsapi>=0.7.4) (4.67.1)\n",
            "Requirement already satisfied: charset-normalizer<4,>=2 in /usr/local/lib/python3.11/dist-packages (from requests>=2.5.0->cdsapi>=0.7.4) (3.4.2)\n",
            "Requirement already satisfied: idna<4,>=2.5 in /usr/local/lib/python3.11/dist-packages (from requests>=2.5.0->cdsapi>=0.7.4) (3.10)\n",
            "Requirement already satisfied: urllib3<3,>=1.21.1 in /usr/local/lib/python3.11/dist-packages (from requests>=2.5.0->cdsapi>=0.7.4) (2.4.0)\n",
            "Requirement already satisfied: certifi>=2017.4.17 in /usr/local/lib/python3.11/dist-packages (from requests>=2.5.0->cdsapi>=0.7.4) (2025.4.26)\n",
            "Requirement already satisfied: attrs in /usr/local/lib/python3.11/dist-packages (from ecmwf-datastores-client->cdsapi>=0.7.4) (25.3.0)\n",
            "Collecting multiurl>=0.3.2 (from ecmwf-datastores-client->cdsapi>=0.7.4)\n",
            "  Downloading multiurl-0.3.5-py3-none-any.whl.metadata (2.8 kB)\n",
            "Requirement already satisfied: typing-extensions in /usr/local/lib/python3.11/dist-packages (from ecmwf-datastores-client->cdsapi>=0.7.4) (4.13.2)\n",
            "Requirement already satisfied: pytz in /usr/local/lib/python3.11/dist-packages (from multiurl>=0.3.2->ecmwf-datastores-client->cdsapi>=0.7.4) (2025.2)\n",
            "Requirement already satisfied: python-dateutil in /usr/local/lib/python3.11/dist-packages (from multiurl>=0.3.2->ecmwf-datastores-client->cdsapi>=0.7.4) (2.9.0.post0)\n",
            "Requirement already satisfied: six>=1.5 in /usr/local/lib/python3.11/dist-packages (from python-dateutil->multiurl>=0.3.2->ecmwf-datastores-client->cdsapi>=0.7.4) (1.17.0)\n",
            "Downloading cdsapi-0.7.6-py2.py3-none-any.whl (12 kB)\n",
            "Downloading ecmwf_datastores_client-0.1.0-py3-none-any.whl (29 kB)\n",
            "Downloading multiurl-0.3.5-py3-none-any.whl (21 kB)\n",
            "Installing collected packages: multiurl, ecmwf-datastores-client, cdsapi\n",
            "Successfully installed cdsapi-0.7.6 ecmwf-datastores-client-0.1.0 multiurl-0.3.5\n"
          ]
        }
      ],
      "source": [
        "!pip install \"cdsapi>=0.7.4\""
      ]
    },
    {
      "cell_type": "code",
      "execution_count": null,
      "metadata": {
        "colab": {
          "base_uri": "https://localhost:8080/"
        },
        "id": "zY2AnA_f-G87",
        "outputId": "017b85f8-3704-4868-e759-3fe64da588c1"
      },
      "outputs": [
        {
          "name": "stderr",
          "output_type": "stream",
          "text": [
            "2025-05-13 08:05:00,444 DEBUG GET https://cds.climate.copernicus.eu/api/catalogue/v1/messages\n",
            "DEBUG:ecmwf.datastores.legacy_client:GET https://cds.climate.copernicus.eu/api/catalogue/v1/messages\n",
            "2025-05-13 08:05:05,853 DEBUG REPLY {\"messages\":[{\"id\":\"sites/cds/2024/2024-03-01-production-keycloak.md\",\"date\":\"2024-09-26T00:00:00\",\"summary\":null,\"url\":null,\"severity\":\"info\",\"content\":\"Watch our [Forum](https://forum.ecmwf.int/) for Announcements, news and other discussed topics.\",\"live\":true},{\"id\":\"sites/cds/2024/2024-06-17-beta-warning1.md\",\"date\":\"2024-06-16T00:00:00\",\"summary\":null,\"url\":null,\"severity\":\"warning\",\"content\":\"CDS API syntax is changed and some keys or parameter names may have also changed. To avoid requests failing, please use the \\\"Show API request code\\\" tool on the dataset Download Form to check you are using the correct syntax for your API request.\",\"live\":true}]}\n",
            "DEBUG:ecmwf.datastores.legacy_client:REPLY {\"messages\":[{\"id\":\"sites/cds/2024/2024-03-01-production-keycloak.md\",\"date\":\"2024-09-26T00:00:00\",\"summary\":null,\"url\":null,\"severity\":\"info\",\"content\":\"Watch our [Forum](https://forum.ecmwf.int/) for Announcements, news and other discussed topics.\",\"live\":true},{\"id\":\"sites/cds/2024/2024-06-17-beta-warning1.md\",\"date\":\"2024-06-16T00:00:00\",\"summary\":null,\"url\":null,\"severity\":\"warning\",\"content\":\"CDS API syntax is changed and some keys or parameter names may have also changed. To avoid requests failing, please use the \\\"Show API request code\\\" tool on the dataset Download Form to check you are using the correct syntax for your API request.\",\"live\":true}]}\n",
            "2025-05-13 08:05:05,856 INFO [2024-09-26T00:00:00] Watch our [Forum](https://forum.ecmwf.int/) for Announcements, news and other discussed topics.\n",
            "INFO:ecmwf.datastores.legacy_client:[2024-09-26T00:00:00] Watch our [Forum](https://forum.ecmwf.int/) for Announcements, news and other discussed topics.\n",
            "2025-05-13 08:05:05,858 WARNING [2024-06-16T00:00:00] CDS API syntax is changed and some keys or parameter names may have also changed. To avoid requests failing, please use the \"Show API request code\" tool on the dataset Download Form to check you are using the correct syntax for your API request.\n",
            "WARNING:ecmwf.datastores.legacy_client:[2024-06-16T00:00:00] CDS API syntax is changed and some keys or parameter names may have also changed. To avoid requests failing, please use the \"Show API request code\" tool on the dataset Download Form to check you are using the correct syntax for your API request.\n",
            "2025-05-13 08:05:05,861 DEBUG CDSAPI {'url': 'https://cds.climate.copernicus.eu/api', 'key': '5df55c41-98f3-4e60-b751-9c8cd43e90c7', 'quiet': False, 'verify': True, 'timeout': 60, 'progress': True, 'sleep_max': 120, 'retry_max': 500, 'delete': False, 'datastores_version': '0.1.0'}\n",
            "DEBUG:ecmwf.datastores.legacy_client:CDSAPI {'url': 'https://cds.climate.copernicus.eu/api', 'key': '5df55c41-98f3-4e60-b751-9c8cd43e90c7', 'quiet': False, 'verify': True, 'timeout': 60, 'progress': True, 'sleep_max': 120, 'retry_max': 500, 'delete': False, 'datastores_version': '0.1.0'}\n"
          ]
        }
      ],
      "source": [
        "import cdsapi\n",
        "c = cdsapi.Client(debug=True)"
      ]
    },
    {
      "cell_type": "code",
      "execution_count": null,
      "metadata": {
        "colab": {
          "base_uri": "https://localhost:8080/",
          "height": 225,
          "referenced_widgets": [
            "3c9bdacb27344fd2927afcc32218ab2d",
            "e37c7b29c6814decbc1cca3a0631b439",
            "9376dd0ef17549628e3c7bbed3d54782",
            "3983ad5874934953bb1a4c355bcc5802",
            "acf051c605ac440099bcef9d1d0f77de",
            "a2826cd66d5540ea96af29cd94ce39f8",
            "3008ff352a664bd0a8d2f004a8fcb43d",
            "a3a4e2ab97bd4414bdc444ffa80e2731",
            "cf90eea8d4ca4408af128ed8cb42265c",
            "04c91de1e346458283fd1748d6f6637c",
            "06fefaca2cf748c3b76c17662d54141c"
          ]
        },
        "id": "nckDwYDc-3B8",
        "outputId": "b0b51f74-64f5-4b77-8085-9e9dc6533ec4"
      },
      "outputs": [
        {
          "name": "stderr",
          "output_type": "stream",
          "text": [
            "2025-05-13 08:05:06,267 INFO [2024-09-26T00:00:00] Watch our [Forum](https://forum.ecmwf.int/) for Announcements, news and other discussed topics.\n",
            "INFO:ecmwf.datastores.legacy_client:[2024-09-26T00:00:00] Watch our [Forum](https://forum.ecmwf.int/) for Announcements, news and other discussed topics.\n",
            "2025-05-13 08:05:06,270 WARNING [2024-06-16T00:00:00] CDS API syntax is changed and some keys or parameter names may have also changed. To avoid requests failing, please use the \"Show API request code\" tool on the dataset Download Form to check you are using the correct syntax for your API request.\n",
            "WARNING:ecmwf.datastores.legacy_client:[2024-06-16T00:00:00] CDS API syntax is changed and some keys or parameter names may have also changed. To avoid requests failing, please use the \"Show API request code\" tool on the dataset Download Form to check you are using the correct syntax for your API request.\n",
            "2025-05-13 08:05:06,977 INFO Request ID is a7a92ab2-392b-420e-8652-f74158766773\n",
            "INFO:ecmwf.datastores.legacy_client:Request ID is a7a92ab2-392b-420e-8652-f74158766773\n",
            "2025-05-13 08:05:07,135 INFO status has been updated to accepted\n",
            "INFO:ecmwf.datastores.legacy_client:status has been updated to accepted\n",
            "2025-05-13 08:05:41,510 INFO status has been updated to successful\n",
            "INFO:ecmwf.datastores.legacy_client:status has been updated to successful\n"
          ]
        },
        {
          "data": {
            "application/vnd.jupyter.widget-view+json": {
              "model_id": "3c9bdacb27344fd2927afcc32218ab2d",
              "version_major": 2,
              "version_minor": 0
            },
            "text/plain": [
              "79e8588ed2d6bf970f3f56839d004865.grib:   0%|          | 0.00/1.98M [00:00<?, ?B/s]"
            ]
          },
          "metadata": {},
          "output_type": "display_data"
        },
        {
          "data": {
            "application/vnd.google.colaboratory.intrinsic+json": {
              "type": "string"
            },
            "text/plain": [
              "'download.grib'"
            ]
          },
          "execution_count": 4,
          "metadata": {},
          "output_type": "execute_result"
        }
      ],
      "source": [
        "import cdsapi\n",
        "\n",
        "client = cdsapi.Client()\n",
        "\n",
        "dataset = 'reanalysis-era5-pressure-levels'\n",
        "request = {\n",
        "  'product_type': ['reanalysis'],\n",
        "  'variable': ['geopotential'],\n",
        "  'year': ['2024'],\n",
        "  'month': ['03'],\n",
        "  'day': ['01'],\n",
        "  'time': ['13:00'],\n",
        "  'pressure_level': ['1000'],\n",
        "  'data_format': 'grib',\n",
        "}\n",
        "target = 'download.grib'\n",
        "\n",
        "client.retrieve(dataset, request, target)"
      ]
    },
    {
      "cell_type": "code",
      "execution_count": null,
      "metadata": {
        "colab": {
          "base_uri": "https://localhost:8080/"
        },
        "id": "_fFnjVZ95BeL",
        "outputId": "67caae3f-4193-45bb-f34f-4b0fa266dc60"
      },
      "outputs": [
        {
          "name": "stdout",
          "output_type": "stream",
          "text": [
            "Cloning into 'copernicus-seasonal-forecast-tools'...\n",
            "remote: Enumerating objects: 224, done.\u001b[K\n",
            "remote: Counting objects: 100% (224/224), done.\u001b[K\n",
            "remote: Compressing objects: 100% (145/145), done.\u001b[K\n",
            "remote: Total 224 (delta 100), reused 192 (delta 68), pack-reused 0 (from 0)\u001b[K\n",
            "Receiving objects: 100% (224/224), 13.86 MiB | 22.92 MiB/s, done.\n",
            "Resolving deltas: 100% (100/100), done.\n"
          ]
        }
      ],
      "source": [
        "!git clone https://github.com/DahyannAraya/copernicus-seasonal-forecast-tools.git"
      ]
    },
    {
      "cell_type": "code",
      "execution_count": null,
      "metadata": {
        "colab": {
          "base_uri": "https://localhost:8080/"
        },
        "id": "qqv_Ttd93Anh",
        "outputId": "ab5e865a-e306-45bc-e160-9c6b4f20943e"
      },
      "outputs": [
        {
          "name": "stdout",
          "output_type": "stream",
          "text": [
            "Collecting copernicus-seasonal-forecast-tools\n",
            "  Downloading copernicus_seasonal_forecast_tools-0.1.0-py3-none-any.whl.metadata (7.2 kB)\n",
            "Requirement already satisfied: ipykernel in /usr/local/lib/python3.11/dist-packages (from copernicus-seasonal-forecast-tools) (6.17.1)\n",
            "Requirement already satisfied: xarray in /usr/local/lib/python3.11/dist-packages (from copernicus-seasonal-forecast-tools) (2025.3.1)\n",
            "Collecting cfgrib (from copernicus-seasonal-forecast-tools)\n",
            "  Downloading cfgrib-0.9.15.0-py3-none-any.whl.metadata (55 kB)\n",
            "\u001b[2K     \u001b[90m━━━━━━━━━━━━━━━━━━━━━━━━━━━━━━━━━━━━━━━━\u001b[0m \u001b[32m55.5/55.5 kB\u001b[0m \u001b[31m2.2 MB/s\u001b[0m eta \u001b[36m0:00:00\u001b[0m\n",
            "\u001b[?25hRequirement already satisfied: cdsapi in /usr/local/lib/python3.11/dist-packages (from copernicus-seasonal-forecast-tools) (0.7.6)\n",
            "Requirement already satisfied: numpy in /usr/local/lib/python3.11/dist-packages (from copernicus-seasonal-forecast-tools) (2.0.2)\n",
            "Requirement already satisfied: pandas in /usr/local/lib/python3.11/dist-packages (from copernicus-seasonal-forecast-tools) (2.2.2)\n",
            "Requirement already satisfied: matplotlib in /usr/local/lib/python3.11/dist-packages (from copernicus-seasonal-forecast-tools) (3.10.0)\n",
            "Collecting netCDF4 (from copernicus-seasonal-forecast-tools)\n",
            "  Downloading netCDF4-1.7.2-cp311-cp311-manylinux_2_17_x86_64.manylinux2014_x86_64.whl.metadata (1.8 kB)\n",
            "Requirement already satisfied: shapely in /usr/local/lib/python3.11/dist-packages (from copernicus-seasonal-forecast-tools) (2.1.0)\n",
            "Requirement already satisfied: geopandas in /usr/local/lib/python3.11/dist-packages (from copernicus-seasonal-forecast-tools) (1.0.1)\n",
            "Collecting cartopy (from copernicus-seasonal-forecast-tools)\n",
            "  Downloading Cartopy-0.24.1-cp311-cp311-manylinux_2_17_x86_64.manylinux2014_x86_64.whl.metadata (7.9 kB)\n",
            "Requirement already satisfied: pytest in /usr/local/lib/python3.11/dist-packages (from copernicus-seasonal-forecast-tools) (8.3.5)\n",
            "Requirement already satisfied: packaging>=21 in /usr/local/lib/python3.11/dist-packages (from cartopy->copernicus-seasonal-forecast-tools) (24.2)\n",
            "Requirement already satisfied: pyshp>=2.3 in /usr/local/lib/python3.11/dist-packages (from cartopy->copernicus-seasonal-forecast-tools) (2.3.1)\n",
            "Requirement already satisfied: pyproj>=3.3.1 in /usr/local/lib/python3.11/dist-packages (from cartopy->copernicus-seasonal-forecast-tools) (3.7.1)\n",
            "Requirement already satisfied: contourpy>=1.0.1 in /usr/local/lib/python3.11/dist-packages (from matplotlib->copernicus-seasonal-forecast-tools) (1.3.2)\n",
            "Requirement already satisfied: cycler>=0.10 in /usr/local/lib/python3.11/dist-packages (from matplotlib->copernicus-seasonal-forecast-tools) (0.12.1)\n",
            "Requirement already satisfied: fonttools>=4.22.0 in /usr/local/lib/python3.11/dist-packages (from matplotlib->copernicus-seasonal-forecast-tools) (4.57.0)\n",
            "Requirement already satisfied: kiwisolver>=1.3.1 in /usr/local/lib/python3.11/dist-packages (from matplotlib->copernicus-seasonal-forecast-tools) (1.4.8)\n",
            "Requirement already satisfied: pillow>=8 in /usr/local/lib/python3.11/dist-packages (from matplotlib->copernicus-seasonal-forecast-tools) (11.2.1)\n",
            "Requirement already satisfied: pyparsing>=2.3.1 in /usr/local/lib/python3.11/dist-packages (from matplotlib->copernicus-seasonal-forecast-tools) (3.2.3)\n",
            "Requirement already satisfied: python-dateutil>=2.7 in /usr/local/lib/python3.11/dist-packages (from matplotlib->copernicus-seasonal-forecast-tools) (2.9.0.post0)\n",
            "Requirement already satisfied: ecmwf-datastores-client in /usr/local/lib/python3.11/dist-packages (from cdsapi->copernicus-seasonal-forecast-tools) (0.1.0)\n",
            "Requirement already satisfied: requests>=2.5.0 in /usr/local/lib/python3.11/dist-packages (from cdsapi->copernicus-seasonal-forecast-tools) (2.32.3)\n",
            "Requirement already satisfied: tqdm in /usr/local/lib/python3.11/dist-packages (from cdsapi->copernicus-seasonal-forecast-tools) (4.67.1)\n",
            "Requirement already satisfied: attrs>=19.2 in /usr/local/lib/python3.11/dist-packages (from cfgrib->copernicus-seasonal-forecast-tools) (25.3.0)\n",
            "Requirement already satisfied: click in /usr/local/lib/python3.11/dist-packages (from cfgrib->copernicus-seasonal-forecast-tools) (8.1.8)\n",
            "Collecting eccodes>=0.9.8 (from cfgrib->copernicus-seasonal-forecast-tools)\n",
            "  Downloading eccodes-2.41.0-cp311-cp311-manylinux_2_28_x86_64.whl.metadata (14 kB)\n",
            "Requirement already satisfied: pyogrio>=0.7.2 in /usr/local/lib/python3.11/dist-packages (from geopandas->copernicus-seasonal-forecast-tools) (0.10.0)\n",
            "Requirement already satisfied: pytz>=2020.1 in /usr/local/lib/python3.11/dist-packages (from pandas->copernicus-seasonal-forecast-tools) (2025.2)\n",
            "Requirement already satisfied: tzdata>=2022.7 in /usr/local/lib/python3.11/dist-packages (from pandas->copernicus-seasonal-forecast-tools) (2025.2)\n",
            "Requirement already satisfied: debugpy>=1.0 in /usr/local/lib/python3.11/dist-packages (from ipykernel->copernicus-seasonal-forecast-tools) (1.8.0)\n",
            "Requirement already satisfied: ipython>=7.23.1 in /usr/local/lib/python3.11/dist-packages (from ipykernel->copernicus-seasonal-forecast-tools) (7.34.0)\n",
            "Requirement already satisfied: jupyter-client>=6.1.12 in /usr/local/lib/python3.11/dist-packages (from ipykernel->copernicus-seasonal-forecast-tools) (6.1.12)\n",
            "Requirement already satisfied: matplotlib-inline>=0.1 in /usr/local/lib/python3.11/dist-packages (from ipykernel->copernicus-seasonal-forecast-tools) (0.1.7)\n",
            "Requirement already satisfied: nest-asyncio in /usr/local/lib/python3.11/dist-packages (from ipykernel->copernicus-seasonal-forecast-tools) (1.6.0)\n",
            "Requirement already satisfied: psutil in /usr/local/lib/python3.11/dist-packages (from ipykernel->copernicus-seasonal-forecast-tools) (5.9.5)\n",
            "Requirement already satisfied: pyzmq>=17 in /usr/local/lib/python3.11/dist-packages (from ipykernel->copernicus-seasonal-forecast-tools) (24.0.1)\n",
            "Requirement already satisfied: tornado>=6.1 in /usr/local/lib/python3.11/dist-packages (from ipykernel->copernicus-seasonal-forecast-tools) (6.4.2)\n",
            "Requirement already satisfied: traitlets>=5.1.0 in /usr/local/lib/python3.11/dist-packages (from ipykernel->copernicus-seasonal-forecast-tools) (5.7.1)\n",
            "Collecting cftime (from netCDF4->copernicus-seasonal-forecast-tools)\n",
            "  Downloading cftime-1.6.4.post1-cp311-cp311-manylinux_2_17_x86_64.manylinux2014_x86_64.whl.metadata (8.7 kB)\n",
            "Requirement already satisfied: certifi in /usr/local/lib/python3.11/dist-packages (from netCDF4->copernicus-seasonal-forecast-tools) (2025.4.26)\n",
            "Requirement already satisfied: iniconfig in /usr/local/lib/python3.11/dist-packages (from pytest->copernicus-seasonal-forecast-tools) (2.1.0)\n",
            "Requirement already satisfied: pluggy<2,>=1.5 in /usr/local/lib/python3.11/dist-packages (from pytest->copernicus-seasonal-forecast-tools) (1.5.0)\n",
            "Requirement already satisfied: cffi in /usr/local/lib/python3.11/dist-packages (from eccodes>=0.9.8->cfgrib->copernicus-seasonal-forecast-tools) (1.17.1)\n",
            "Collecting findlibs (from eccodes>=0.9.8->cfgrib->copernicus-seasonal-forecast-tools)\n",
            "  Downloading findlibs-0.1.1-py3-none-any.whl.metadata (3.6 kB)\n",
            "Requirement already satisfied: setuptools>=18.5 in /usr/local/lib/python3.11/dist-packages (from ipython>=7.23.1->ipykernel->copernicus-seasonal-forecast-tools) (75.2.0)\n",
            "Collecting jedi>=0.16 (from ipython>=7.23.1->ipykernel->copernicus-seasonal-forecast-tools)\n",
            "  Downloading jedi-0.19.2-py2.py3-none-any.whl.metadata (22 kB)\n",
            "Requirement already satisfied: decorator in /usr/local/lib/python3.11/dist-packages (from ipython>=7.23.1->ipykernel->copernicus-seasonal-forecast-tools) (4.4.2)\n",
            "Requirement already satisfied: pickleshare in /usr/local/lib/python3.11/dist-packages (from ipython>=7.23.1->ipykernel->copernicus-seasonal-forecast-tools) (0.7.5)\n",
            "Requirement already satisfied: prompt-toolkit!=3.0.0,!=3.0.1,<3.1.0,>=2.0.0 in /usr/local/lib/python3.11/dist-packages (from ipython>=7.23.1->ipykernel->copernicus-seasonal-forecast-tools) (3.0.51)\n",
            "Requirement already satisfied: pygments in /usr/local/lib/python3.11/dist-packages (from ipython>=7.23.1->ipykernel->copernicus-seasonal-forecast-tools) (2.19.1)\n",
            "Requirement already satisfied: backcall in /usr/local/lib/python3.11/dist-packages (from ipython>=7.23.1->ipykernel->copernicus-seasonal-forecast-tools) (0.2.0)\n",
            "Requirement already satisfied: pexpect>4.3 in /usr/local/lib/python3.11/dist-packages (from ipython>=7.23.1->ipykernel->copernicus-seasonal-forecast-tools) (4.9.0)\n",
            "Requirement already satisfied: jupyter-core>=4.6.0 in /usr/local/lib/python3.11/dist-packages (from jupyter-client>=6.1.12->ipykernel->copernicus-seasonal-forecast-tools) (5.7.2)\n",
            "Requirement already satisfied: six>=1.5 in /usr/local/lib/python3.11/dist-packages (from python-dateutil>=2.7->matplotlib->copernicus-seasonal-forecast-tools) (1.17.0)\n",
            "Requirement already satisfied: charset-normalizer<4,>=2 in /usr/local/lib/python3.11/dist-packages (from requests>=2.5.0->cdsapi->copernicus-seasonal-forecast-tools) (3.4.2)\n",
            "Requirement already satisfied: idna<4,>=2.5 in /usr/local/lib/python3.11/dist-packages (from requests>=2.5.0->cdsapi->copernicus-seasonal-forecast-tools) (3.10)\n",
            "Requirement already satisfied: urllib3<3,>=1.21.1 in /usr/local/lib/python3.11/dist-packages (from requests>=2.5.0->cdsapi->copernicus-seasonal-forecast-tools) (2.4.0)\n",
            "Requirement already satisfied: multiurl>=0.3.2 in /usr/local/lib/python3.11/dist-packages (from ecmwf-datastores-client->cdsapi->copernicus-seasonal-forecast-tools) (0.3.5)\n",
            "Requirement already satisfied: typing-extensions in /usr/local/lib/python3.11/dist-packages (from ecmwf-datastores-client->cdsapi->copernicus-seasonal-forecast-tools) (4.13.2)\n",
            "Requirement already satisfied: parso<0.9.0,>=0.8.4 in /usr/local/lib/python3.11/dist-packages (from jedi>=0.16->ipython>=7.23.1->ipykernel->copernicus-seasonal-forecast-tools) (0.8.4)\n",
            "Requirement already satisfied: platformdirs>=2.5 in /usr/local/lib/python3.11/dist-packages (from jupyter-core>=4.6.0->jupyter-client>=6.1.12->ipykernel->copernicus-seasonal-forecast-tools) (4.3.8)\n",
            "Requirement already satisfied: ptyprocess>=0.5 in /usr/local/lib/python3.11/dist-packages (from pexpect>4.3->ipython>=7.23.1->ipykernel->copernicus-seasonal-forecast-tools) (0.7.0)\n",
            "Requirement already satisfied: wcwidth in /usr/local/lib/python3.11/dist-packages (from prompt-toolkit!=3.0.0,!=3.0.1,<3.1.0,>=2.0.0->ipython>=7.23.1->ipykernel->copernicus-seasonal-forecast-tools) (0.2.13)\n",
            "Requirement already satisfied: pycparser in /usr/local/lib/python3.11/dist-packages (from cffi->eccodes>=0.9.8->cfgrib->copernicus-seasonal-forecast-tools) (2.22)\n",
            "Downloading copernicus_seasonal_forecast_tools-0.1.0-py3-none-any.whl (49 kB)\n",
            "\u001b[2K   \u001b[90m━━━━━━━━━━━━━━━━━━━━━━━━━━━━━━━━━━━━━━━━\u001b[0m \u001b[32m49.6/49.6 kB\u001b[0m \u001b[31m3.8 MB/s\u001b[0m eta \u001b[36m0:00:00\u001b[0m\n",
            "\u001b[?25hDownloading Cartopy-0.24.1-cp311-cp311-manylinux_2_17_x86_64.manylinux2014_x86_64.whl (11.7 MB)\n",
            "\u001b[2K   \u001b[90m━━━━━━━━━━━━━━━━━━━━━━━━━━━━━━━━━━━━━━━━\u001b[0m \u001b[32m11.7/11.7 MB\u001b[0m \u001b[31m101.4 MB/s\u001b[0m eta \u001b[36m0:00:00\u001b[0m\n",
            "\u001b[?25hDownloading cfgrib-0.9.15.0-py3-none-any.whl (48 kB)\n",
            "\u001b[2K   \u001b[90m━━━━━━━━━━━━━━━━━━━━━━━━━━━━━━━━━━━━━━━━\u001b[0m \u001b[32m48.9/48.9 kB\u001b[0m \u001b[31m3.7 MB/s\u001b[0m eta \u001b[36m0:00:00\u001b[0m\n",
            "\u001b[?25hDownloading netCDF4-1.7.2-cp311-cp311-manylinux_2_17_x86_64.manylinux2014_x86_64.whl (9.3 MB)\n",
            "\u001b[2K   \u001b[90m━━━━━━━━━━━━━━━━━━━━━━━━━━━━━━━━━━━━━━━━\u001b[0m \u001b[32m9.3/9.3 MB\u001b[0m \u001b[31m107.6 MB/s\u001b[0m eta \u001b[36m0:00:00\u001b[0m\n",
            "\u001b[?25hDownloading eccodes-2.41.0-cp311-cp311-manylinux_2_28_x86_64.whl (7.4 MB)\n",
            "\u001b[2K   \u001b[90m━━━━━━━━━━━━━━━━━━━━━━━━━━━━━━━━━━━━━━━━\u001b[0m \u001b[32m7.4/7.4 MB\u001b[0m \u001b[31m108.7 MB/s\u001b[0m eta \u001b[36m0:00:00\u001b[0m\n",
            "\u001b[?25hDownloading cftime-1.6.4.post1-cp311-cp311-manylinux_2_17_x86_64.manylinux2014_x86_64.whl (1.4 MB)\n",
            "\u001b[2K   \u001b[90m━━━━━━━━━━━━━━━━━━━━━━━━━━━━━━━━━━━━━━━━\u001b[0m \u001b[32m1.4/1.4 MB\u001b[0m \u001b[31m65.9 MB/s\u001b[0m eta \u001b[36m0:00:00\u001b[0m\n",
            "\u001b[?25hDownloading jedi-0.19.2-py2.py3-none-any.whl (1.6 MB)\n",
            "\u001b[2K   \u001b[90m━━━━━━━━━━━━━━━━━━━━━━━━━━━━━━━━━━━━━━━━\u001b[0m \u001b[32m1.6/1.6 MB\u001b[0m \u001b[31m69.5 MB/s\u001b[0m eta \u001b[36m0:00:00\u001b[0m\n",
            "\u001b[?25hDownloading findlibs-0.1.1-py3-none-any.whl (10 kB)\n",
            "Installing collected packages: findlibs, jedi, cftime, netCDF4, eccodes, cfgrib, cartopy, copernicus-seasonal-forecast-tools\n",
            "Successfully installed cartopy-0.24.1 cfgrib-0.9.15.0 cftime-1.6.4.post1 copernicus-seasonal-forecast-tools-0.1.0 eccodes-2.41.0 findlibs-0.1.1 jedi-0.19.2 netCDF4-1.7.2\n"
          ]
        }
      ],
      "source": [
        "!pip install copernicus-seasonal-forecast-tools"
      ]
    },
    {
      "cell_type": "code",
      "execution_count": null,
      "metadata": {
        "colab": {
          "base_uri": "https://localhost:8080/"
        },
        "id": "ICjVVjrc5W4Y",
        "outputId": "ba41569e-34b1-4e0f-e849-43b7e544e6cd"
      },
      "outputs": [
        {
          "name": "stdout",
          "output_type": "stream",
          "text": [
            "/content/copernicus-seasonal-forecast-tools/docs\n"
          ]
        }
      ],
      "source": [
        "cd /content/copernicus-seasonal-forecast-tools/docs"
      ]
    },
    {
      "cell_type": "code",
      "execution_count": null,
      "metadata": {
        "colab": {
          "base_uri": "https://localhost:8080/"
        },
        "id": "ZKMJSIuz3B1c",
        "outputId": "a9675093-168e-4226-9aab-e00811216ced"
      },
      "outputs": [
        {
          "name": "stdout",
          "output_type": "stream",
          "text": [
            "Collecting git+https://github.com/CLIMADA-project/climada_python.git (from -r requirements.txt (line 1))\n",
            "  Cloning https://github.com/CLIMADA-project/climada_python.git to /tmp/pip-req-build-p3eed4_l\n",
            "  Running command git clone --filter=blob:none --quiet https://github.com/CLIMADA-project/climada_python.git /tmp/pip-req-build-p3eed4_l\n",
            "  Resolved https://github.com/CLIMADA-project/climada_python.git to commit 08ec51bb958436cd18e77cf8f4178bc05a295d78\n",
            "  Installing build dependencies ... \u001b[?25l\u001b[?25hdone\n",
            "  Getting requirements to build wheel ... \u001b[?25l\u001b[?25hdone\n",
            "  Installing backend dependencies ... \u001b[?25l\u001b[?25hdone\n",
            "  Preparing metadata (pyproject.toml) ... \u001b[?25l\u001b[?25hdone\n",
            "Collecting fiona (from -r requirements.txt (line 2))\n",
            "  Downloading fiona-1.10.1-cp311-cp311-manylinux_2_17_x86_64.manylinux2014_x86_64.whl.metadata (56 kB)\n",
            "\u001b[2K     \u001b[90m━━━━━━━━━━━━━━━━━━━━━━━━━━━━━━━━━━━━━━━━\u001b[0m \u001b[32m56.6/56.6 kB\u001b[0m \u001b[31m2.4 MB/s\u001b[0m eta \u001b[36m0:00:00\u001b[0m\n",
            "\u001b[?25hRequirement already satisfied: pyarrow in /usr/local/lib/python3.11/dist-packages (from -r requirements.txt (line 3)) (18.1.0)\n",
            "Collecting bayesian-optimization<2.0 (from climada==6.0.1->-r requirements.txt (line 1))\n",
            "  Downloading bayesian_optimization-1.5.1-py3-none-any.whl.metadata (16 kB)\n",
            "Requirement already satisfied: bottleneck in /usr/local/lib/python3.11/dist-packages (from climada==6.0.1->-r requirements.txt (line 1)) (1.4.2)\n",
            "Requirement already satisfied: cartopy in /usr/local/lib/python3.11/dist-packages (from climada==6.0.1->-r requirements.txt (line 1)) (0.24.1)\n",
            "Requirement already satisfied: cfgrib in /usr/local/lib/python3.11/dist-packages (from climada==6.0.1->-r requirements.txt (line 1)) (0.9.15.0)\n",
            "Collecting contextily (from climada==6.0.1->-r requirements.txt (line 1))\n",
            "  Downloading contextily-1.6.2-py3-none-any.whl.metadata (2.9 kB)\n",
            "Requirement already satisfied: dask in /usr/local/lib/python3.11/dist-packages (from climada==6.0.1->-r requirements.txt (line 1)) (2024.12.1)\n",
            "Collecting deprecation (from climada==6.0.1->-r requirements.txt (line 1))\n",
            "  Downloading deprecation-2.1.0-py2.py3-none-any.whl.metadata (4.6 kB)\n",
            "Requirement already satisfied: geopandas in /usr/local/lib/python3.11/dist-packages (from climada==6.0.1->-r requirements.txt (line 1)) (1.0.1)\n",
            "Requirement already satisfied: h5py in /usr/local/lib/python3.11/dist-packages (from climada==6.0.1->-r requirements.txt (line 1)) (3.13.0)\n",
            "Collecting haversine (from climada==6.0.1->-r requirements.txt (line 1))\n",
            "  Downloading haversine-2.9.0-py2.py3-none-any.whl.metadata (5.8 kB)\n",
            "Requirement already satisfied: matplotlib in /usr/local/lib/python3.11/dist-packages (from climada==6.0.1->-r requirements.txt (line 1)) (3.10.0)\n",
            "Requirement already satisfied: netcdf4 in /usr/local/lib/python3.11/dist-packages (from climada==6.0.1->-r requirements.txt (line 1)) (1.7.2)\n",
            "Requirement already satisfied: numba in /usr/local/lib/python3.11/dist-packages (from climada==6.0.1->-r requirements.txt (line 1)) (0.60.0)\n",
            "Requirement already satisfied: openpyxl in /usr/local/lib/python3.11/dist-packages (from climada==6.0.1->-r requirements.txt (line 1)) (3.1.5)\n",
            "Collecting overpy (from climada==6.0.1->-r requirements.txt (line 1))\n",
            "  Downloading overpy-0.7-py3-none-any.whl.metadata (3.5 kB)\n",
            "Requirement already satisfied: pandas in /usr/local/lib/python3.11/dist-packages (from climada==6.0.1->-r requirements.txt (line 1)) (2.2.2)\n",
            "Requirement already satisfied: pandas-datareader in /usr/local/lib/python3.11/dist-packages (from climada==6.0.1->-r requirements.txt (line 1)) (0.10.0)\n",
            "Collecting pathos (from climada==6.0.1->-r requirements.txt (line 1))\n",
            "  Downloading pathos-0.3.4-py3-none-any.whl.metadata (11 kB)\n",
            "Requirement already satisfied: peewee in /usr/local/lib/python3.11/dist-packages (from climada==6.0.1->-r requirements.txt (line 1)) (3.18.1)\n",
            "Requirement already satisfied: pillow in /usr/local/lib/python3.11/dist-packages (from climada==6.0.1->-r requirements.txt (line 1)) (11.2.1)\n",
            "Collecting pint (from climada==6.0.1->-r requirements.txt (line 1))\n",
            "  Downloading Pint-0.24.4-py3-none-any.whl.metadata (8.5 kB)\n",
            "Collecting pycountry (from climada==6.0.1->-r requirements.txt (line 1))\n",
            "  Downloading pycountry-24.6.1-py3-none-any.whl.metadata (12 kB)\n",
            "Requirement already satisfied: pyproj in /usr/local/lib/python3.11/dist-packages (from climada==6.0.1->-r requirements.txt (line 1)) (3.7.1)\n",
            "Collecting rasterio (from climada==6.0.1->-r requirements.txt (line 1))\n",
            "  Downloading rasterio-1.4.3-cp311-cp311-manylinux_2_17_x86_64.manylinux2014_x86_64.whl.metadata (9.1 kB)\n",
            "Collecting salib (from climada==6.0.1->-r requirements.txt (line 1))\n",
            "  Downloading salib-1.5.1-py3-none-any.whl.metadata (11 kB)\n",
            "Requirement already satisfied: scikit-learn in /usr/local/lib/python3.11/dist-packages (from climada==6.0.1->-r requirements.txt (line 1)) (1.6.1)\n",
            "Requirement already satisfied: seaborn in /usr/local/lib/python3.11/dist-packages (from climada==6.0.1->-r requirements.txt (line 1)) (0.13.2)\n",
            "Requirement already satisfied: statsmodels in /usr/local/lib/python3.11/dist-packages (from climada==6.0.1->-r requirements.txt (line 1)) (0.14.4)\n",
            "Collecting sparse (from climada==6.0.1->-r requirements.txt (line 1))\n",
            "  Downloading sparse-0.16.0-py2.py3-none-any.whl.metadata (5.3 kB)\n",
            "Requirement already satisfied: tables in /usr/local/lib/python3.11/dist-packages (from climada==6.0.1->-r requirements.txt (line 1)) (3.10.2)\n",
            "Requirement already satisfied: tabulate in /usr/local/lib/python3.11/dist-packages (from climada==6.0.1->-r requirements.txt (line 1)) (0.9.0)\n",
            "Requirement already satisfied: tqdm in /usr/local/lib/python3.11/dist-packages (from climada==6.0.1->-r requirements.txt (line 1)) (4.67.1)\n",
            "Requirement already satisfied: xarray in /usr/local/lib/python3.11/dist-packages (from climada==6.0.1->-r requirements.txt (line 1)) (2025.3.1)\n",
            "Requirement already satisfied: xlrd in /usr/local/lib/python3.11/dist-packages (from climada==6.0.1->-r requirements.txt (line 1)) (2.0.1)\n",
            "Collecting xlsxwriter (from climada==6.0.1->-r requirements.txt (line 1))\n",
            "  Downloading XlsxWriter-3.2.3-py3-none-any.whl.metadata (2.7 kB)\n",
            "Requirement already satisfied: attrs>=19.2.0 in /usr/local/lib/python3.11/dist-packages (from fiona->-r requirements.txt (line 2)) (25.3.0)\n",
            "Requirement already satisfied: certifi in /usr/local/lib/python3.11/dist-packages (from fiona->-r requirements.txt (line 2)) (2025.4.26)\n",
            "Requirement already satisfied: click~=8.0 in /usr/local/lib/python3.11/dist-packages (from fiona->-r requirements.txt (line 2)) (8.1.8)\n",
            "Collecting click-plugins>=1.0 (from fiona->-r requirements.txt (line 2))\n",
            "  Downloading click_plugins-1.1.1-py2.py3-none-any.whl.metadata (6.4 kB)\n",
            "Collecting cligj>=0.5 (from fiona->-r requirements.txt (line 2))\n",
            "  Downloading cligj-0.7.2-py3-none-any.whl.metadata (5.0 kB)\n",
            "Collecting colorama<0.5.0,>=0.4.6 (from bayesian-optimization<2.0->climada==6.0.1->-r requirements.txt (line 1))\n",
            "  Downloading colorama-0.4.6-py2.py3-none-any.whl.metadata (17 kB)\n",
            "Requirement already satisfied: numpy>=1.25 in /usr/local/lib/python3.11/dist-packages (from bayesian-optimization<2.0->climada==6.0.1->-r requirements.txt (line 1)) (2.0.2)\n",
            "Requirement already satisfied: scipy<2.0.0,>=1.0.0 in /usr/local/lib/python3.11/dist-packages (from bayesian-optimization<2.0->climada==6.0.1->-r requirements.txt (line 1)) (1.15.2)\n",
            "Requirement already satisfied: joblib>=1.2.0 in /usr/local/lib/python3.11/dist-packages (from scikit-learn->climada==6.0.1->-r requirements.txt (line 1)) (1.5.0)\n",
            "Requirement already satisfied: threadpoolctl>=3.1.0 in /usr/local/lib/python3.11/dist-packages (from scikit-learn->climada==6.0.1->-r requirements.txt (line 1)) (3.6.0)\n",
            "Requirement already satisfied: shapely>=1.8 in /usr/local/lib/python3.11/dist-packages (from cartopy->climada==6.0.1->-r requirements.txt (line 1)) (2.1.0)\n",
            "Requirement already satisfied: packaging>=21 in /usr/local/lib/python3.11/dist-packages (from cartopy->climada==6.0.1->-r requirements.txt (line 1)) (24.2)\n",
            "Requirement already satisfied: pyshp>=2.3 in /usr/local/lib/python3.11/dist-packages (from cartopy->climada==6.0.1->-r requirements.txt (line 1)) (2.3.1)\n",
            "Requirement already satisfied: contourpy>=1.0.1 in /usr/local/lib/python3.11/dist-packages (from matplotlib->climada==6.0.1->-r requirements.txt (line 1)) (1.3.2)\n",
            "Requirement already satisfied: cycler>=0.10 in /usr/local/lib/python3.11/dist-packages (from matplotlib->climada==6.0.1->-r requirements.txt (line 1)) (0.12.1)\n",
            "Requirement already satisfied: fonttools>=4.22.0 in /usr/local/lib/python3.11/dist-packages (from matplotlib->climada==6.0.1->-r requirements.txt (line 1)) (4.57.0)\n",
            "Requirement already satisfied: kiwisolver>=1.3.1 in /usr/local/lib/python3.11/dist-packages (from matplotlib->climada==6.0.1->-r requirements.txt (line 1)) (1.4.8)\n",
            "Requirement already satisfied: pyparsing>=2.3.1 in /usr/local/lib/python3.11/dist-packages (from matplotlib->climada==6.0.1->-r requirements.txt (line 1)) (3.2.3)\n",
            "Requirement already satisfied: python-dateutil>=2.7 in /usr/local/lib/python3.11/dist-packages (from matplotlib->climada==6.0.1->-r requirements.txt (line 1)) (2.9.0.post0)\n",
            "Requirement already satisfied: eccodes>=0.9.8 in /usr/local/lib/python3.11/dist-packages (from cfgrib->climada==6.0.1->-r requirements.txt (line 1)) (2.41.0)\n",
            "Requirement already satisfied: geopy in /usr/local/lib/python3.11/dist-packages (from contextily->climada==6.0.1->-r requirements.txt (line 1)) (2.4.1)\n",
            "Collecting mercantile (from contextily->climada==6.0.1->-r requirements.txt (line 1))\n",
            "  Downloading mercantile-1.2.1-py3-none-any.whl.metadata (4.8 kB)\n",
            "Requirement already satisfied: requests in /usr/local/lib/python3.11/dist-packages (from contextily->climada==6.0.1->-r requirements.txt (line 1)) (2.32.3)\n",
            "Requirement already satisfied: xyzservices in /usr/local/lib/python3.11/dist-packages (from contextily->climada==6.0.1->-r requirements.txt (line 1)) (2025.4.0)\n",
            "Requirement already satisfied: cloudpickle>=3.0.0 in /usr/local/lib/python3.11/dist-packages (from dask->climada==6.0.1->-r requirements.txt (line 1)) (3.1.1)\n",
            "Requirement already satisfied: fsspec>=2021.09.0 in /usr/local/lib/python3.11/dist-packages (from dask->climada==6.0.1->-r requirements.txt (line 1)) (2025.3.2)\n",
            "Requirement already satisfied: partd>=1.4.0 in /usr/local/lib/python3.11/dist-packages (from dask->climada==6.0.1->-r requirements.txt (line 1)) (1.4.2)\n",
            "Requirement already satisfied: pyyaml>=5.3.1 in /usr/local/lib/python3.11/dist-packages (from dask->climada==6.0.1->-r requirements.txt (line 1)) (6.0.2)\n",
            "Requirement already satisfied: toolz>=0.10.0 in /usr/local/lib/python3.11/dist-packages (from dask->climada==6.0.1->-r requirements.txt (line 1)) (0.12.1)\n",
            "Requirement already satisfied: importlib_metadata>=4.13.0 in /usr/local/lib/python3.11/dist-packages (from dask->climada==6.0.1->-r requirements.txt (line 1)) (8.7.0)\n",
            "Requirement already satisfied: pyogrio>=0.7.2 in /usr/local/lib/python3.11/dist-packages (from geopandas->climada==6.0.1->-r requirements.txt (line 1)) (0.10.0)\n",
            "Requirement already satisfied: pytz>=2020.1 in /usr/local/lib/python3.11/dist-packages (from pandas->climada==6.0.1->-r requirements.txt (line 1)) (2025.2)\n",
            "Requirement already satisfied: tzdata>=2022.7 in /usr/local/lib/python3.11/dist-packages (from pandas->climada==6.0.1->-r requirements.txt (line 1)) (2025.2)\n",
            "Requirement already satisfied: cftime in /usr/local/lib/python3.11/dist-packages (from netcdf4->climada==6.0.1->-r requirements.txt (line 1)) (1.6.4.post1)\n",
            "Requirement already satisfied: llvmlite<0.44,>=0.43.0dev0 in /usr/local/lib/python3.11/dist-packages (from numba->climada==6.0.1->-r requirements.txt (line 1)) (0.43.0)\n",
            "Requirement already satisfied: et-xmlfile in /usr/local/lib/python3.11/dist-packages (from openpyxl->climada==6.0.1->-r requirements.txt (line 1)) (2.0.0)\n",
            "Requirement already satisfied: lxml in /usr/local/lib/python3.11/dist-packages (from pandas-datareader->climada==6.0.1->-r requirements.txt (line 1)) (5.4.0)\n",
            "Collecting ppft>=1.7.7 (from pathos->climada==6.0.1->-r requirements.txt (line 1))\n",
            "  Downloading ppft-1.7.7-py3-none-any.whl.metadata (12 kB)\n",
            "Collecting dill>=0.4.0 (from pathos->climada==6.0.1->-r requirements.txt (line 1))\n",
            "  Downloading dill-0.4.0-py3-none-any.whl.metadata (10 kB)\n",
            "Collecting pox>=0.3.6 (from pathos->climada==6.0.1->-r requirements.txt (line 1))\n",
            "  Downloading pox-0.3.6-py3-none-any.whl.metadata (8.0 kB)\n",
            "Collecting multiprocess>=0.70.18 (from pathos->climada==6.0.1->-r requirements.txt (line 1))\n",
            "  Downloading multiprocess-0.70.18-py311-none-any.whl.metadata (7.5 kB)\n",
            "Requirement already satisfied: platformdirs>=2.1.0 in /usr/local/lib/python3.11/dist-packages (from pint->climada==6.0.1->-r requirements.txt (line 1)) (4.3.8)\n",
            "Requirement already satisfied: typing-extensions>=4.0.0 in /usr/local/lib/python3.11/dist-packages (from pint->climada==6.0.1->-r requirements.txt (line 1)) (4.13.2)\n",
            "Collecting flexcache>=0.3 (from pint->climada==6.0.1->-r requirements.txt (line 1))\n",
            "  Downloading flexcache-0.3-py3-none-any.whl.metadata (7.0 kB)\n",
            "Collecting flexparser>=0.4 (from pint->climada==6.0.1->-r requirements.txt (line 1))\n",
            "  Downloading flexparser-0.4-py3-none-any.whl.metadata (18 kB)\n",
            "Collecting affine (from rasterio->climada==6.0.1->-r requirements.txt (line 1))\n",
            "  Downloading affine-2.4.0-py3-none-any.whl.metadata (4.0 kB)\n",
            "Requirement already satisfied: patsy>=0.5.6 in /usr/local/lib/python3.11/dist-packages (from statsmodels->climada==6.0.1->-r requirements.txt (line 1)) (1.0.1)\n",
            "Requirement already satisfied: numexpr>=2.6.2 in /usr/local/lib/python3.11/dist-packages (from tables->climada==6.0.1->-r requirements.txt (line 1)) (2.10.2)\n",
            "Requirement already satisfied: py-cpuinfo in /usr/local/lib/python3.11/dist-packages (from tables->climada==6.0.1->-r requirements.txt (line 1)) (9.0.0)\n",
            "Requirement already satisfied: blosc2>=2.3.0 in /usr/local/lib/python3.11/dist-packages (from tables->climada==6.0.1->-r requirements.txt (line 1)) (3.3.2)\n",
            "Requirement already satisfied: ndindex in /usr/local/lib/python3.11/dist-packages (from blosc2>=2.3.0->tables->climada==6.0.1->-r requirements.txt (line 1)) (1.9.2)\n",
            "Requirement already satisfied: msgpack in /usr/local/lib/python3.11/dist-packages (from blosc2>=2.3.0->tables->climada==6.0.1->-r requirements.txt (line 1)) (1.1.0)\n",
            "Requirement already satisfied: cffi in /usr/local/lib/python3.11/dist-packages (from eccodes>=0.9.8->cfgrib->climada==6.0.1->-r requirements.txt (line 1)) (1.17.1)\n",
            "Requirement already satisfied: findlibs in /usr/local/lib/python3.11/dist-packages (from eccodes>=0.9.8->cfgrib->climada==6.0.1->-r requirements.txt (line 1)) (0.1.1)\n",
            "Requirement already satisfied: zipp>=3.20 in /usr/local/lib/python3.11/dist-packages (from importlib_metadata>=4.13.0->dask->climada==6.0.1->-r requirements.txt (line 1)) (3.21.0)\n",
            "Requirement already satisfied: locket in /usr/local/lib/python3.11/dist-packages (from partd>=1.4.0->dask->climada==6.0.1->-r requirements.txt (line 1)) (1.0.0)\n",
            "Requirement already satisfied: six>=1.5 in /usr/local/lib/python3.11/dist-packages (from python-dateutil>=2.7->matplotlib->climada==6.0.1->-r requirements.txt (line 1)) (1.17.0)\n",
            "Requirement already satisfied: charset-normalizer<4,>=2 in /usr/local/lib/python3.11/dist-packages (from requests->contextily->climada==6.0.1->-r requirements.txt (line 1)) (3.4.2)\n",
            "Requirement already satisfied: idna<4,>=2.5 in /usr/local/lib/python3.11/dist-packages (from requests->contextily->climada==6.0.1->-r requirements.txt (line 1)) (3.10)\n",
            "Requirement already satisfied: urllib3<3,>=1.21.1 in /usr/local/lib/python3.11/dist-packages (from requests->contextily->climada==6.0.1->-r requirements.txt (line 1)) (2.4.0)\n",
            "Requirement already satisfied: geographiclib<3,>=1.52 in /usr/local/lib/python3.11/dist-packages (from geopy->contextily->climada==6.0.1->-r requirements.txt (line 1)) (2.0)\n",
            "Requirement already satisfied: pycparser in /usr/local/lib/python3.11/dist-packages (from cffi->eccodes>=0.9.8->cfgrib->climada==6.0.1->-r requirements.txt (line 1)) (2.22)\n",
            "Downloading fiona-1.10.1-cp311-cp311-manylinux_2_17_x86_64.manylinux2014_x86_64.whl (17.3 MB)\n",
            "\u001b[2K   \u001b[90m━━━━━━━━━━━━━━━━━━━━━━━━━━━━━━━━━━━━━━━━\u001b[0m \u001b[32m17.3/17.3 MB\u001b[0m \u001b[31m91.0 MB/s\u001b[0m eta \u001b[36m0:00:00\u001b[0m\n",
            "\u001b[?25hDownloading bayesian_optimization-1.5.1-py3-none-any.whl (28 kB)\n",
            "Downloading click_plugins-1.1.1-py2.py3-none-any.whl (7.5 kB)\n",
            "Downloading cligj-0.7.2-py3-none-any.whl (7.1 kB)\n",
            "Downloading contextily-1.6.2-py3-none-any.whl (17 kB)\n",
            "Downloading deprecation-2.1.0-py2.py3-none-any.whl (11 kB)\n",
            "Downloading haversine-2.9.0-py2.py3-none-any.whl (7.7 kB)\n",
            "Downloading overpy-0.7-py3-none-any.whl (14 kB)\n",
            "Downloading pathos-0.3.4-py3-none-any.whl (82 kB)\n",
            "\u001b[2K   \u001b[90m━━━━━━━━━━━━━━━━━━━━━━━━━━━━━━━━━━━━━━━━\u001b[0m \u001b[32m82.3/82.3 kB\u001b[0m \u001b[31m7.7 MB/s\u001b[0m eta \u001b[36m0:00:00\u001b[0m\n",
            "\u001b[?25hDownloading Pint-0.24.4-py3-none-any.whl (302 kB)\n",
            "\u001b[2K   \u001b[90m━━━━━━━━━━━━━━━━━━━━━━━━━━━━━━━━━━━━━━━━\u001b[0m \u001b[32m302.0/302.0 kB\u001b[0m \u001b[31m22.9 MB/s\u001b[0m eta \u001b[36m0:00:00\u001b[0m\n",
            "\u001b[?25hDownloading pycountry-24.6.1-py3-none-any.whl (6.3 MB)\n",
            "\u001b[2K   \u001b[90m━━━━━━━━━━━━━━━━━━━━━━━━━━━━━━━━━━━━━━━━\u001b[0m \u001b[32m6.3/6.3 MB\u001b[0m \u001b[31m89.6 MB/s\u001b[0m eta \u001b[36m0:00:00\u001b[0m\n",
            "\u001b[?25hDownloading rasterio-1.4.3-cp311-cp311-manylinux_2_17_x86_64.manylinux2014_x86_64.whl (22.2 MB)\n",
            "\u001b[2K   \u001b[90m━━━━━━━━━━━━━━━━━━━━━━━━━━━━━━━━━━━━━━━━\u001b[0m \u001b[32m22.2/22.2 MB\u001b[0m \u001b[31m75.3 MB/s\u001b[0m eta \u001b[36m0:00:00\u001b[0m\n",
            "\u001b[?25hDownloading salib-1.5.1-py3-none-any.whl (778 kB)\n",
            "\u001b[2K   \u001b[90m━━━━━━━━━━━━━━━━━━━━━━━━━━━━━━━━━━━━━━━━\u001b[0m \u001b[32m778.9/778.9 kB\u001b[0m \u001b[31m45.5 MB/s\u001b[0m eta \u001b[36m0:00:00\u001b[0m\n",
            "\u001b[?25hDownloading sparse-0.16.0-py2.py3-none-any.whl (147 kB)\n",
            "\u001b[2K   \u001b[90m━━━━━━━━━━━━━━━━━━━━━━━━━━━━━━━━━━━━━━━━\u001b[0m \u001b[32m147.3/147.3 kB\u001b[0m \u001b[31m10.8 MB/s\u001b[0m eta \u001b[36m0:00:00\u001b[0m\n",
            "\u001b[?25hDownloading XlsxWriter-3.2.3-py3-none-any.whl (169 kB)\n",
            "\u001b[2K   \u001b[90m━━━━━━━━━━━━━━━━━━━━━━━━━━━━━━━━━━━━━━━━\u001b[0m \u001b[32m169.4/169.4 kB\u001b[0m \u001b[31m12.9 MB/s\u001b[0m eta \u001b[36m0:00:00\u001b[0m\n",
            "\u001b[?25hDownloading colorama-0.4.6-py2.py3-none-any.whl (25 kB)\n",
            "Downloading dill-0.4.0-py3-none-any.whl (119 kB)\n",
            "\u001b[2K   \u001b[90m━━━━━━━━━━━━━━━━━━━━━━━━━━━━━━━━━━━━━━━━\u001b[0m \u001b[32m119.7/119.7 kB\u001b[0m \u001b[31m9.2 MB/s\u001b[0m eta \u001b[36m0:00:00\u001b[0m\n",
            "\u001b[?25hDownloading flexcache-0.3-py3-none-any.whl (13 kB)\n",
            "Downloading flexparser-0.4-py3-none-any.whl (27 kB)\n",
            "Downloading multiprocess-0.70.18-py311-none-any.whl (144 kB)\n",
            "\u001b[2K   \u001b[90m━━━━━━━━━━━━━━━━━━━━━━━━━━━━━━━━━━━━━━━━\u001b[0m \u001b[32m144.5/144.5 kB\u001b[0m \u001b[31m10.7 MB/s\u001b[0m eta \u001b[36m0:00:00\u001b[0m\n",
            "\u001b[?25hDownloading pox-0.3.6-py3-none-any.whl (29 kB)\n",
            "Downloading ppft-1.7.7-py3-none-any.whl (56 kB)\n",
            "\u001b[2K   \u001b[90m━━━━━━━━━━━━━━━━━━━━━━━━━━━━━━━━━━━━━━━━\u001b[0m \u001b[32m56.8/56.8 kB\u001b[0m \u001b[31m4.5 MB/s\u001b[0m eta \u001b[36m0:00:00\u001b[0m\n",
            "\u001b[?25hDownloading affine-2.4.0-py3-none-any.whl (15 kB)\n",
            "Downloading mercantile-1.2.1-py3-none-any.whl (14 kB)\n",
            "Building wheels for collected packages: climada\n",
            "  Building wheel for climada (pyproject.toml) ... \u001b[?25l\u001b[?25hdone\n",
            "  Created wheel for climada: filename=climada-6.0.1-py3-none-any.whl size=8018053 sha256=89bc0b96010e323ba73ff7209fe3b8972e8f35643d56e9715a7630190fd229d5\n",
            "  Stored in directory: /tmp/pip-ephem-wheel-cache-aj4nygcc/wheels/1c/34/88/b502ba045797e436d7510ce4a2350a18614afc45869021578d\n",
            "Successfully built climada\n",
            "Installing collected packages: xlsxwriter, pycountry, ppft, pox, overpy, mercantile, haversine, flexparser, flexcache, dill, deprecation, colorama, cligj, click-plugins, affine, sparse, rasterio, pint, multiprocess, fiona, salib, pathos, contextily, bayesian-optimization, climada\n",
            "  Attempting uninstall: dill\n",
            "    Found existing installation: dill 0.3.7\n",
            "    Uninstalling dill-0.3.7:\n",
            "      Successfully uninstalled dill-0.3.7\n",
            "  Attempting uninstall: multiprocess\n",
            "    Found existing installation: multiprocess 0.70.15\n",
            "    Uninstalling multiprocess-0.70.15:\n",
            "      Successfully uninstalled multiprocess-0.70.15\n",
            "\u001b[31mERROR: pip's dependency resolver does not currently take into account all the packages that are installed. This behaviour is the source of the following dependency conflicts.\n",
            "datasets 2.14.4 requires dill<0.3.8,>=0.3.0, but you have dill 0.4.0 which is incompatible.\u001b[0m\u001b[31m\n",
            "\u001b[0mSuccessfully installed affine-2.4.0 bayesian-optimization-1.5.1 click-plugins-1.1.1 cligj-0.7.2 climada-6.0.1 colorama-0.4.6 contextily-1.6.2 deprecation-2.1.0 dill-0.4.0 fiona-1.10.1 flexcache-0.3 flexparser-0.4 haversine-2.9.0 mercantile-1.2.1 multiprocess-0.70.18 overpy-0.7 pathos-0.3.4 pint-0.24.4 pox-0.3.6 ppft-1.7.7 pycountry-24.6.1 rasterio-1.4.3 salib-1.5.1 sparse-0.16.0 xlsxwriter-3.2.3\n"
          ]
        }
      ],
      "source": [
        "!pip install -r requirements.txt\n"
      ]
    },
    {
      "cell_type": "code",
      "execution_count": null,
      "metadata": {
        "id": "l1eeiyo_jj_t"
      },
      "outputs": [],
      "source": [
        "# Import packages\n",
        "\n",
        "import warnings\n",
        "import datetime as dt\n",
        "warnings.filterwarnings('ignore')\n",
        "\n",
        "from seasonal_forecast_tools.coordinates_utils import (bounding_box_from_cardinal_bounds, bounding_box_global, bounding_box_from_countries)\n",
        "from seasonal_forecast_tools import SeasonalForecast\n",
        "from seasonal_forecast_tools.time_utils import month_name_to_number"
      ]
    },
    {
      "attachments": {},
      "cell_type": "markdown",
      "metadata": {
        "id": "3yb5sbSw7zbx"
      },
      "source": [
        "### Set up module parameters\n",
        "\n",
        "To configure the module for working with Copernicus forecast data and converting it into a hazard object for CLIMADA, you will need to define several essential parameters. These settings are crucial as they specify the type of data to be retrieved, the format, the forecast period, and the geographical area of interest. These parameters influence how the forecast data is processed and transformed into a hazard object.\n",
        "\n",
        "Below, we outline these parameters and use an example for the \"Maximum Temperature\" index to demonstrate the seasonal forecast functionality.\n",
        "\n",
        "To learn more about what these parameters entail and their significance, please refer to the [documentation on the CDS webpage](https://cds.climate.copernicus.eu/datasets/seasonal-original-single-levels?tab=overview).\n",
        "\n",
        "#### Overview of parameters\n",
        "\n",
        "**index_metric**: Defines the type of index to be calculated. There are currently **12 predefined options** available, including temperature-based indices (`Tmean` – Mean Temperature, `Tmin` – Minimum Temperature, `Tmax` – Maximum Temperature), heat stress indicators (`HIA` – Heat Index Adjusted, `HIS` – Heat Index Simplified, `HUM` – Humidex, `AT` – Apparent Temperature, `WBGT` – Wet Bulb Globe Temperature (Simple)), and extreme event indices (`HW` – Heat Wave, `TR` – Tropical Nights, `TX30` – Hot Days).\n",
        "\n",
        "  - **Heat Waves (\"HW\")**:  \n",
        "    If `index_metric` is set to 'HW' for heat wave calculations, additional parameters can be specified to fine-tune the heat wave detection:\n",
        "\n",
        "    - **threshold**: Temperature threshold above which days are considered part of a heat wave. Default is 27°C.\n",
        "    - **min_duration**: Minimum number of consecutive days above the threshold required to define a heat wave event. Default is 3 days.\n",
        "    - **max_gap**: Maximum allowable gap (in days) between two heat wave events to consider them as one single event. Default is 0 days.\n",
        "\n",
        "  - **Tropical Nights (\"TR\")**:  \n",
        "    If `index_metric` is set to 'TR' for tropical nights, an additional parameter can be specified to set the threshold:\n",
        "\n",
        "    - **threshold**: Nighttime temperature threshold, above which a night is considered \"tropical.\" Default is 20°C.\n",
        "\n",
        "- ⚠️ **Flexibility:** Users can define and integrate their own indices into the pipeline to extend the analysis according to their specific needs.\n",
        "\n",
        "\n",
        "**format** : Specifies the format of the data to be downloaded, \"grib\" or \"netcdf\". Copernicus do **NOT** recommended netcdf format for operational workflows since conversion to netcdf is considered experimental. [More information here](https://confluence.ecmwf.int/display/CKB/GRIB+to+netCDF+conversion+on+new+CDS+and+ADS+systems).\n",
        "\n",
        "**originating_centre**: Identifies the source of the data. A standard choice is \"dwd\" (German Weather Service), one of eight providers including ECMWF, UK Met Office, Météo France, CMCC, NCEP, JMA, and ECCC.\n",
        "\n",
        "**system**: Refers to a specific model or configuration used for forecasts. In this script, the default value is \"21,\" which corresponds to the GCSF (German Climate Forecast System) [version 2.1](https://agupubs.onlinelibrary.wiley.com/doi/full/10.1029/2020MS002101). More details can be found in the [CDS documentation](https://cds.climate.copernicus.eu/datasets/seasonal-original-single-levels?tab=documentation).\n",
        "\n",
        "**year_list**: A list of years for which data should be downloaded and processed.\n",
        "\n",
        "**initiation_month**: A list of the months in which the forecasts are initiated. Example: [\"March\", \"April\"].\n",
        "\n",
        "**forecast_period**: Specifies the months relative to the forecast's initiation month for which the data is forecasted. Example: [\"June\", \"July\", \"August\"] indicates forecasts for these months. The maximum available is 7 months.\n",
        "\n",
        "  - **⚠️ Important**: When an initiation month is in one year and the forecast period in the next, the system recognizes the forecast extends beyond the initial year. Data is retrieved based on the initiation month, with lead times covering the following year. The forecast is stored under the initiation year’s directory, ensuring consistency while spanning both years.\n",
        "\n",
        "**area_selection**: This determines the geographical area for which the data should be downloaded. It can be set to\n",
        "- Global coverage:\n",
        "    - Use the predefined function bounding_box_global() to select the entire globe.\n",
        "- Custom geographical bounds (cardinal coordinates):\n",
        "    - Input explicit latitude/longitude limits (in EPSG:4326).\n",
        "    - *bounds = bounding_box_from_cardinal_bounds(northern=49, eastern=20, southern=40, western=10)*\n",
        "- Country codes (ISO alpha-3):\n",
        "    - Provide a list of ISO 3166-1 alpha-3 country codes (e.g., \"DEU\" for Germany, \"CHE\" for Switzerland). The bounding box is constructed as the union of all selected countries.See this [wikipedia page](https://en.wikipedia.org/wiki/ISO_3166-1_alpha-3) for the country codes.\n",
        "    - *bounds = bounding_box_from_countries([\"CHE\", \"DEU\"])*\n",
        "\n",
        "**overwrite**: Boolean flag that, when set to True, forces the system to redownload and reprocess existing files."
      ]
    },
    {
      "cell_type": "code",
      "execution_count": null,
      "metadata": {
        "colab": {
          "base_uri": "https://localhost:8080/",
          "height": 35
        },
        "id": "JZymN8KFBVpL",
        "outputId": "48abdd6e-36d9-4122-acfe-e3226ac848dd"
      },
      "outputs": [
        {
          "data": {
            "application/vnd.google.colaboratory.intrinsic+json": {
              "type": "string"
            },
            "text/plain": [
              "'Explanation for Tmax: Maximum Temperature: Tracks the highest temperature recorded over a specified period. Required variables: 2m_temperature'"
            ]
          },
          "execution_count": 10,
          "metadata": {},
          "output_type": "execute_result"
        }
      ],
      "source": [
        "# We define above parameters for an example\n",
        "index_metric = \"Tmax\"\n",
        "data_format = \"grib\"  # 'grib' or 'netcdf'\n",
        "originating_centre =  \"dwd\"\n",
        "system =  \"21\"\n",
        "forecast_period = [\"December\", \"February\"] # from jun to august including july\n",
        "year_list = [2022]\n",
        "initiation_month = [\"November\"]\n",
        "overwrite = False\n",
        "\n",
        "# global bounding box\n",
        "# bounds = bounding_box_global()\n",
        "# input cardinal bounds\n",
        "# bounds = bounding_box_from_cardinal_bounds(northern=49, eastern=20, southern=40, western=10)\n",
        "# input country ISO codes\n",
        "bounds = bounding_box_from_countries([\"URY\"])\n",
        "\n",
        "# Parameters for Heat Waves\n",
        "hw_threshold = 27\n",
        "hw_min_duration = 3\n",
        "hw_max_gap = 0\n",
        "\n",
        "# Parameters for Tropical Nights\n",
        "threshold_tr = 20\n",
        "\n",
        "# Describe the selected climate index and the associated input data\n",
        "handler = SeasonalForecast(\n",
        "    index_metric=index_metric,\n",
        "    year_list=year_list,\n",
        "    forecast_period=forecast_period,\n",
        "    initiation_month=initiation_month,\n",
        "    bounds=bounds,\n",
        "    data_format=data_format,\n",
        "    originating_centre=originating_centre,\n",
        "    system=system,\n",
        "    )\n",
        "\n",
        "handler.explain_index()"
      ]
    },
    {
      "attachments": {},
      "cell_type": "markdown",
      "metadata": {
        "id": "vVIf-TdZ7zbx"
      },
      "source": [
        "### Download and Process Data\n",
        "\n",
        "The `handler.download_and_process_data` method in CLIMADA efficiently retrieves and organizes Copernicus forecast data. It checks for existing files to avoid redundant downloads, stores data by format (grib or netCDF), year, month. Then the files are processed for further analysis, such as calculating climate indices or creating hazard objects within CLIMADA. Here are the aspects of this process:\n",
        "\n",
        "- **Data Download**: The method downloads the forecast data for the selected years, months, and regions. The data is retrieved in **grib** or **netCDF** formats, which are commonly used for storing meteorological data. If the required files already exist in the specified directories, the system will skip downloading them, as indicated by the log messages such as:  \n",
        "  Corresponding grib file *SYSTEM_DIR/copernicus_data/seasonal_forecasts/dwd/sys21/2023/init03/valid06_08/downloaded_data/grib/TX30_boundsW4_S44_E11_N48.grib already exists*.\n",
        "\n",
        "- **Data Processing**: After downloading (or confirming the existence of) the files, the system converts them into daily **netCDF** files. Each file contains gridded, multi-ensemble data for daily mean, maximum, and minimum, structured by forecast step, ensemble member, latitude, and longitude. The log messages confirm the existence or creation of these files, for example:  \n",
        "  Daily file *SYSTEM_DIR/copernicus_data/seasonal_forecasts/dwd/sys21/2023/init03/valid06_08/processed_data/TX30_boundsW4_S44_E11_N48.nc already exists*.\n",
        "\n",
        "- **Geographic and Temporal Focus**: The files are generated for a specific time frame (e.g., June and July 2022) and a predefined geographic region, as specified by the parameters such as `bounds`, `month_list`, and `year_list`. This ensures that only the selected data for your analysis is downloaded and processed.\n",
        "\n",
        "- **Data Completeness**: Messages like \"already exists\" ensure that you do not redundantly download or process data, saving time and computing resources. However, if the data files are missing, they will be downloaded and processed as necessary."
      ]
    },
    {
      "cell_type": "code",
      "execution_count": null,
      "metadata": {
        "colab": {
          "base_uri": "https://localhost:8080/",
          "height": 275,
          "referenced_widgets": [
            "1b7e0aa7d45c4495a7f0e23b40c60dd7",
            "1e1d2e656e8d4d8abf0f1659c1ab5bc9",
            "70781b455151477c80c52c2532374dbf",
            "46381addd6634fb88755badd31e44166",
            "b47c3683c279458197631d33ed0ad751",
            "0c01ab05b00f4eabac07fde9ca3d4276",
            "8287f8dcc9e74ec4a3da774ee1c8f52f",
            "9824ac0d43724c63ac985c138b42ad01",
            "c12b69f53244482fa6e4f25e9161c773",
            "32e5bf4690c54e30a66b503a91a6d87d",
            "1b9238c6d32f4b18bd5a80144936f5ca"
          ]
        },
        "id": "XoVtweoyBfaU",
        "outputId": "dbe24700-e138-44e1-eefb-10917e760472"
      },
      "outputs": [
        {
          "name": "stderr",
          "output_type": "stream",
          "text": [
            "2025-05-13 08:06:47,737 INFO [2024-09-26T00:00:00] Watch our [Forum](https://forum.ecmwf.int/) for Announcements, news and other discussed topics.\n",
            "INFO:ecmwf.datastores.legacy_client:[2024-09-26T00:00:00] Watch our [Forum](https://forum.ecmwf.int/) for Announcements, news and other discussed topics.\n",
            "2025-05-13 08:06:47,739 WARNING [2024-06-16T00:00:00] CDS API syntax is changed and some keys or parameter names may have also changed. To avoid requests failing, please use the \"Show API request code\" tool on the dataset Download Form to check you are using the correct syntax for your API request.\n",
            "WARNING:ecmwf.datastores.legacy_client:[2024-06-16T00:00:00] CDS API syntax is changed and some keys or parameter names may have also changed. To avoid requests failing, please use the \"Show API request code\" tool on the dataset Download Form to check you are using the correct syntax for your API request.\n",
            "2025-05-13 08:06:49,651 INFO Request ID is aedfe235-c009-410f-9be1-7567038368cc\n",
            "INFO:ecmwf.datastores.legacy_client:Request ID is aedfe235-c009-410f-9be1-7567038368cc\n",
            "2025-05-13 08:06:49,833 INFO status has been updated to accepted\n",
            "INFO:ecmwf.datastores.legacy_client:status has been updated to accepted\n",
            "2025-05-13 08:07:04,038 INFO status has been updated to running\n",
            "INFO:ecmwf.datastores.legacy_client:status has been updated to running\n",
            "2025-05-13 08:09:43,275 INFO status has been updated to successful\n",
            "INFO:ecmwf.datastores.legacy_client:status has been updated to successful\n"
          ]
        },
        {
          "data": {
            "application/vnd.jupyter.widget-view+json": {
              "model_id": "1b7e0aa7d45c4495a7f0e23b40c60dd7",
              "version_major": 2,
              "version_minor": 0
            },
            "text/plain": [
              "cf5f35f1809cf7cf18aed5a0967ced9e.grib:   0%|          | 0.00/4.88M [00:00<?, ?B/s]"
            ]
          },
          "metadata": {},
          "output_type": "display_data"
        },
        {
          "data": {
            "text/plain": [
              "{'downloaded_data': {'2022_init11_valid12_02': PosixPath('/root/climada_data/copernicus_data/seasonal_forecasts/dwd/sys21/2022/init11/valid12_02/downloaded_data/grib/Tmax_boundsN-59_S-35_E-52_W-29.grib')},\n",
              " 'processed_data': {'2022_init11_valid12_02': PosixPath('/root/climada_data/copernicus_data/seasonal_forecasts/dwd/sys21/2022/init11/valid12_02/processed_data/Tmax_boundsN-59_S-35_E-52_W-29.nc')}}"
            ]
          },
          "execution_count": 11,
          "metadata": {},
          "output_type": "execute_result"
        }
      ],
      "source": [
        "# Download and process data\n",
        "handler.download_and_process_data()"
      ]
    },
    {
      "attachments": {},
      "cell_type": "markdown",
      "metadata": {
        "id": "wt4W_aI-7zby"
      },
      "source": [
        "### Calculate Climate Indices\n",
        "\n",
        "When you use the `handler.calculate_index` method in CLIMADA to compute specific climate indices (such as Maximum Temperature), the generated output is saved and organized in a structured format for further analysis. Here some details:\n",
        "\n",
        "- **Index Calculation**: The method processes seasonal forecast data to compute the selected index for the chosen years, months, and regions. This index represents a specific climate condition, such as the number of Maximum Temperature (\"Tmax\") over the forecast period, as defined in the parameters.\n",
        "\n",
        "- **Data Storage**: The calculated index data is saved in **netCDF** format. These files are automatically saved in directories specific to the index and time period. The file paths are printed below the processing steps. For example, the computed index values are stored in:  \n",
        "  *SYSTEM_DIR/copernicus_data/seasonal_forecasts/dwd/sys21/2023/init03/valid06_08/indices/TX30/TX30_boundsW4_S44_E11_N48_daily.nc*.\n",
        "\n",
        "  Similarly, the statistics of the index (e.g., mean, max, min, std) are saved in:  \n",
        "  *SYSTEM_DIR/copernicus_data/seasonal_forecasts/dwd/sys21/2023/init03/valid06_08/indices/TX30/TX30_boundsW4_S44_E11_N48_stats.nc*.\n",
        "  These files ensure that both the raw indices and their statistical summaries are available for detailed analysis.\n",
        "  \n",
        "  Each file contains data for a specific month and geographic region, as defined in the parameters. This allows you to analyze how the selected climate index varies over time and across different locations.\n",
        "\n",
        "- **Completeness of Data Processing**: Messages 'Index Tmax successfully calculated and saved for...' confirm the successful calculation and storage of the index, ensuring that all requested data has been processed and saved correctly.\n",
        "\n"
      ]
    },
    {
      "cell_type": "code",
      "execution_count": null,
      "metadata": {
        "colab": {
          "base_uri": "https://localhost:8080/"
        },
        "id": "-YkOT5iREfHg",
        "outputId": "6e4fa302-240f-4656-8f72-518ad992f638"
      },
      "outputs": [
        {
          "data": {
            "text/plain": [
              "{'2022_init11_valid12_02': {'daily': PosixPath('/root/climada_data/copernicus_data/seasonal_forecasts/dwd/sys21/2022/init11/valid12_02/indices/Tmax/Tmax_boundsN-59_S-35_E-52_W-29_daily.nc'),\n",
              "  'monthly': PosixPath('/root/climada_data/copernicus_data/seasonal_forecasts/dwd/sys21/2022/init11/valid12_02/indices/Tmax/Tmax_boundsN-59_S-35_E-52_W-29_monthly.nc'),\n",
              "  'stats': PosixPath('/root/climada_data/copernicus_data/seasonal_forecasts/dwd/sys21/2022/init11/valid12_02/indices/Tmax/Tmax_boundsN-59_S-35_E-52_W-29_stats.nc')}}"
            ]
          },
          "execution_count": 12,
          "metadata": {},
          "output_type": "execute_result"
        }
      ],
      "source": [
        "# Calculate index\n",
        "handler.calculate_index(hw_threshold=hw_threshold, hw_min_duration=hw_min_duration, hw_max_gap=hw_max_gap)"
      ]
    },
    {
      "attachments": {},
      "cell_type": "markdown",
      "metadata": {
        "id": "A2b8faas7zby"
      },
      "source": [
        "### Calculate a Hazard Object\n",
        "\n",
        "When you use the `handler.process_and_save_hazards` method in CLIMADA to convert processed index from Copernicus forecast data into a hazard object:\n",
        "\n",
        "- **Hazard Object Creation**: The method processes seasonal forecast data for specified years and months, converting these into hazard objects. These objects encapsulate potential risks associated with specific weather events or conditions, such as Maximum Temperature ('Tmax') indicated in the parameters, over the forecast period.\n",
        "\n",
        "- **Data Storage**: The hazard data for each ensemble member of the forecast is saved as HDF5 files. These files are automatically stored in specific directories corresponding to each month and type of hazard. The file paths are printed below the processing steps. For example, *SYSTEM_DIR/copernicus_data/seasonal_forecasts/dwd/sys21/2023/init03/valid06_08/hazard/TX30/TX30_boundsW4_S44_E11_N48.hdf5*.\n",
        " HDF5 is a versatile data model that efficiently stores large volumes of complex data.\n",
        "\n",
        " Each file is specific to a particular month and hazard scenario ('Tmax' in this case) and covers all ensemble members for that forecast period, aiding in detailed risk analysis.\n",
        "\n",
        "- **Completeness of Data Processing**: Messages like 'Completed processing for 2022-07. Data saved in...' confirm the successful processing and storage of the hazard data for that period, ensuring that all requested data has been properly handled and stored.\n",
        "\n"
      ]
    },
    {
      "cell_type": "code",
      "execution_count": null,
      "metadata": {
        "colab": {
          "base_uri": "https://localhost:8080/"
        },
        "id": "y78UZXsFEtsm",
        "outputId": "6cceb553-5f0e-43cf-bec6-a7a62b7dadfa"
      },
      "outputs": [
        {
          "data": {
            "text/plain": [
              "{'2022_init11_valid12_02': PosixPath('/root/climada_data/copernicus_data/seasonal_forecasts/dwd/sys21/2022/init11/valid12_02/hazard/Tmax/Tmax_boundsN-59_S-35_E-52_W-29.hdf5')}"
            ]
          },
          "execution_count": 13,
          "metadata": {},
          "output_type": "execute_result"
        }
      ],
      "source": [
        "handler.save_index_to_hazard()"
      ]
    },
    {
      "attachments": {},
      "cell_type": "markdown",
      "metadata": {
        "id": "3CpctyTM7zby"
      },
      "source": [
        "## Example for reading and plotting hazard\n",
        "\n",
        "#### Visualizing the Calculated Hazard Object\n",
        "\n",
        "Once the hazard object has been successfully calculated, we recoment to print the last element created is printed for visualization. This is important for several reasons:\n",
        "\n",
        "- **Initial Data Inspection**: The visualization allows you to view a slice of the forecast data, providing a quick check of the results. This initial glimpse helps you verify that the data processing was successful and provides insights into the distribution of the hazard (in this case, Maximum Temperature) across the area of interest.\n",
        "\n",
        "- **Geographic Accuracy**: The map helps you verify if the correct geographic region was processed and plotted. This is particularly useful as it allows immediate feedback on whether the user-defined boundaries or selected areas (e.g., Germany and Switzerland) were captured correctly.\n",
        "\n",
        "- **Data Quality Check**: Visualizing the output also serves as a preliminary quality check, allowing you to detect any unexpected results or anomalies in the data. For instance, the color bar indicating the \"Intensity (days)\" gives an indication of how the hazard index is distributed across the mapped area.\n",
        "\n",
        "- **Quick Workflow Testing**: This step is essential for testing the entire workflow, ensuring that the process is working as expected from data download, processing, and hazard object creation to visualization.\n",
        "\n",
        "This output provides a structured dataset ready for further analysis within the CLIMADA framework, allowing for the evaluation of potential impacts and the planning of mitigation strategies.\n",
        "\n",
        "For instance, below, we load the hazard for the last month and plot the intensity per grid point maximized over all forecast ensemble members."
      ]
    },
    {
      "cell_type": "code",
      "execution_count": null,
      "metadata": {
        "colab": {
          "base_uri": "https://localhost:8080/"
        },
        "id": "ACd1ttyos_qA",
        "outputId": "3cf78311-cf60-465e-83cb-71cdeddc8031"
      },
      "outputs": [
        {
          "data": {
            "text/plain": [
              "{'2022_init11_valid12_02': PosixPath('/root/climada_data/copernicus_data/seasonal_forecasts/dwd/sys21/2022/init11/valid12_02/hazard/Tmax/Tmax_boundsN-59_S-35_E-52_W-29.hdf5')}"
            ]
          },
          "execution_count": 15,
          "metadata": {},
          "output_type": "execute_result"
        }
      ],
      "source": [
        "from climada.hazard import Hazard\n",
        "handler.save_index_to_hazard()"
      ]
    },
    {
      "cell_type": "code",
      "execution_count": null,
      "metadata": {
        "colab": {
          "base_uri": "https://localhost:8080/",
          "height": 722
        },
        "id": "0T06XjbwE3Uy",
        "outputId": "a4e1a01e-3566-406d-dd0c-d7d07d6a16cb"
      },
      "outputs": [
        {
          "name": "stdout",
          "output_type": "stream",
          "text": [
            "/root/climada_data/copernicus_data/seasonal_forecasts/dwd/sys21/2022/init11/valid12_02/hazard/Tmax/Tmax_boundsN-59_S-35_E-52_W-29.hdf5\n",
            "Available Dates Across Members: ['2022-12-01', '2023-01-01', '2023-02-01']\n",
            "Selected Date for Plotting: 2023-02-01\n"
          ]
        },
        {
          "data": {
            "image/png": "[encoded data removed]",
            "text/plain": [
              "<Figure size 900x1300 with 2 Axes>"
            ]
          },
          "metadata": {},
          "output_type": "display_data"
        }
      ],
      "source": [
        "# load an example hazard\n",
        "initiation_year = year_list[0]\n",
        "initiation_month_str = f\"{month_name_to_number(initiation_month[0]):02d}\"\n",
        "\n",
        "# Extract last valid forecast month from valid_period_str (e.g., \"12_02\" → 2)\n",
        "forecast_month = int(handler.valid_period_str[-2:])\n",
        "forecast_year = initiation_year + 1 if int(initiation_month_str) > forecast_month else initiation_year\n",
        "\n",
        "# Load hazard (based on INIT year)\n",
        "path_to_hazard = handler.get_pipeline_path(initiation_year, initiation_month_str, \"hazard\")\n",
        "print(path_to_hazard)\n",
        "haz = Hazard.from_hdf5(path_to_hazard)\n",
        "\n",
        "if haz:\n",
        "    available_dates = sorted(set(haz.date))\n",
        "    readable_dates = [dt.datetime.fromordinal(d).strftime('%Y-%m-%d') for d in available_dates]\n",
        "    print(\"Available Dates Across Members:\", readable_dates)\n",
        "\n",
        "    # Look for the first day of the last forecast month\n",
        "    target_date = dt.datetime(forecast_year, forecast_month, 1).toordinal()\n",
        "    closest_date = min(available_dates, key=lambda x: abs(x - target_date))\n",
        "    closest_date_str = dt.datetime.fromordinal(closest_date).strftime('%Y-%m-%d')\n",
        "\n",
        "    print(f\"Selected Date for Plotting: {closest_date_str}\")\n",
        "    haz.select(date=[closest_date, closest_date]).plot_intensity(event=0, smooth=False)\n",
        "\n",
        "else:\n",
        "    print(\"No hazard data found for the selected period.\")"
      ]
    },
    {
      "cell_type": "code",
      "execution_count": null,
      "metadata": {
        "id": "5k3Ww50fFRrV"
      },
      "outputs": [],
      "source": []
    }
  ],
  "metadata": {
    "colab": {
      "provenance": []
    },
    "kernelspec": {
      "display_name": "Python 3",
      "name": "python3"
    },
    "language_info": {
      "name": "python"
    },
    "widgets": {
      "application/vnd.jupyter.widget-state+json": {
        "04c91de1e346458283fd1748d6f6637c": {
          "model_module": "@jupyter-widgets/base",
          "model_module_version": "1.2.0",
          "model_name": "LayoutModel",
          "state": {
            "_model_module": "@jupyter-widgets/base",
            "_model_module_version": "1.2.0",
            "_model_name": "LayoutModel",
            "_view_count": null,
            "_view_module": "@jupyter-widgets/base",
            "_view_module_version": "1.2.0",
            "_view_name": "LayoutView",
            "align_content": null,
            "align_items": null,
            "align_self": null,
            "border": null,
            "bottom": null,
            "display": null,
            "flex": null,
            "flex_flow": null,
            "grid_area": null,
            "grid_auto_columns": null,
            "grid_auto_flow": null,
            "grid_auto_rows": null,
            "grid_column": null,
            "grid_gap": null,
            "grid_row": null,
            "grid_template_areas": null,
            "grid_template_columns": null,
            "grid_template_rows": null,
            "height": null,
            "justify_content": null,
            "justify_items": null,
            "left": null,
            "margin": null,
            "max_height": null,
            "max_width": null,
            "min_height": null,
            "min_width": null,
            "object_fit": null,
            "object_position": null,
            "order": null,
            "overflow": null,
            "overflow_x": null,
            "overflow_y": null,
            "padding": null,
            "right": null,
            "top": null,
            "visibility": null,
            "width": null
          }
        },
        "06fefaca2cf748c3b76c17662d54141c": {
          "model_module": "@jupyter-widgets/controls",
          "model_module_version": "1.5.0",
          "model_name": "DescriptionStyleModel",
          "state": {
            "_model_module": "@jupyter-widgets/controls",
            "_model_module_version": "1.5.0",
            "_model_name": "DescriptionStyleModel",
            "_view_count": null,
            "_view_module": "@jupyter-widgets/base",
            "_view_module_version": "1.2.0",
            "_view_name": "StyleView",
            "description_width": ""
          }
        },
        "0c01ab05b00f4eabac07fde9ca3d4276": {
          "model_module": "@jupyter-widgets/base",
          "model_module_version": "1.2.0",
          "model_name": "LayoutModel",
          "state": {
            "_model_module": "@jupyter-widgets/base",
            "_model_module_version": "1.2.0",
            "_model_name": "LayoutModel",
            "_view_count": null,
            "_view_module": "@jupyter-widgets/base",
            "_view_module_version": "1.2.0",
            "_view_name": "LayoutView",
            "align_content": null,
            "align_items": null,
            "align_self": null,
            "border": null,
            "bottom": null,
            "display": null,
            "flex": null,
            "flex_flow": null,
            "grid_area": null,
            "grid_auto_columns": null,
            "grid_auto_flow": null,
            "grid_auto_rows": null,
            "grid_column": null,
            "grid_gap": null,
            "grid_row": null,
            "grid_template_areas": null,
            "grid_template_columns": null,
            "grid_template_rows": null,
            "height": null,
            "justify_content": null,
            "justify_items": null,
            "left": null,
            "margin": null,
            "max_height": null,
            "max_width": null,
            "min_height": null,
            "min_width": null,
            "object_fit": null,
            "object_position": null,
            "order": null,
            "overflow": null,
            "overflow_x": null,
            "overflow_y": null,
            "padding": null,
            "right": null,
            "top": null,
            "visibility": null,
            "width": null
          }
        },
        "1b7e0aa7d45c4495a7f0e23b40c60dd7": {
          "model_module": "@jupyter-widgets/controls",
          "model_module_version": "1.5.0",
          "model_name": "HBoxModel",
          "state": {
            "_dom_classes": [],
            "_model_module": "@jupyter-widgets/controls",
            "_model_module_version": "1.5.0",
            "_model_name": "HBoxModel",
            "_view_count": null,
            "_view_module": "@jupyter-widgets/controls",
            "_view_module_version": "1.5.0",
            "_view_name": "HBoxView",
            "box_style": "",
            "children": [
              "IPY_MODEL_1e1d2e656e8d4d8abf0f1659c1ab5bc9",
              "IPY_MODEL_70781b455151477c80c52c2532374dbf",
              "IPY_MODEL_46381addd6634fb88755badd31e44166"
            ],
            "layout": "IPY_MODEL_b47c3683c279458197631d33ed0ad751"
          }
        },
        "1b9238c6d32f4b18bd5a80144936f5ca": {
          "model_module": "@jupyter-widgets/controls",
          "model_module_version": "1.5.0",
          "model_name": "DescriptionStyleModel",
          "state": {
            "_model_module": "@jupyter-widgets/controls",
            "_model_module_version": "1.5.0",
            "_model_name": "DescriptionStyleModel",
            "_view_count": null,
            "_view_module": "@jupyter-widgets/base",
            "_view_module_version": "1.2.0",
            "_view_name": "StyleView",
            "description_width": ""
          }
        },
        "1e1d2e656e8d4d8abf0f1659c1ab5bc9": {
          "model_module": "@jupyter-widgets/controls",
          "model_module_version": "1.5.0",
          "model_name": "HTMLModel",
          "state": {
            "_dom_classes": [],
            "_model_module": "@jupyter-widgets/controls",
            "_model_module_version": "1.5.0",
            "_model_name": "HTMLModel",
            "_view_count": null,
            "_view_module": "@jupyter-widgets/controls",
            "_view_module_version": "1.5.0",
            "_view_name": "HTMLView",
            "description": "",
            "description_tooltip": null,
            "layout": "IPY_MODEL_0c01ab05b00f4eabac07fde9ca3d4276",
            "placeholder": "​",
            "style": "IPY_MODEL_8287f8dcc9e74ec4a3da774ee1c8f52f",
            "value": "cf5f35f1809cf7cf18aed5a0967ced9e.grib:  62%"
          }
        },
        "3008ff352a664bd0a8d2f004a8fcb43d": {
          "model_module": "@jupyter-widgets/controls",
          "model_module_version": "1.5.0",
          "model_name": "DescriptionStyleModel",
          "state": {
            "_model_module": "@jupyter-widgets/controls",
            "_model_module_version": "1.5.0",
            "_model_name": "DescriptionStyleModel",
            "_view_count": null,
            "_view_module": "@jupyter-widgets/base",
            "_view_module_version": "1.2.0",
            "_view_name": "StyleView",
            "description_width": ""
          }
        },
        "32e5bf4690c54e30a66b503a91a6d87d": {
          "model_module": "@jupyter-widgets/base",
          "model_module_version": "1.2.0",
          "model_name": "LayoutModel",
          "state": {
            "_model_module": "@jupyter-widgets/base",
            "_model_module_version": "1.2.0",
            "_model_name": "LayoutModel",
            "_view_count": null,
            "_view_module": "@jupyter-widgets/base",
            "_view_module_version": "1.2.0",
            "_view_name": "LayoutView",
            "align_content": null,
            "align_items": null,
            "align_self": null,
            "border": null,
            "bottom": null,
            "display": null,
            "flex": null,
            "flex_flow": null,
            "grid_area": null,
            "grid_auto_columns": null,
            "grid_auto_flow": null,
            "grid_auto_rows": null,
            "grid_column": null,
            "grid_gap": null,
            "grid_row": null,
            "grid_template_areas": null,
            "grid_template_columns": null,
            "grid_template_rows": null,
            "height": null,
            "justify_content": null,
            "justify_items": null,
            "left": null,
            "margin": null,
            "max_height": null,
            "max_width": null,
            "min_height": null,
            "min_width": null,
            "object_fit": null,
            "object_position": null,
            "order": null,
            "overflow": null,
            "overflow_x": null,
            "overflow_y": null,
            "padding": null,
            "right": null,
            "top": null,
            "visibility": null,
            "width": null
          }
        },
        "3983ad5874934953bb1a4c355bcc5802": {
          "model_module": "@jupyter-widgets/controls",
          "model_module_version": "1.5.0",
          "model_name": "HTMLModel",
          "state": {
            "_dom_classes": [],
            "_model_module": "@jupyter-widgets/controls",
            "_model_module_version": "1.5.0",
            "_model_name": "HTMLModel",
            "_view_count": null,
            "_view_module": "@jupyter-widgets/controls",
            "_view_module_version": "1.5.0",
            "_view_name": "HTMLView",
            "description": "",
            "description_tooltip": null,
            "layout": "IPY_MODEL_04c91de1e346458283fd1748d6f6637c",
            "placeholder": "​",
            "style": "IPY_MODEL_06fefaca2cf748c3b76c17662d54141c",
            "value": " 1.00M/1.98M [00:01&lt;00:01, 916kB/s]"
          }
        },
        "3c9bdacb27344fd2927afcc32218ab2d": {
          "model_module": "@jupyter-widgets/controls",
          "model_module_version": "1.5.0",
          "model_name": "HBoxModel",
          "state": {
            "_dom_classes": [],
            "_model_module": "@jupyter-widgets/controls",
            "_model_module_version": "1.5.0",
            "_model_name": "HBoxModel",
            "_view_count": null,
            "_view_module": "@jupyter-widgets/controls",
            "_view_module_version": "1.5.0",
            "_view_name": "HBoxView",
            "box_style": "",
            "children": [
              "IPY_MODEL_e37c7b29c6814decbc1cca3a0631b439",
              "IPY_MODEL_9376dd0ef17549628e3c7bbed3d54782",
              "IPY_MODEL_3983ad5874934953bb1a4c355bcc5802"
            ],
            "layout": "IPY_MODEL_acf051c605ac440099bcef9d1d0f77de"
          }
        },
        "46381addd6634fb88755badd31e44166": {
          "model_module": "@jupyter-widgets/controls",
          "model_module_version": "1.5.0",
          "model_name": "HTMLModel",
          "state": {
            "_dom_classes": [],
            "_model_module": "@jupyter-widgets/controls",
            "_model_module_version": "1.5.0",
            "_model_name": "HTMLModel",
            "_view_count": null,
            "_view_module": "@jupyter-widgets/controls",
            "_view_module_version": "1.5.0",
            "_view_name": "HTMLView",
            "description": "",
            "description_tooltip": null,
            "layout": "IPY_MODEL_32e5bf4690c54e30a66b503a91a6d87d",
            "placeholder": "​",
            "style": "IPY_MODEL_1b9238c6d32f4b18bd5a80144936f5ca",
            "value": " 3.00M/4.88M [00:01&lt;00:00, 2.74MB/s]"
          }
        },
        "70781b455151477c80c52c2532374dbf": {
          "model_module": "@jupyter-widgets/controls",
          "model_module_version": "1.5.0",
          "model_name": "FloatProgressModel",
          "state": {
            "_dom_classes": [],
            "_model_module": "@jupyter-widgets/controls",
            "_model_module_version": "1.5.0",
            "_model_name": "FloatProgressModel",
            "_view_count": null,
            "_view_module": "@jupyter-widgets/controls",
            "_view_module_version": "1.5.0",
            "_view_name": "ProgressView",
            "bar_style": "",
            "description": "",
            "description_tooltip": null,
            "layout": "IPY_MODEL_9824ac0d43724c63ac985c138b42ad01",
            "max": 5112000,
            "min": 0,
            "orientation": "horizontal",
            "style": "IPY_MODEL_c12b69f53244482fa6e4f25e9161c773",
            "value": 5112000
          }
        },
        "8287f8dcc9e74ec4a3da774ee1c8f52f": {
          "model_module": "@jupyter-widgets/controls",
          "model_module_version": "1.5.0",
          "model_name": "DescriptionStyleModel",
          "state": {
            "_model_module": "@jupyter-widgets/controls",
            "_model_module_version": "1.5.0",
            "_model_name": "DescriptionStyleModel",
            "_view_count": null,
            "_view_module": "@jupyter-widgets/base",
            "_view_module_version": "1.2.0",
            "_view_name": "StyleView",
            "description_width": ""
          }
        },
        "9376dd0ef17549628e3c7bbed3d54782": {
          "model_module": "@jupyter-widgets/controls",
          "model_module_version": "1.5.0",
          "model_name": "FloatProgressModel",
          "state": {
            "_dom_classes": [],
            "_model_module": "@jupyter-widgets/controls",
            "_model_module_version": "1.5.0",
            "_model_name": "FloatProgressModel",
            "_view_count": null,
            "_view_module": "@jupyter-widgets/controls",
            "_view_module_version": "1.5.0",
            "_view_name": "ProgressView",
            "bar_style": "",
            "description": "",
            "description_tooltip": null,
            "layout": "IPY_MODEL_a3a4e2ab97bd4414bdc444ffa80e2731",
            "max": 2076588,
            "min": 0,
            "orientation": "horizontal",
            "style": "IPY_MODEL_cf90eea8d4ca4408af128ed8cb42265c",
            "value": 2076588
          }
        },
        "9824ac0d43724c63ac985c138b42ad01": {
          "model_module": "@jupyter-widgets/base",
          "model_module_version": "1.2.0",
          "model_name": "LayoutModel",
          "state": {
            "_model_module": "@jupyter-widgets/base",
            "_model_module_version": "1.2.0",
            "_model_name": "LayoutModel",
            "_view_count": null,
            "_view_module": "@jupyter-widgets/base",
            "_view_module_version": "1.2.0",
            "_view_name": "LayoutView",
            "align_content": null,
            "align_items": null,
            "align_self": null,
            "border": null,
            "bottom": null,
            "display": null,
            "flex": null,
            "flex_flow": null,
            "grid_area": null,
            "grid_auto_columns": null,
            "grid_auto_flow": null,
            "grid_auto_rows": null,
            "grid_column": null,
            "grid_gap": null,
            "grid_row": null,
            "grid_template_areas": null,
            "grid_template_columns": null,
            "grid_template_rows": null,
            "height": null,
            "justify_content": null,
            "justify_items": null,
            "left": null,
            "margin": null,
            "max_height": null,
            "max_width": null,
            "min_height": null,
            "min_width": null,
            "object_fit": null,
            "object_position": null,
            "order": null,
            "overflow": null,
            "overflow_x": null,
            "overflow_y": null,
            "padding": null,
            "right": null,
            "top": null,
            "visibility": null,
            "width": null
          }
        },
        "a2826cd66d5540ea96af29cd94ce39f8": {
          "model_module": "@jupyter-widgets/base",
          "model_module_version": "1.2.0",
          "model_name": "LayoutModel",
          "state": {
            "_model_module": "@jupyter-widgets/base",
            "_model_module_version": "1.2.0",
            "_model_name": "LayoutModel",
            "_view_count": null,
            "_view_module": "@jupyter-widgets/base",
            "_view_module_version": "1.2.0",
            "_view_name": "LayoutView",
            "align_content": null,
            "align_items": null,
            "align_self": null,
            "border": null,
            "bottom": null,
            "display": null,
            "flex": null,
            "flex_flow": null,
            "grid_area": null,
            "grid_auto_columns": null,
            "grid_auto_flow": null,
            "grid_auto_rows": null,
            "grid_column": null,
            "grid_gap": null,
            "grid_row": null,
            "grid_template_areas": null,
            "grid_template_columns": null,
            "grid_template_rows": null,
            "height": null,
            "justify_content": null,
            "justify_items": null,
            "left": null,
            "margin": null,
            "max_height": null,
            "max_width": null,
            "min_height": null,
            "min_width": null,
            "object_fit": null,
            "object_position": null,
            "order": null,
            "overflow": null,
            "overflow_x": null,
            "overflow_y": null,
            "padding": null,
            "right": null,
            "top": null,
            "visibility": null,
            "width": null
          }
        },
        "a3a4e2ab97bd4414bdc444ffa80e2731": {
          "model_module": "@jupyter-widgets/base",
          "model_module_version": "1.2.0",
          "model_name": "LayoutModel",
          "state": {
            "_model_module": "@jupyter-widgets/base",
            "_model_module_version": "1.2.0",
            "_model_name": "LayoutModel",
            "_view_count": null,
            "_view_module": "@jupyter-widgets/base",
            "_view_module_version": "1.2.0",
            "_view_name": "LayoutView",
            "align_content": null,
            "align_items": null,
            "align_self": null,
            "border": null,
            "bottom": null,
            "display": null,
            "flex": null,
            "flex_flow": null,
            "grid_area": null,
            "grid_auto_columns": null,
            "grid_auto_flow": null,
            "grid_auto_rows": null,
            "grid_column": null,
            "grid_gap": null,
            "grid_row": null,
            "grid_template_areas": null,
            "grid_template_columns": null,
            "grid_template_rows": null,
            "height": null,
            "justify_content": null,
            "justify_items": null,
            "left": null,
            "margin": null,
            "max_height": null,
            "max_width": null,
            "min_height": null,
            "min_width": null,
            "object_fit": null,
            "object_position": null,
            "order": null,
            "overflow": null,
            "overflow_x": null,
            "overflow_y": null,
            "padding": null,
            "right": null,
            "top": null,
            "visibility": null,
            "width": null
          }
        },
        "acf051c605ac440099bcef9d1d0f77de": {
          "model_module": "@jupyter-widgets/base",
          "model_module_version": "1.2.0",
          "model_name": "LayoutModel",
          "state": {
            "_model_module": "@jupyter-widgets/base",
            "_model_module_version": "1.2.0",
            "_model_name": "LayoutModel",
            "_view_count": null,
            "_view_module": "@jupyter-widgets/base",
            "_view_module_version": "1.2.0",
            "_view_name": "LayoutView",
            "align_content": null,
            "align_items": null,
            "align_self": null,
            "border": null,
            "bottom": null,
            "display": null,
            "flex": null,
            "flex_flow": null,
            "grid_area": null,
            "grid_auto_columns": null,
            "grid_auto_flow": null,
            "grid_auto_rows": null,
            "grid_column": null,
            "grid_gap": null,
            "grid_row": null,
            "grid_template_areas": null,
            "grid_template_columns": null,
            "grid_template_rows": null,
            "height": null,
            "justify_content": null,
            "justify_items": null,
            "left": null,
            "margin": null,
            "max_height": null,
            "max_width": null,
            "min_height": null,
            "min_width": null,
            "object_fit": null,
            "object_position": null,
            "order": null,
            "overflow": null,
            "overflow_x": null,
            "overflow_y": null,
            "padding": null,
            "right": null,
            "top": null,
            "visibility": "hidden",
            "width": null
          }
        },
        "b47c3683c279458197631d33ed0ad751": {
          "model_module": "@jupyter-widgets/base",
          "model_module_version": "1.2.0",
          "model_name": "LayoutModel",
          "state": {
            "_model_module": "@jupyter-widgets/base",
            "_model_module_version": "1.2.0",
            "_model_name": "LayoutModel",
            "_view_count": null,
            "_view_module": "@jupyter-widgets/base",
            "_view_module_version": "1.2.0",
            "_view_name": "LayoutView",
            "align_content": null,
            "align_items": null,
            "align_self": null,
            "border": null,
            "bottom": null,
            "display": null,
            "flex": null,
            "flex_flow": null,
            "grid_area": null,
            "grid_auto_columns": null,
            "grid_auto_flow": null,
            "grid_auto_rows": null,
            "grid_column": null,
            "grid_gap": null,
            "grid_row": null,
            "grid_template_areas": null,
            "grid_template_columns": null,
            "grid_template_rows": null,
            "height": null,
            "justify_content": null,
            "justify_items": null,
            "left": null,
            "margin": null,
            "max_height": null,
            "max_width": null,
            "min_height": null,
            "min_width": null,
            "object_fit": null,
            "object_position": null,
            "order": null,
            "overflow": null,
            "overflow_x": null,
            "overflow_y": null,
            "padding": null,
            "right": null,
            "top": null,
            "visibility": "hidden",
            "width": null
          }
        },
        "c12b69f53244482fa6e4f25e9161c773": {
          "model_module": "@jupyter-widgets/controls",
          "model_module_version": "1.5.0",
          "model_name": "ProgressStyleModel",
          "state": {
            "_model_module": "@jupyter-widgets/controls",
            "_model_module_version": "1.5.0",
            "_model_name": "ProgressStyleModel",
            "_view_count": null,
            "_view_module": "@jupyter-widgets/base",
            "_view_module_version": "1.2.0",
            "_view_name": "StyleView",
            "bar_color": null,
            "description_width": ""
          }
        },
        "cf90eea8d4ca4408af128ed8cb42265c": {
          "model_module": "@jupyter-widgets/controls",
          "model_module_version": "1.5.0",
          "model_name": "ProgressStyleModel",
          "state": {
            "_model_module": "@jupyter-widgets/controls",
            "_model_module_version": "1.5.0",
            "_model_name": "ProgressStyleModel",
            "_view_count": null,
            "_view_module": "@jupyter-widgets/base",
            "_view_module_version": "1.2.0",
            "_view_name": "StyleView",
            "bar_color": null,
            "description_width": ""
          }
        },
        "e37c7b29c6814decbc1cca3a0631b439": {
          "model_module": "@jupyter-widgets/controls",
          "model_module_version": "1.5.0",
          "model_name": "HTMLModel",
          "state": {
            "_dom_classes": [],
            "_model_module": "@jupyter-widgets/controls",
            "_model_module_version": "1.5.0",
            "_model_name": "HTMLModel",
            "_view_count": null,
            "_view_module": "@jupyter-widgets/controls",
            "_view_module_version": "1.5.0",
            "_view_name": "HTMLView",
            "description": "",
            "description_tooltip": null,
            "layout": "IPY_MODEL_a2826cd66d5540ea96af29cd94ce39f8",
            "placeholder": "​",
            "style": "IPY_MODEL_3008ff352a664bd0a8d2f004a8fcb43d",
            "value": "79e8588ed2d6bf970f3f56839d004865.grib:  50%"
          }
        }
      }
    }
  },
  "nbformat": 4,
  "nbformat_minor": 0
}
